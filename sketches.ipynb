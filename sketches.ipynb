{
 "metadata": {
  "language_info": {
   "codemirror_mode": {
    "name": "ipython",
    "version": 3
   },
   "file_extension": ".py",
   "mimetype": "text/x-python",
   "name": "python",
   "nbconvert_exporter": "python",
   "pygments_lexer": "ipython3",
   "version": "3.7.3"
  },
  "orig_nbformat": 2,
  "kernelspec": {
   "name": "python3",
   "display_name": "Python 3.7.3 32-bit ('wled-env': venv)"
  },
  "metadata": {
   "interpreter": {
    "hash": "a8d442f6dd62b609d6bd95fbce93bba865aab1059e13b46fe6c1425095fb225a"
   }
  },
  "interpreter": {
   "hash": "6fe9cd9fac552e62f374ec7eef16efd356f179919b5b6f05cf79790ee8464d0a"
  }
 },
 "nbformat": 4,
 "nbformat_minor": 2,
 "cells": [
  {
   "cell_type": "markdown",
   "source": [],
   "metadata": {}
  },
  {
   "cell_type": "markdown",
   "source": [
    "## DMX interface"
   ],
   "metadata": {}
  },
  {
   "cell_type": "code",
   "execution_count": 1,
   "source": [
    "import wled_common_client, importlib    \n",
    "importlib.reload(wled_common_client)\n",
    "from wled_common_client import Wled, Wleds"
   ],
   "outputs": [],
   "metadata": {}
  },
  {
   "cell_type": "code",
   "execution_count": 2,
   "source": [
    "import time"
   ],
   "outputs": [],
   "metadata": {}
  },
  {
   "cell_type": "code",
   "execution_count": 4,
   "source": [
    "w = Wled(\"192.168.0.166\")\n",
    "w.cache_fs()\n",
    "w.name = w.cfg[\"id\"][\"name\"]\n",
    "wleds = Wleds.from_one_node(w)"
   ],
   "outputs": [],
   "metadata": {}
  },
  {
   "cell_type": "code",
   "execution_count": 18,
   "source": [
    "# wl1 = wleds[\"WLED-Dima-Office\"]\n",
    "wl1 = wleds[\"WLED-L-frame-2\"]\n",
    "wl1.cache_fs()"
   ],
   "outputs": [],
   "metadata": {}
  },
  {
   "cell_type": "code",
   "execution_count": 19,
   "source": [
    "wl1.dmx.start()"
   ],
   "outputs": [],
   "metadata": {}
  },
  {
   "cell_type": "code",
   "execution_count": 20,
   "source": [
    "data = [255, 255,0] * (wl1.dmx.n_leds//2 )\n",
    "data += [0, 255,0] * (len(data) - wl1.dmx.n_leds)"
   ],
   "outputs": [],
   "metadata": {}
  },
  {
   "cell_type": "code",
   "execution_count": 21,
   "source": [
    "for i in range(1000):\n",
    "    wl1.dmx.set_data(data)\n",
    "    time.sleep(0.01)\n",
    "    for i in range(3):\n",
    "        data.insert(0, data.pop())"
   ],
   "outputs": [],
   "metadata": {}
  },
  {
   "cell_type": "code",
   "execution_count": 16,
   "source": [
    "wl1.dmx.set_data(data)"
   ],
   "outputs": [],
   "metadata": {}
  },
  {
   "cell_type": "code",
   "execution_count": 22,
   "source": [
    "wl1.dmx.stop()"
   ],
   "outputs": [],
   "metadata": {}
  },
  {
   "cell_type": "markdown",
   "source": [
    "## DMX experiments"
   ],
   "metadata": {}
  },
  {
   "cell_type": "code",
   "execution_count": 30,
   "source": [
    "import sacn\n",
    "import time\n",
    "import math"
   ],
   "outputs": [],
   "metadata": {}
  },
  {
   "cell_type": "code",
   "execution_count": 36,
   "source": [
    "# sender = sacn.sACNsender(bind_address=\"192.168.0.16\")  # provide an IP-Address to bind to if you are using Windows and want to use multicast\n",
    "sender = sacn.sACNsender()  # provide an IP-Address to bind to if you are using Windows and want to use multicast\n",
    "sender.start()  # start the sending thread"
   ],
   "outputs": [],
   "metadata": {}
  },
  {
   "cell_type": "code",
   "execution_count": 42,
   "source": [
    "\n",
    "sender.activate_output(1)  # start sending out data in the 1st universe\n",
    "# sender.activate_output(2)  # start sending out data in the 1st universe\n",
    "sender[1].multicast = True  # set multicast to True\n",
    "sender[1].fps=10\n",
    "# sender[2].multicast = True  # set multicast to True\n",
    "# sender.destination = \"192.168.0.14\"  # or provide unicast information.\n",
    "# sender[1].destination = \"192.168.0.122\"  # or provide unicast information.\n",
    "# sender[2].destination = sender[1].destination  # or provide unicast information.\n",
    "# sender[1].fps = 60\n",
    "# Keep in mind that if multicast is on, unicast is not used\n",
    "\n"
   ],
   "outputs": [],
   "metadata": {}
  },
  {
   "cell_type": "code",
   "execution_count": 41,
   "source": [
    "sender[1].dmx_data = tuple([0, 0, 0] * 100 + [255, 0, 0] * 70 )  # some test DMX data\n"
   ],
   "outputs": [],
   "metadata": {}
  },
  {
   "cell_type": "code",
   "execution_count": 40,
   "source": [
    "sender[2].dmx_data = tuple([0, 0, 0]*10 + [255, 0, 0]*166)  # some test DMX data\n"
   ],
   "outputs": [
    {
     "output_type": "error",
     "ename": "AttributeError",
     "evalue": "'NoneType' object has no attribute 'dmx_data'",
     "traceback": [
      "\u001b[0;31m---------------------------------------------------------------------------\u001b[0m",
      "\u001b[0;31mAttributeError\u001b[0m                            Traceback (most recent call last)",
      "\u001b[0;32m/tmp/ipykernel_1657/2433745147.py\u001b[0m in \u001b[0;36m<module>\u001b[0;34m\u001b[0m\n\u001b[0;32m----> 1\u001b[0;31m \u001b[0msender\u001b[0m\u001b[0;34m[\u001b[0m\u001b[0;36m2\u001b[0m\u001b[0;34m]\u001b[0m\u001b[0;34m.\u001b[0m\u001b[0mdmx_data\u001b[0m \u001b[0;34m=\u001b[0m \u001b[0mtuple\u001b[0m\u001b[0;34m(\u001b[0m\u001b[0;34m[\u001b[0m\u001b[0;36m0\u001b[0m\u001b[0;34m,\u001b[0m \u001b[0;36m0\u001b[0m\u001b[0;34m,\u001b[0m \u001b[0;36m0\u001b[0m\u001b[0;34m]\u001b[0m\u001b[0;34m*\u001b[0m\u001b[0;36m10\u001b[0m \u001b[0;34m+\u001b[0m \u001b[0;34m[\u001b[0m\u001b[0;36m255\u001b[0m\u001b[0;34m,\u001b[0m \u001b[0;36m0\u001b[0m\u001b[0;34m,\u001b[0m \u001b[0;36m0\u001b[0m\u001b[0;34m]\u001b[0m\u001b[0;34m*\u001b[0m\u001b[0;36m166\u001b[0m\u001b[0;34m)\u001b[0m  \u001b[0;31m# some test DMX data\u001b[0m\u001b[0;34m\u001b[0m\u001b[0;34m\u001b[0m\u001b[0m\n\u001b[0m",
      "\u001b[0;31mAttributeError\u001b[0m: 'NoneType' object has no attribute 'dmx_data'"
     ]
    }
   ],
   "metadata": {}
  },
  {
   "cell_type": "code",
   "execution_count": 35,
   "source": [
    "sender.stop()  # do not forget to stop the sender"
   ],
   "outputs": [],
   "metadata": {}
  },
  {
   "cell_type": "code",
   "execution_count": 28,
   "source": [
    "math.ceil(1000/ (512//3))"
   ],
   "outputs": [
    {
     "output_type": "execute_result",
     "data": {
      "text/plain": [
       "6"
      ]
     },
     "metadata": {},
     "execution_count": 28
    }
   ],
   "metadata": {}
  },
  {
   "cell_type": "markdown",
   "source": [
    "## Semi-manual updates"
   ],
   "metadata": {}
  },
  {
   "cell_type": "code",
   "execution_count": 5,
   "source": [
    "import wled_common_client, importlib    \n",
    "importlib.reload(wled_common_client)\n",
    "from wled_common_client import Wled, Wleds"
   ],
   "outputs": [],
   "metadata": {}
  },
  {
   "cell_type": "code",
   "execution_count": 6,
   "source": [
    "from omegaconf import DictConfig, OmegaConf, ListConfig"
   ],
   "outputs": [],
   "metadata": {}
  },
  {
   "cell_type": "code",
   "execution_count": 9,
   "source": [
    "w = Wled(\"192.168.0.109\")\n",
    "w.cache_fs()\n",
    "w.name = w.cfg[\"id\"][\"name\"]\n",
    "wleds = Wleds.from_one_node(w)"
   ],
   "outputs": [],
   "metadata": {}
  },
  {
   "cell_type": "code",
   "execution_count": 25,
   "source": [
    "for wled in wleds:\n",
    "    wled.cache_fs()\n",
    "    # wled.dump_fs(\"config_dump_names/{name}\")"
   ],
   "outputs": [],
   "metadata": {}
  },
  {
   "cell_type": "code",
   "execution_count": 29,
   "source": [
    "for wled in wleds:\n",
    "    wled.update_time()\n",
    "    print (wled.name)"
   ],
   "outputs": [
    {
     "output_type": "stream",
     "name": "stdout",
     "text": [
      "WLED-L-frame-2\n",
      "WLED-M-frame-1\n",
      "WLED-spatial-test\n",
      "WLED-L-frame-1\n"
     ]
    }
   ],
   "metadata": {}
  },
  {
   "cell_type": "code",
   "execution_count": null,
   "source": [
    "for wled in wleds:\n",
    "    wled.dump_omegaconf()"
   ],
   "outputs": [],
   "metadata": {}
  },
  {
   "cell_type": "code",
   "execution_count": null,
   "source": [
    "for wled in wleds:\n",
    "    wled.presets = OmegaConf.to_container(OmegaConf.load(\"default_presets.yaml\"))\n",
    "    wled.upload_presets()"
   ],
   "outputs": [],
   "metadata": {}
  },
  {
   "cell_type": "code",
   "execution_count": null,
   "source": [
    "for wled in wleds:\n",
    "    oc_dir = wled.get_fs_dump_dir(\"omegaconf_source/{name}\")\n",
    "    cfg_yaml = f\"{oc_dir}/cfg.yaml\"\n",
    "    ww = Wled.from_omegaconf(additional_confs=[cfg_yaml])\n",
    "    ww.ip = wled.ip\n",
    "    ww.upload_cfg()"
   ],
   "outputs": [],
   "metadata": {}
  },
  {
   "cell_type": "code",
   "execution_count": null,
   "source": [
    "for wled in wleds:\n",
    "    oc_dir = self.get_fs_dump_dir(wled_common_client.OMEGACONF_DUMP_DIR)\n",
    "    cfg_yaml = f\"{oc_dir}/cfg.yaml\"\n",
    "    presets_yaml = f\"{oc_dir}/presets.yaml\"\n",
    "    wled.presets = OmegaConf.load(presets_yaml)\n",
    "    wled.cfg = OmegaConf.load(presets_yaml)"
   ],
   "outputs": [],
   "metadata": {}
  },
  {
   "cell_type": "code",
   "execution_count": null,
   "source": [
    "yaml.load()"
   ],
   "outputs": [],
   "metadata": {}
  },
  {
   "cell_type": "markdown",
   "source": [
    "## Tidying up presets"
   ],
   "metadata": {}
  },
  {
   "cell_type": "code",
   "execution_count": 158,
   "source": [
    "import json\n",
    "from ruamel.yaml import YAML\n",
    "yaml = YAML()"
   ],
   "outputs": [],
   "metadata": {}
  },
  {
   "cell_type": "code",
   "execution_count": 119,
   "source": [
    "with open(\"config_dump/WLED-Dima-Office/presets.json\") as js:\n",
    "    p = yaml.load(js)"
   ],
   "outputs": [],
   "metadata": {}
  },
  {
   "cell_type": "code",
   "execution_count": 120,
   "source": [
    "# yaml.compact_seq_seq = True\n",
    "# yaml.compact_seq_map = False\n",
    "yaml.width = 10**7\n",
    "yaml.top_level_colon_align = True\n"
   ],
   "outputs": [],
   "metadata": {}
  },
  {
   "cell_type": "code",
   "execution_count": 121,
   "source": [
    "p.fa.set_block_style()\n",
    "for k in p.keys():\n",
    "    p[k].fa.set_block_style()"
   ],
   "outputs": [],
   "metadata": {}
  },
  {
   "cell_type": "code",
   "execution_count": 97,
   "source": [],
   "outputs": [],
   "metadata": {}
  },
  {
   "cell_type": "code",
   "execution_count": 122,
   "source": [
    "with open(\"default_presets.yaml\", \"w\") as y:\n",
    "    yaml.dump(p, y)\n"
   ],
   "outputs": [],
   "metadata": {}
  },
  {
   "cell_type": "code",
   "execution_count": null,
   "source": [],
   "outputs": [],
   "metadata": {}
  },
  {
   "cell_type": "markdown",
   "source": [
    "# MIDI"
   ],
   "metadata": {}
  },
  {
   "cell_type": "code",
   "execution_count": 1,
   "source": [
    "import sys\n",
    "import os\n",
    "\n",
    "import pygame as pg\n",
    "import pygame.midi\n",
    "\n",
    "\n",
    "def print_device_info():\n",
    "    pygame.midi.init()\n",
    "    _print_device_info()\n",
    "    pygame.midi.quit()\n",
    "\n",
    "\n",
    "def _print_device_info():\n",
    "    for i in range(pygame.midi.get_count()):\n",
    "        r = pygame.midi.get_device_info(i)\n",
    "        (interf, name, input, output, opened) = r\n",
    "\n",
    "        in_out = \"\"\n",
    "        if input:\n",
    "            in_out = \"(input)\"\n",
    "        if output:\n",
    "            in_out = \"(output)\"\n",
    "\n",
    "        print(\n",
    "            \"%2i: interface :%s:, name :%s:, opened :%s:  %s\"\n",
    "            % (i, interf, name, opened, in_out)\n",
    "        )\n",
    "\n",
    "\n",
    "def input_main(device_id=None):\n",
    "    pg.init()\n",
    "    pg.fastevent.init()\n",
    "    event_get = pg.fastevent.get\n",
    "    event_post = pg.fastevent.post\n",
    "\n",
    "    pygame.midi.init()\n",
    "\n",
    "    _print_device_info()\n",
    "\n",
    "    if device_id is None:\n",
    "        input_id = pygame.midi.get_default_input_id()\n",
    "    else:\n",
    "        input_id = device_id\n",
    "\n",
    "    print(\"using input_id :%s:\" % input_id)\n",
    "    i = pygame.midi.Input(input_id)\n",
    "\n",
    "    pg.display.set_mode((1, 1))\n",
    "\n",
    "    going = True\n",
    "    while going:\n",
    "        events = event_get()\n",
    "        for e in events:\n",
    "            if e.type in [pg.QUIT]:\n",
    "                going = False\n",
    "            if e.type in [pg.KEYDOWN]:\n",
    "                going = False\n",
    "            if e.type in [pygame.midi.MIDIIN]:\n",
    "                print(e)\n",
    "\n",
    "        if i.poll():\n",
    "            midi_events = i.read(10)\n",
    "            # convert them into pygame events.\n",
    "            midi_evs = pygame.midi.midis2events(midi_events, i.device_id)\n",
    "\n",
    "            for m_e in midi_evs:\n",
    "                event_post(m_e)\n",
    "\n",
    "    del i\n",
    "    pygame.midi.quit()"
   ],
   "outputs": [
    {
     "output_type": "stream",
     "name": "stdout",
     "text": [
      "pygame 2.0.1 (SDL 2.0.14, Python 3.9.1)\n",
      "Hello from the pygame community. https://www.pygame.org/contribute.html\n"
     ]
    }
   ],
   "metadata": {}
  },
  {
   "cell_type": "code",
   "execution_count": null,
   "source": [
    "input_main()"
   ],
   "outputs": [],
   "metadata": {}
  },
  {
   "cell_type": "code",
   "execution_count": null,
   "source": [],
   "outputs": [],
   "metadata": {}
  }
 ]
}