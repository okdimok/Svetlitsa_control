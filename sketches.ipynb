{
 "cells": [
  {
   "cell_type": "markdown",
   "metadata": {},
   "source": [
    "## DMX interface"
   ]
  },
  {
   "cell_type": "code",
   "execution_count": 1,
   "metadata": {},
   "outputs": [],
   "source": [
    "import wled_common_client, importlib    \n",
    "importlib.reload(wled_common_client)\n",
    "from wled_common_client import Wled, Wleds"
   ]
  },
  {
   "cell_type": "code",
   "execution_count": 2,
   "metadata": {},
   "outputs": [],
   "source": [
    "import time"
   ]
  },
  {
   "cell_type": "code",
   "execution_count": 6,
   "metadata": {},
   "outputs": [],
   "source": [
    "wleds = Wleds.from_one_ip(\"192.168.0.15\")\n",
    "wleds.cache_fs()"
   ]
  },
  {
   "cell_type": "code",
   "execution_count": 7,
   "metadata": {},
   "outputs": [
    {
     "data": {
      "text/plain": [
       "'2021-09-16 18:01:17.267833'"
      ]
     },
     "execution_count": 7,
     "metadata": {},
     "output_type": "execute_result"
    }
   ],
   "source": [
    "import datetime\n",
    "f\"{datetime.datetime.now()}\""
   ]
  },
  {
   "cell_type": "code",
   "execution_count": 8,
   "metadata": {},
   "outputs": [
    {
     "ename": "AttributeError",
     "evalue": "'NoneType' object has no attribute 'cache_fs'",
     "output_type": "error",
     "traceback": [
      "\u001b[1;31m---------------------------------------------------------------------------\u001b[0m",
      "\u001b[1;31mAttributeError\u001b[0m                            Traceback (most recent call last)",
      "\u001b[1;32m~\\AppData\\Local\\Temp/ipykernel_9144/478216400.py\u001b[0m in \u001b[0;36m<module>\u001b[1;34m\u001b[0m\n\u001b[0;32m      1\u001b[0m \u001b[1;31m# wl1 = wleds[\"WLED-Dima-Office\"]\u001b[0m\u001b[1;33m\u001b[0m\u001b[1;33m\u001b[0m\u001b[1;33m\u001b[0m\u001b[0m\n\u001b[0;32m      2\u001b[0m \u001b[0mwl1\u001b[0m \u001b[1;33m=\u001b[0m \u001b[0mwleds\u001b[0m\u001b[1;33m[\u001b[0m\u001b[1;34m\"WLED-L-frame-mirror\"\u001b[0m\u001b[1;33m]\u001b[0m\u001b[1;33m\u001b[0m\u001b[1;33m\u001b[0m\u001b[0m\n\u001b[1;32m----> 3\u001b[1;33m \u001b[0mwl1\u001b[0m\u001b[1;33m.\u001b[0m\u001b[0mcache_fs\u001b[0m\u001b[1;33m(\u001b[0m\u001b[1;33m)\u001b[0m\u001b[1;33m\u001b[0m\u001b[1;33m\u001b[0m\u001b[0m\n\u001b[0m",
      "\u001b[1;31mAttributeError\u001b[0m: 'NoneType' object has no attribute 'cache_fs'"
     ]
    }
   ],
   "source": [
    "# wl1 = wleds[\"WLED-Dima-Office\"]\n",
    "wl1 = wleds[\"WLED-L-frame-mirror\"]\n",
    "wl1.cache_fs()"
   ]
  },
  {
   "cell_type": "code",
   "execution_count": 19,
   "metadata": {},
   "outputs": [],
   "source": [
    "wl1.dmx.start()"
   ]
  },
  {
   "cell_type": "code",
   "execution_count": 20,
   "metadata": {},
   "outputs": [],
   "source": [
    "data = [255, 255,0] * (wl1.dmx.n_leds//2 )\n",
    "data += [0, 255,0] * (len(data) - wl1.dmx.n_leds)"
   ]
  },
  {
   "cell_type": "code",
   "execution_count": 21,
   "metadata": {},
   "outputs": [],
   "source": [
    "for i in range(1000):\n",
    "    wl1.dmx.set_data(data)\n",
    "    time.sleep(0.01)\n",
    "    for i in range(3):\n",
    "        data.insert(0, data.pop())"
   ]
  },
  {
   "cell_type": "code",
   "execution_count": 16,
   "metadata": {},
   "outputs": [],
   "source": [
    "wl1.dmx.set_data(data)"
   ]
  },
  {
   "cell_type": "code",
   "execution_count": 22,
   "metadata": {},
   "outputs": [],
   "source": [
    "wl1.dmx.stop()"
   ]
  },
  {
   "cell_type": "markdown",
   "metadata": {},
   "source": [
    "## DMX experiments"
   ]
  },
  {
   "cell_type": "code",
   "execution_count": 30,
   "metadata": {},
   "outputs": [],
   "source": [
    "import sacn\n",
    "import time\n",
    "import math"
   ]
  },
  {
   "cell_type": "code",
   "execution_count": 36,
   "metadata": {},
   "outputs": [],
   "source": [
    "# sender = sacn.sACNsender(bind_address=\"192.168.0.16\")  # provide an IP-Address to bind to if you are using Windows and want to use multicast\n",
    "sender = sacn.sACNsender()  # provide an IP-Address to bind to if you are using Windows and want to use multicast\n",
    "sender.start()  # start the sending thread"
   ]
  },
  {
   "cell_type": "code",
   "execution_count": 42,
   "metadata": {},
   "outputs": [],
   "source": [
    "\n",
    "sender.activate_output(1)  # start sending out data in the 1st universe\n",
    "# sender.activate_output(2)  # start sending out data in the 1st universe\n",
    "sender[1].multicast = True  # set multicast to True\n",
    "sender[1].fps=10\n",
    "# sender[2].multicast = True  # set multicast to True\n",
    "# sender.destination = \"192.168.0.14\"  # or provide unicast information.\n",
    "# sender[1].destination = \"192.168.0.122\"  # or provide unicast information.\n",
    "# sender[2].destination = sender[1].destination  # or provide unicast information.\n",
    "# sender[1].fps = 60\n",
    "# Keep in mind that if multicast is on, unicast is not used\n",
    "\n"
   ]
  },
  {
   "cell_type": "code",
   "execution_count": 41,
   "metadata": {},
   "outputs": [],
   "source": [
    "sender[1].dmx_data = tuple([0, 0, 0] * 100 + [255, 0, 0] * 70 )  # some test DMX data\n"
   ]
  },
  {
   "cell_type": "code",
   "execution_count": 40,
   "metadata": {},
   "outputs": [
    {
     "ename": "AttributeError",
     "evalue": "'NoneType' object has no attribute 'dmx_data'",
     "output_type": "error",
     "traceback": [
      "\u001b[0;31m---------------------------------------------------------------------------\u001b[0m",
      "\u001b[0;31mAttributeError\u001b[0m                            Traceback (most recent call last)",
      "\u001b[0;32m/tmp/ipykernel_1657/2433745147.py\u001b[0m in \u001b[0;36m<module>\u001b[0;34m\u001b[0m\n\u001b[0;32m----> 1\u001b[0;31m \u001b[0msender\u001b[0m\u001b[0;34m[\u001b[0m\u001b[0;36m2\u001b[0m\u001b[0;34m]\u001b[0m\u001b[0;34m.\u001b[0m\u001b[0mdmx_data\u001b[0m \u001b[0;34m=\u001b[0m \u001b[0mtuple\u001b[0m\u001b[0;34m(\u001b[0m\u001b[0;34m[\u001b[0m\u001b[0;36m0\u001b[0m\u001b[0;34m,\u001b[0m \u001b[0;36m0\u001b[0m\u001b[0;34m,\u001b[0m \u001b[0;36m0\u001b[0m\u001b[0;34m]\u001b[0m\u001b[0;34m*\u001b[0m\u001b[0;36m10\u001b[0m \u001b[0;34m+\u001b[0m \u001b[0;34m[\u001b[0m\u001b[0;36m255\u001b[0m\u001b[0;34m,\u001b[0m \u001b[0;36m0\u001b[0m\u001b[0;34m,\u001b[0m \u001b[0;36m0\u001b[0m\u001b[0;34m]\u001b[0m\u001b[0;34m*\u001b[0m\u001b[0;36m166\u001b[0m\u001b[0;34m)\u001b[0m  \u001b[0;31m# some test DMX data\u001b[0m\u001b[0;34m\u001b[0m\u001b[0;34m\u001b[0m\u001b[0m\n\u001b[0m",
      "\u001b[0;31mAttributeError\u001b[0m: 'NoneType' object has no attribute 'dmx_data'"
     ]
    }
   ],
   "source": [
    "sender[2].dmx_data = tuple([0, 0, 0]*10 + [255, 0, 0]*166)  # some test DMX data\n"
   ]
  },
  {
   "cell_type": "code",
   "execution_count": 35,
   "metadata": {},
   "outputs": [],
   "source": [
    "sender.stop()  # do not forget to stop the sender"
   ]
  },
  {
   "cell_type": "code",
   "execution_count": 28,
   "metadata": {},
   "outputs": [
    {
     "data": {
      "text/plain": [
       "6"
      ]
     },
     "execution_count": 28,
     "metadata": {},
     "output_type": "execute_result"
    }
   ],
   "source": [
    "math.ceil(1000/ (512//3))"
   ]
  },
  {
   "cell_type": "markdown",
   "metadata": {},
   "source": [
    "## Semi-manual updates"
   ]
  },
  {
   "cell_type": "code",
   "execution_count": 91,
   "metadata": {},
   "outputs": [],
   "source": [
    "import wled_common_client, importlib    \n",
    "importlib.reload(wled_common_client)\n",
    "from wled_common_client import Wled, Wleds\n",
    "from scripts.local_env import default_wled_ip"
   ]
  },
  {
   "cell_type": "code",
   "execution_count": 87,
   "metadata": {},
   "outputs": [],
   "source": [
    "# Wled.from_omegaconf().cfg['timers']"
   ]
  },
  {
   "cell_type": "code",
   "execution_count": 88,
   "metadata": {},
   "outputs": [],
   "source": [
    "from omegaconf import DictConfig, OmegaConf, ListConfig"
   ]
  },
  {
   "cell_type": "code",
   "execution_count": 92,
   "metadata": {},
   "outputs": [],
   "source": [
    "wleds = Wleds.from_one_ip(default_wled_ip())\n",
    "# wleds.cache_fs()"
   ]
  },
  {
   "cell_type": "code",
   "execution_count": 105,
   "metadata": {},
   "outputs": [],
   "source": [
    "import wled_common_client, importlib    \n",
    "importlib.reload(wled_common_client)\n",
    "from wled_common_client import Wled, Wleds\n",
    "from scripts.local_env import default_wled_ip\n",
    "wleds = Wleds.from_one_ip(default_wled_ip())\n"
   ]
  },
  {
   "cell_type": "code",
   "execution_count": 96,
   "metadata": {},
   "outputs": [
    {
     "name": "stderr",
     "output_type": "stream",
     "text": [
      "UsageError: Cell magic `%%autoreload` not found.\n"
     ]
    }
   ],
   "source": [
    "%%autoreload"
   ]
  },
  {
   "cell_type": "code",
   "execution_count": 61,
   "metadata": {},
   "outputs": [
    {
     "data": {
      "text/plain": [
       "True"
      ]
     },
     "execution_count": 61,
     "metadata": {},
     "output_type": "execute_result"
    }
   ],
   "source": [
    "os.path.isfile(\"../../Arduino/WLED/build_output/firmware/d1_mini.bin\")"
   ]
  },
  {
   "cell_type": "code",
   "execution_count": 70,
   "metadata": {},
   "outputs": [
    {
     "data": {
      "text/plain": [
       "{'rev': [1, 0],\n",
       " 'vid': 2110110,\n",
       " 'id': {'mdns': 'wled-dima-office',\n",
       "  'name': 'WLED-Dima-Office',\n",
       "  'inv': 'Light'},\n",
       " 'nw': {'ins': [{'ssid': 'Vadkovsky_TV',\n",
       "    'pskl': 15,\n",
       "    'ip': [0, 0, 0, 0],\n",
       "    'gw': [0, 0, 0, 0],\n",
       "    'sn': [255, 255, 255, 0]}]},\n",
       " 'ap': {'ssid': 'WLED-AP',\n",
       "  'pskl': 8,\n",
       "  'chan': 1,\n",
       "  'hide': 0,\n",
       "  'behav': 0,\n",
       "  'ip': [4, 3, 2, 1]},\n",
       " 'wifi': {'sleep': False},\n",
       " 'hw': {'led': {'total': 200,\n",
       "   'maxpwr': 6000,\n",
       "   'ledma': 55,\n",
       "   'rgbwm': 3,\n",
       "   'ins': [{'start': 0,\n",
       "     'len': 200,\n",
       "     'pin': [4],\n",
       "     'order': 0,\n",
       "     'rev': False,\n",
       "     'skip': 0,\n",
       "     'type': 22,\n",
       "     'ref': False,\n",
       "     'rgbw': False}]},\n",
       "  'btn': {'max': 2,\n",
       "   'ins': [{'type': 2, 'pin': [0], 'macros': [0, 0, 0]},\n",
       "    {'type': 0, 'pin': [-1], 'macros': [0, 0, 0]}],\n",
       "   'tt': 32,\n",
       "   'mqtt': False},\n",
       "  'ir': {'pin': -1, 'type': 0},\n",
       "  'relay': {'pin': 12, 'rev': False}},\n",
       " 'light': {'scale-bri': 100,\n",
       "  'pal-mode': 0,\n",
       "  'aseg': False,\n",
       "  'gc': {'bri': 1, 'col': 2.8},\n",
       "  'tr': {'mode': False, 'dur': 7, 'pal': 0},\n",
       "  'nl': {'mode': 1, 'dur': 60, 'tbri': 0, 'macro': 0}},\n",
       " 'def': {'ps': 6, 'on': True, 'bri': 128},\n",
       " 'if': {'sync': {'port0': 21324,\n",
       "   'port1': 65506,\n",
       "   'recv': {'bri': True, 'col': True, 'fx': True, 'grp': 1},\n",
       "   'send': {'dir': True,\n",
       "    'btn': False,\n",
       "    'va': False,\n",
       "    'hue': False,\n",
       "    'macro': False,\n",
       "    'twice': True,\n",
       "    'grp': 1}},\n",
       "  'nodes': {'list': True, 'bcast': True},\n",
       "  'live': {'en': True,\n",
       "   'port': 5568,\n",
       "   'mc': False,\n",
       "   'dmx': {'uni': 1, 'seqskip': False, 'addr': 1, 'mode': 4},\n",
       "   'timeout': 25,\n",
       "   'maxbri': False,\n",
       "   'no-gc': True,\n",
       "   'offset': 0},\n",
       "  'va': {'alexa': False, 'macros': [0, 0]},\n",
       "  'mqtt': {'en': False,\n",
       "   'broker': '',\n",
       "   'port': 1883,\n",
       "   'user': '',\n",
       "   'pskl': 0,\n",
       "   'cid': 'WLED-ae971c',\n",
       "   'topics': {'device': '???', 'group': 'wled/all'}},\n",
       "  'ntp': {'en': False,\n",
       "   'host': 'pool.ntp.org',\n",
       "   'tz': 0,\n",
       "   'offset': 10800,\n",
       "   'ampm': False,\n",
       "   'ln': 0,\n",
       "   'lt': 0}},\n",
       " 'ol': {'clock': 0,\n",
       "  'cntdwn': False,\n",
       "  'min': 0,\n",
       "  'max': 29,\n",
       "  'o12pix': 0,\n",
       "  'o5m': False,\n",
       "  'osec': False},\n",
       " 'timers': {'cntdwn': {'goal': [20, 1, 1, 0, 0, 0], 'macro': 0},\n",
       "  'ins': [{'en': 1, 'hour': 10, 'min': 0, 'macro': 23, 'dow': 127},\n",
       "   {'en': 1, 'hour': 23, 'min': 40, 'macro': 12, 'dow': 127},\n",
       "   {'en': 1, 'hour': 255, 'min': 0, 'macro': 0, 'dow': 127},\n",
       "   {'en': 1, 'hour': 255, 'min': 0, 'macro': 0, 'dow': 127}]},\n",
       " 'ota': {'lock': False, 'lock-wifi': False, 'pskl': 7, 'aota': True},\n",
       " 'um': {'FakeNTPUsermod': {'fakeSource': 130},\n",
       "  'SyncRandomUsermod': {'random_seed': 11009}}}"
      ]
     },
     "execution_count": 70,
     "metadata": {},
     "output_type": "execute_result"
    }
   ],
   "source": [
    "wleds[\"WLED-Dima-Office\"].cfg"
   ]
  },
  {
   "cell_type": "code",
   "execution_count": 65,
   "metadata": {},
   "outputs": [
    {
     "data": {
      "text/plain": [
       "-1"
      ]
     },
     "execution_count": 65,
     "metadata": {},
     "output_type": "execute_result"
    }
   ],
   "source": [
    "    default_wled = wleds.get_by_ip(default_wled_ip())\n",
    "    default_wled = wleds[\"WLED-frame-clock\"]\n",
    "    default_wled.get_json_state()[\"pl\"]"
   ]
  },
  {
   "cell_type": "code",
   "execution_count": 51,
   "metadata": {},
   "outputs": [
    {
     "name": "stdout",
     "output_type": "stream",
     "text": [
      "WLED 'WLED kitchen' at 192.168.0.121\n",
      "OK\n",
      "WLED 'WLED-Dima-Office' at 192.168.0.122\n",
      "OK\n",
      "WLED 'WLED-UV' at 192.168.0.10\n",
      "OK\n",
      "WLED 'WLED-frame-clock' at 192.168.0.15\n",
      "OK\n",
      "WLED 'WLED-table-lamp' at 192.168.0.113\n",
      "OK\n",
      "WLED 'WLED-tube-1' at 192.168.0.28\n",
      "OK\n"
     ]
    }
   ],
   "source": [
    "for wled in wleds:\n",
    "    print (wled)\n",
    "    wled.set_effect(0)\n",
    "    wled.set_random_seed(42)\n",
    "    wled.update_time()\n",
    "    print(\"OK\")\n",
    "wleds[\"WLED-Dima-Office\"].set_fake_NTP(130)\n",
    "wleds[\"WLED-Dima-Office\"].set_preset(23)"
   ]
  },
  {
   "cell_type": "code",
   "execution_count": 15,
   "metadata": {},
   "outputs": [
    {
     "data": {
      "text/plain": [
       "<Response [200]>"
      ]
     },
     "execution_count": 15,
     "metadata": {},
     "output_type": "execute_result"
    }
   ],
   "source": [
    "wleds[\"WLED-Dima-Office\"].update_firmware(\"../../Arduino/WLED/build_output/firmware/d1_mini.bin\")"
   ]
  },
  {
   "cell_type": "code",
   "execution_count": 29,
   "metadata": {},
   "outputs": [
    {
     "name": "stdout",
     "output_type": "stream",
     "text": [
      "WLED 'WLED kitchen' at 192.168.0.121\n",
      "OK\n",
      "WLED 'WLED-Dima-Office' at 192.168.0.122\n",
      "OK\n",
      "WLED 'WLED-UV' at 192.168.0.10\n",
      "OK\n",
      "WLED 'WLED-frame-clock' at 192.168.0.15\n",
      "OK\n",
      "WLED 'WLED-table-lamp' at 192.168.0.113\n",
      "OK\n",
      "WLED 'WLED-tube-1' at 192.168.0.28\n",
      "OK\n"
     ]
    }
   ],
   "source": [
    "for wled in wleds:\n",
    "    print (wled)\n",
    "    wled.update_firmware(\"../../Arduino/WLED/build_output/firmware/d1_mini.bin\")\n",
    "    print(\"OK\")"
   ]
  },
  {
   "cell_type": "code",
   "execution_count": 25,
   "metadata": {},
   "outputs": [],
   "source": [
    "for wled in wleds:\n",
    "    wled.dump_omegaconf()"
   ]
  },
  {
   "cell_type": "code",
   "execution_count": 26,
   "metadata": {},
   "outputs": [],
   "source": [
    "for wled in wleds:\n",
    "    wled.presets = OmegaConf.to_container(OmegaConf.load(\"default_presets.yaml\"))\n",
    "    wled.upload_presets()\n",
    "    wled.update_time()"
   ]
  },
  {
   "cell_type": "code",
   "execution_count": 64,
   "metadata": {},
   "outputs": [
    {
     "name": "stdout",
     "output_type": "stream",
     "text": [
      "WLED 'WLED kitchen' at 192.168.0.121\n",
      "{'cntdwn': {'goal': [20, 1, 1, 0, 0, 0], 'macro': 0}, 'ins': []}\n",
      "WLED 'WLED-D-mini' at 192.168.0.32\n",
      "{'cntdwn': {'goal': [20, 1, 1, 0, 0, 0], 'macro': 0}, 'ins': [{'dow': 127, 'en': 0, 'hour': 10, 'macro': 6, 'min': 0}, {'dow': 127, 'en': 0, 'hour': 23, 'macro': 12, 'min': 40}]}\n",
      "WLED 'WLED-D-mini-2' at 192.168.0.34\n",
      "{'cntdwn': {'goal': [20, 1, 1, 0, 0, 0], 'macro': 0}, 'ins': [{'dow': 127, 'en': 0, 'hour': 10, 'macro': 6, 'min': 0}, {'dow': 127, 'en': 0, 'hour': 23, 'macro': 12, 'min': 40}]}\n",
      "WLED 'WLED-Dima-Office' at 192.168.0.122\n",
      "{'cntdwn': {'goal': [20, 1, 1, 0, 0, 0], 'macro': 0}, 'ins': [{'dow': 127, 'en': 0, 'hour': 10, 'macro': 6, 'min': 0}, {'dow': 127, 'en': 0, 'hour': 23, 'macro': 12, 'min': 40}]}\n",
      "WLED 'WLED-frame-clock' at 192.168.0.15\n",
      "{'cntdwn': {'goal': [20, 1, 1, 0, 0, 0], 'macro': 0}, 'ins': [{'dow': 127, 'en': 0, 'hour': 10, 'macro': 6, 'min': 0}, {'dow': 127, 'en': 0, 'hour': 23, 'macro': 12, 'min': 40}]}\n"
     ]
    }
   ],
   "source": [
    "for wled in wleds:\n",
    "    oc_dir = wled.get_fs_dump_dir(\"omegaconf_source/{name}\")\n",
    "    cfg_yaml = f\"{oc_dir}/cfg.yaml\"\n",
    "    ww = Wled.from_omegaconf(additional_confs=[cfg_yaml])\n",
    "    ww.ip = wled.ip\n",
    "    print(ww)\n",
    "    print(ww.cfg[\"timers\"])\n",
    "    # ww.upload_cfg()"
   ]
  },
  {
   "cell_type": "code",
   "execution_count": 35,
   "metadata": {},
   "outputs": [
    {
     "name": "stdout",
     "output_type": "stream",
     "text": [
      "WLED 'WLED kitchen' at 192.168.0.121\n",
      "{'cntdwn': {'goal': [20, 1, 1, 0, 0, 0], 'macro': 0}, 'ins': []}\n",
      "WLED 'WLED-D-mini' at 192.168.0.32\n",
      "{'cntdwn': {'goal': [20, 1, 1, 0, 0, 0], 'macro': 0}, 'ins': []}\n",
      "WLED 'WLED-D-mini-2' at 192.168.0.34\n",
      "{'cntdwn': {'goal': [20, 1, 1, 0, 0, 0], 'macro': 0}, 'ins': []}\n",
      "WLED 'WLED-Dima-Office' at 192.168.0.122\n",
      "{'cntdwn': {'goal': [20, 1, 1, 0, 0, 0], 'macro': 0}, 'ins': []}\n",
      "WLED 'WLED-frame-clock' at 192.168.0.15\n",
      "{'cntdwn': {'goal': [20, 1, 1, 0, 0, 0], 'macro': 0}, 'ins': []}\n"
     ]
    }
   ],
   "source": [
    "for wled in wleds:\n",
    "    print(wled)\n",
    "    print(wled.cfg[\"timers\"])"
   ]
  },
  {
   "cell_type": "code",
   "execution_count": 22,
   "metadata": {},
   "outputs": [],
   "source": [
    "d_mini = wleds[\"WLED-Dima-Office\"]"
   ]
  },
  {
   "cell_type": "code",
   "execution_count": 23,
   "metadata": {},
   "outputs": [],
   "source": [
    "d_mini.cache_fs()"
   ]
  },
  {
   "cell_type": "code",
   "execution_count": 24,
   "metadata": {},
   "outputs": [
    {
     "data": {
      "text/plain": [
       "{'rev': [1, 0],\n",
       " 'vid': 2107100,\n",
       " 'id': {'mdns': 'wled-dima-office',\n",
       "  'name': 'WLED-Dima-Office',\n",
       "  'inv': 'Light'},\n",
       " 'nw': {'ins': [{'ssid': 'Vadkovsky_TV',\n",
       "    'pskl': 15,\n",
       "    'ip': [192, 168, 0, 121],\n",
       "    'gw': [0, 0, 0, 0],\n",
       "    'sn': [255, 255, 255, 0]}]},\n",
       " 'ap': {'ssid': 'WLED-AP',\n",
       "  'pskl': 8,\n",
       "  'chan': 1,\n",
       "  'hide': 0,\n",
       "  'behav': 0,\n",
       "  'ip': [4, 3, 2, 1]},\n",
       " 'wifi': {'sleep': False},\n",
       " 'hw': {'led': {'total': 200,\n",
       "   'maxpwr': 6000,\n",
       "   'ledma': 55,\n",
       "   'rgbwm': 3,\n",
       "   'ins': [{'start': 0,\n",
       "     'len': 200,\n",
       "     'pin': [4],\n",
       "     'order': 0,\n",
       "     'rev': False,\n",
       "     'skip': 0,\n",
       "     'type': 22}]},\n",
       "  'btn': {'max': 2,\n",
       "   'ins': [{'type': 2, 'pin': [0], 'macros': [0, 0, 0]},\n",
       "    {'type': 0, 'pin': [-1], 'macros': [0, 0, 0]}],\n",
       "   'tt': 32,\n",
       "   'mqtt': False},\n",
       "  'ir': {'pin': -1, 'type': 0},\n",
       "  'relay': {'pin': 12, 'rev': False}},\n",
       " 'light': {'scale-bri': 100,\n",
       "  'pal-mode': 0,\n",
       "  'gc': {'bri': 1, 'col': 2.8},\n",
       "  'tr': {'mode': True, 'dur': 7, 'pal': 0},\n",
       "  'nl': {'mode': 1, 'dur': 60, 'tbri': 0, 'macro': 0}},\n",
       " 'def': {'ps': 0, 'on': True, 'bri': 255},\n",
       " 'if': {'sync': {'port0': 21324,\n",
       "   'port1': 65506,\n",
       "   'recv': {'bri': False, 'col': False, 'fx': False},\n",
       "   'send': {'dir': True,\n",
       "    'btn': False,\n",
       "    'va': False,\n",
       "    'hue': False,\n",
       "    'macro': False,\n",
       "    'twice': True}},\n",
       "  'nodes': {'list': True, 'bcast': True},\n",
       "  'live': {'en': True,\n",
       "   'port': 5568,\n",
       "   'mc': False,\n",
       "   'dmx': {'uni': 1, 'seqskip': False, 'addr': 1, 'mode': 4},\n",
       "   'timeout': 25,\n",
       "   'maxbri': False,\n",
       "   'no-gc': True,\n",
       "   'offset': 0},\n",
       "  'va': {'alexa': False, 'macros': [0, 0]},\n",
       "  'mqtt': {'en': False,\n",
       "   'broker': '',\n",
       "   'port': 1883,\n",
       "   'user': '',\n",
       "   'pskl': 0,\n",
       "   'cid': 'WLED-ae971c',\n",
       "   'topics': {'device': '???', 'group': 'wled/all'}},\n",
       "  'ntp': {'en': False,\n",
       "   'host': '0.wled.pool.ntp.org',\n",
       "   'tz': 0,\n",
       "   'offset': 10800,\n",
       "   'ampm': False,\n",
       "   'ln': 0,\n",
       "   'lt': 0}},\n",
       " 'ol': {'clock': 0,\n",
       "  'cntdwn': False,\n",
       "  'min': 0,\n",
       "  'max': 29,\n",
       "  'o12pix': 0,\n",
       "  'o5m': False,\n",
       "  'osec': False},\n",
       " 'timers': {'cntdwn': {'goal': [20, 1, 1, 0, 0, 0], 'macro': 0},\n",
       "  'ins': [{'en': 1, 'hour': 10, 'min': 11, 'macro': 2, 'dow': 127},\n",
       "   {'en': 0, 'hour': 255, 'min': 0, 'macro': 0, 'dow': 127},\n",
       "   {'en': 0, 'hour': 255, 'min': 0, 'macro': 0, 'dow': 127}]},\n",
       " 'ota': {'lock': False, 'lock-wifi': False, 'pskl': 7, 'aota': True},\n",
       " 'um': {}}"
      ]
     },
     "execution_count": 24,
     "metadata": {},
     "output_type": "execute_result"
    }
   ],
   "source": [
    "d_mini.cfg"
   ]
  },
  {
   "cell_type": "code",
   "execution_count": 16,
   "metadata": {},
   "outputs": [],
   "source": [
    "for wled in wleds:\n",
    "    wled.reset()"
   ]
  },
  {
   "cell_type": "code",
   "execution_count": 9,
   "metadata": {},
   "outputs": [],
   "source": [
    "for wled in wleds:\n",
    "    wled.update_time()"
   ]
  },
  {
   "cell_type": "code",
   "execution_count": 15,
   "metadata": {},
   "outputs": [
    {
     "data": {
      "text/plain": [
       "{'cntdwn': {'goal': [20, 1, 1, 0, 0, 0], 'macro': 0}, 'ins': []}"
      ]
     },
     "execution_count": 15,
     "metadata": {},
     "output_type": "execute_result"
    }
   ],
   "source": [
    "ww.cfg[\"timers\"]"
   ]
  },
  {
   "cell_type": "code",
   "execution_count": null,
   "metadata": {},
   "outputs": [],
   "source": [
    "for wled in wleds:\n",
    "    oc_dir = wled.get_fs_dump_dir(wled_common_client.OMEGACONF_DUMP_DIR)\n",
    "    cfg_yaml = f\"{oc_dir}/cfg.yaml\"\n",
    "    presets_yaml = f\"{oc_dir}/presets.yaml\"\n",
    "    wled.presets = OmegaConf.load(presets_yaml)\n",
    "    wled.cfg = OmegaConf.load(presets_yaml)"
   ]
  },
  {
   "cell_type": "code",
   "execution_count": null,
   "metadata": {},
   "outputs": [],
   "source": [
    "yaml.load()"
   ]
  },
  {
   "cell_type": "markdown",
   "metadata": {},
   "source": [
    "## Tidying up presets"
   ]
  },
  {
   "cell_type": "code",
   "execution_count": 158,
   "metadata": {},
   "outputs": [],
   "source": [
    "import json\n",
    "from ruamel.yaml import YAML\n",
    "yaml = YAML()"
   ]
  },
  {
   "cell_type": "code",
   "execution_count": 119,
   "metadata": {},
   "outputs": [],
   "source": [
    "with open(\"config_dump/WLED-Dima-Office/presets.json\") as js:\n",
    "    p = yaml.load(js)"
   ]
  },
  {
   "cell_type": "code",
   "execution_count": 120,
   "metadata": {},
   "outputs": [],
   "source": [
    "# yaml.compact_seq_seq = True\n",
    "# yaml.compact_seq_map = False\n",
    "yaml.width = 10**7\n",
    "yaml.top_level_colon_align = True\n"
   ]
  },
  {
   "cell_type": "code",
   "execution_count": 121,
   "metadata": {},
   "outputs": [],
   "source": [
    "p.fa.set_block_style()\n",
    "for k in p.keys():\n",
    "    p[k].fa.set_block_style()"
   ]
  },
  {
   "cell_type": "code",
   "execution_count": 122,
   "metadata": {},
   "outputs": [],
   "source": [
    "with open(\"default_presets.yaml\", \"w\") as y:\n",
    "    yaml.dump(p, y)\n"
   ]
  },
  {
   "cell_type": "markdown",
   "metadata": {},
   "source": [
    "# MIDI"
   ]
  },
  {
   "cell_type": "code",
   "execution_count": 1,
   "metadata": {},
   "outputs": [
    {
     "name": "stdout",
     "output_type": "stream",
     "text": [
      "pygame 2.0.1 (SDL 2.0.14, Python 3.9.1)\n",
      "Hello from the pygame community. https://www.pygame.org/contribute.html\n"
     ]
    }
   ],
   "source": [
    "import sys\n",
    "import os\n",
    "\n",
    "import pygame as pg\n",
    "import pygame.midi\n",
    "\n",
    "\n",
    "def print_device_info():\n",
    "    pygame.midi.init()\n",
    "    _print_device_info()\n",
    "    pygame.midi.quit()\n",
    "\n",
    "\n",
    "def _print_device_info():\n",
    "    for i in range(pygame.midi.get_count()):\n",
    "        r = pygame.midi.get_device_info(i)\n",
    "        (interf, name, input, output, opened) = r\n",
    "\n",
    "        in_out = \"\"\n",
    "        if input:\n",
    "            in_out = \"(input)\"\n",
    "        if output:\n",
    "            in_out = \"(output)\"\n",
    "\n",
    "        print(\n",
    "            \"%2i: interface :%s:, name :%s:, opened :%s:  %s\"\n",
    "            % (i, interf, name, opened, in_out)\n",
    "        )\n",
    "\n",
    "\n",
    "def input_main(device_id=None):\n",
    "    pg.init()\n",
    "    pg.fastevent.init()\n",
    "    event_get = pg.fastevent.get\n",
    "    event_post = pg.fastevent.post\n",
    "\n",
    "    pygame.midi.init()\n",
    "\n",
    "    _print_device_info()\n",
    "\n",
    "    if device_id is None:\n",
    "        input_id = pygame.midi.get_default_input_id()\n",
    "    else:\n",
    "        input_id = device_id\n",
    "\n",
    "    print(\"using input_id :%s:\" % input_id)\n",
    "    i = pygame.midi.Input(input_id)\n",
    "\n",
    "    pg.display.set_mode((1, 1))\n",
    "\n",
    "    going = True\n",
    "    while going:\n",
    "        events = event_get()\n",
    "        for e in events:\n",
    "            if e.type in [pg.QUIT]:\n",
    "                going = False\n",
    "            if e.type in [pg.KEYDOWN]:\n",
    "                going = False\n",
    "            if e.type in [pygame.midi.MIDIIN]:\n",
    "                print(e)\n",
    "\n",
    "        if i.poll():\n",
    "            midi_events = i.read(10)\n",
    "            # convert them into pygame events.\n",
    "            midi_evs = pygame.midi.midis2events(midi_events, i.device_id)\n",
    "\n",
    "            for m_e in midi_evs:\n",
    "                event_post(m_e)\n",
    "\n",
    "    del i\n",
    "    pygame.midi.quit()"
   ]
  },
  {
   "cell_type": "code",
   "execution_count": null,
   "metadata": {},
   "outputs": [],
   "source": [
    "input_main()"
   ]
  },
  {
   "cell_type": "markdown",
   "metadata": {},
   "source": [
    "## Pure python"
   ]
  },
  {
   "cell_type": "code",
   "execution_count": 1,
   "metadata": {},
   "outputs": [],
   "source": [
    "from shows import *"
   ]
  },
  {
   "cell_type": "code",
   "execution_count": 2,
   "metadata": {},
   "outputs": [
    {
     "data": {
      "text/plain": [
       "'ColorCycle'"
      ]
     },
     "execution_count": 2,
     "metadata": {},
     "output_type": "execute_result"
    }
   ],
   "source": [
    "ColorCycle.__name__"
   ]
  },
  {
   "cell_type": "markdown",
   "metadata": {},
   "source": []
  }
 ],
 "metadata": {
  "interpreter": {
   "hash": "0600588c3b5f4418cbe7b5ebc6825b479f3bc010269d8b60d75058cdd010adfe"
  },
  "kernelspec": {
   "display_name": "Python 3.7.2 64-bit",
   "name": "python3"
  },
  "language_info": {
   "codemirror_mode": {
    "name": "ipython",
    "version": 3
   },
   "file_extension": ".py",
   "mimetype": "text/x-python",
   "name": "python",
   "nbconvert_exporter": "python",
   "pygments_lexer": "ipython3",
   "version": "3.7.2"
  },
  "metadata": {
   "interpreter": {
    "hash": "a8d442f6dd62b609d6bd95fbce93bba865aab1059e13b46fe6c1425095fb225a"
   }
  },
  "orig_nbformat": 2
 },
 "nbformat": 4,
 "nbformat_minor": 2
}
