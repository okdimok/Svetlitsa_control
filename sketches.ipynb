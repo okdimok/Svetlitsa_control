{
 "cells": [
  {
   "cell_type": "markdown",
   "metadata": {},
   "source": [
    "## Semi-manual updates"
   ]
  },
  {
   "cell_type": "code",
   "execution_count": null,
   "metadata": {},
   "outputs": [],
   "source": [
    "import wled_common_client, importlib, datetime\n",
    "from omegaconf import DictConfig, OmegaConf, ListConfig\n",
    "importlib.reload(wled_common_client)\n",
    "from wled_common_client import Wled, Wleds\n",
    "from scripts.local_env import default_wled_ip\n",
    "from time import sleep\n",
    "import wled_listener as wl\n",
    "wl.wleds = Wleds([])\n",
    "wll=wl.WledListener()\n",
    "default_wled = wl.wleds.get_by_ip(default_wled_ip())\n",
    "from utils import display_dicts\n",
    "from fx_manager import fxs\n",
    "from preset_manager import get_preset_id_by_name as ps\n",
    "\n",
    "display_dicts(wl.wleds, wl.wleds.get_json_info(), fields=[\"ver\", \"u\"], seg_fields=[])\n",
    "# display_dicts(wl.wleds, wl.wleds.get_json_state(), fields=[\"ps\", \"pl\", \"bri\", \"transition\"], seg_fields=[\"fx\", \"sx\", \"ix\"])\n"
   ]
  },
  {
   "cell_type": "code",
   "execution_count": null,
   "metadata": {},
   "outputs": [],
   "source": [
    "wl.wleds['WLED-Coach'].dump_omegaconf()"
   ]
  },
  {
   "cell_type": "code",
   "execution_count": null,
   "metadata": {},
   "outputs": [],
   "source": [
    "default_wled.set_preset_udp(17)"
   ]
  },
  {
   "cell_type": "code",
   "execution_count": null,
   "metadata": {},
   "outputs": [],
   "source": [
    "Wled.reconfig_from_omegaconf(wl.wleds['WLED-tube-1'], keep_presets=False)"
   ]
  },
  {
   "cell_type": "code",
   "execution_count": null,
   "metadata": {},
   "outputs": [],
   "source": [
    "from IPython.display import display_html, clear_output\n",
    "for i in range(1000):\n",
    "    clear_output(wait=True)\n",
    "    state = wl.wleds[\"WLED-bed\"].get_json_state()\n",
    "    r = f\"{datetime.datetime.now()}<br>\"\n",
    "    r += f\"last sent: {state['last_sent_string']}<br>\"\n",
    "    r += f\"last next: {state['last_next_string']}<br>\"\n",
    "    for wled, state in zip(wl.wleds, wl.wleds.get_json_state()):\n",
    "        if \"random_seed\" in state.keys():\n",
    "            r += f\"<br>Seed {state['random_seed']} for {wled}\"\n",
    "        else:\n",
    "            r += f\"<br>NO SEED KNOWN for {wled}\"\n",
    "    display_html(r, raw=True)\n",
    "    sleep(1)"
   ]
  },
  {
   "cell_type": "code",
   "execution_count": null,
   "metadata": {},
   "outputs": [],
   "source": [
    "display_dicts(wl.wleds, wl.wleds.get_json_state(), fields=[\"ver\", \"u\", \"seg\"])"
   ]
  },
  {
   "cell_type": "code",
   "execution_count": null,
   "metadata": {},
   "outputs": [],
   "source": [
    "default_wled = wl.wleds.wleds[0]"
   ]
  },
  {
   "cell_type": "code",
   "execution_count": null,
   "metadata": {},
   "outputs": [],
   "source": [
    "default_wled.set_on_off(on=True)"
   ]
  },
  {
   "cell_type": "code",
   "execution_count": null,
   "metadata": {},
   "outputs": [],
   "source": [
    "wl.wleds.filter(lambda w: \"Light-Bet-1\" in w.name).dump_omegaconf()"
   ]
  },
  {
   "cell_type": "code",
   "execution_count": null,
   "metadata": {},
   "outputs": [],
   "source": [
    "wl.wleds.filter(lambda w: \"Light-Bet\" in w.name).reconfig_from_omegaconf(keep_presets=False)"
   ]
  },
  {
   "cell_type": "code",
   "execution_count": null,
   "metadata": {},
   "outputs": [],
   "source": [
    "Wled.reconfig_from_omegaconf(default_wled, keep_presets=False)"
   ]
  },
  {
   "cell_type": "code",
   "execution_count": null,
   "metadata": {},
   "outputs": [],
   "source": [
    "default_wled.cfg[\"timers\"]"
   ]
  },
  {
   "cell_type": "code",
   "execution_count": null,
   "metadata": {},
   "outputs": [],
   "source": [
    "for wled in wl.wleds:\n",
    "    print (wled)\n",
    "    wled.set_effect(0)\n",
    "    wled.set_random_seed(42)\n",
    "    wled.update_time()\n",
    "    print(\"OK\")\n",
    "wl.wleds[\"WLED-Dima-Office\"].set_fake_NTP(130)\n",
    "wl.wleds[\"WLED-Dima-Office\"].set_preset(23)"
   ]
  },
  {
   "cell_type": "code",
   "execution_count": null,
   "metadata": {},
   "outputs": [],
   "source": [
    "for wled in wl.wleds:\n",
    "    print (wled)\n",
    "    wled.set_effect(0)\n",
    "    wled.set_random_seed(42)\n",
    "    wled.update_time()\n",
    "    print(\"OK\")\n",
    "wl.wleds[\"WLED-Dima-Office\"].set_fake_NTP(130)\n",
    "wl.wleds[\"WLED-Dima-Office\"].set_preset(23)"
   ]
  },
  {
   "cell_type": "code",
   "execution_count": null,
   "metadata": {},
   "outputs": [],
   "source": [
    "default_wled = wl.wleds['WLED-Coach']\n",
    "for i in range(255):\n",
    "    sleep(0.1)\n",
    "    default_wled.send_udp_sync(fx=fxs.PERCENT, fx_speed=255, fx_intensity=i, col=[255, 0,0,0], secondary_color=[0,0,0,0])"
   ]
  },
  {
   "cell_type": "code",
   "execution_count": null,
   "metadata": {},
   "outputs": [],
   "source": []
  },
  {
   "cell_type": "code",
   "execution_count": null,
   "metadata": {},
   "outputs": [],
   "source": [
    "# wleds[\"WLED-Dima-Office\"].update_firmware(\"../../Arduino/WLED/build_output/firmware/d1_mini.bin\")"
   ]
  },
  {
   "cell_type": "code",
   "execution_count": null,
   "metadata": {},
   "outputs": [],
   "source": [
    "wl.wleds.wleds.remove(wleds[\"WLED-table-lamp\"])"
   ]
  },
  {
   "cell_type": "code",
   "execution_count": null,
   "metadata": {},
   "outputs": [],
   "source": [
    "print(\"FIRMWARE update of all the Wleds\")\n",
    "# wleds.update_firmware(\"../../Arduino/WLED/build_output/firmware/d1_mini.bin\")\n",
    "# default_wled.update_firmware(\"../../Arduino/WLED/build_output/firmware/d1_mini.bin\")\n"
   ]
  },
  {
   "cell_type": "code",
   "execution_count": null,
   "metadata": {},
   "outputs": [],
   "source": [
    "Wled.reconfig_from_omegaconf(wleds[\"WLED-Xmas-tree\"])"
   ]
  },
  {
   "cell_type": "code",
   "execution_count": null,
   "metadata": {},
   "outputs": [],
   "source": [
    "for wled in wl.wleds:\n",
    "    print(wled.name)\n",
    "    wled.dump_omegaconf()"
   ]
  },
  {
   "cell_type": "code",
   "execution_count": null,
   "metadata": {},
   "outputs": [],
   "source": [
    "for wled in wl.wleds:\n",
    "    wled.presets = OmegaConf.to_container(OmegaConf.load(\"default_presets.yaml\"))\n",
    "    wled.upload_presets()\n",
    "    wled.update_time()\n",
    "wl.wleds.reset()\n"
   ]
  },
  {
   "cell_type": "code",
   "execution_count": null,
   "metadata": {},
   "outputs": [],
   "source": [
    "for wled in wleds:\n",
    "    oc_dir = wled.get_fs_dump_dir(\"omegaconf_source/{name}\")\n",
    "    cfg_yaml = f\"{oc_dir}/cfg.yaml\"\n",
    "    ww = Wled.from_omegaconf(additional_confs=[cfg_yaml])\n",
    "    ww.ip = wled.ip\n",
    "    print(ww)\n",
    "    print(ww.cfg[\"timers\"])\n",
    "    # ww.upload_cfg()"
   ]
  },
  {
   "cell_type": "code",
   "execution_count": null,
   "metadata": {},
   "outputs": [],
   "source": [
    "for wled in wleds:\n",
    "    print(wled)\n",
    "    print(wled.cfg[\"timers\"])"
   ]
  },
  {
   "cell_type": "code",
   "execution_count": null,
   "metadata": {},
   "outputs": [],
   "source": [
    "d_mini = wleds[\"WLED-Dima-Office\"]"
   ]
  },
  {
   "cell_type": "code",
   "execution_count": null,
   "metadata": {},
   "outputs": [],
   "source": [
    "d_mini.cache_fs()"
   ]
  },
  {
   "cell_type": "code",
   "execution_count": null,
   "metadata": {},
   "outputs": [],
   "source": [
    "d_mini.cfg"
   ]
  },
  {
   "cell_type": "code",
   "execution_count": null,
   "metadata": {},
   "outputs": [],
   "source": [
    "for wled in wleds:\n",
    "    wled.reset()"
   ]
  },
  {
   "cell_type": "code",
   "execution_count": null,
   "metadata": {},
   "outputs": [],
   "source": [
    "for wled in wleds:\n",
    "    wled.update_time()"
   ]
  },
  {
   "cell_type": "code",
   "execution_count": null,
   "metadata": {},
   "outputs": [],
   "source": [
    "ww.cfg[\"timers\"]"
   ]
  },
  {
   "cell_type": "code",
   "execution_count": null,
   "metadata": {},
   "outputs": [],
   "source": [
    "for wled in wleds:\n",
    "    oc_dir = wled.get_fs_dump_dir(wled_common_client.OMEGACONF_DUMP_DIR)\n",
    "    cfg_yaml = f\"{oc_dir}/cfg.yaml\"\n",
    "    presets_yaml = f\"{oc_dir}/presets.yaml\"\n",
    "    wled.presets = OmegaConf.load(presets_yaml)\n",
    "    wled.cfg = OmegaConf.load(presets_yaml)"
   ]
  },
  {
   "cell_type": "code",
   "execution_count": null,
   "metadata": {},
   "outputs": [],
   "source": [
    "yaml.load()"
   ]
  },
  {
   "cell_type": "code",
   "execution_count": null,
   "metadata": {},
   "outputs": [],
   "source": [
    "math.ceil(1000/ (512//3))"
   ]
  },
  {
   "cell_type": "markdown",
   "metadata": {},
   "source": [
    "## DMX interface"
   ]
  },
  {
   "cell_type": "code",
   "execution_count": null,
   "metadata": {},
   "outputs": [],
   "source": [
    "import wled_common_client, importlib, datetime, time\n",
    "from omegaconf import DictConfig, OmegaConf, ListConfig\n",
    "importlib.reload(wled_common_client)\n",
    "from wled_common_client import Wled, Wleds\n",
    "from scripts.local_env import default_wled_ip\n",
    "from time import sleep\n",
    "wleds = Wleds.from_one_ip(default_wled_ip(), )\n",
    "wleds.print()\n",
    "default_wled = wleds.get_by_ip(default_wled_ip())"
   ]
  },
  {
   "cell_type": "code",
   "execution_count": null,
   "metadata": {},
   "outputs": [],
   "source": [
    "f\"{datetime.datetime.now()}\""
   ]
  },
  {
   "cell_type": "code",
   "execution_count": null,
   "metadata": {},
   "outputs": [],
   "source": [
    "wl1.reset()"
   ]
  },
  {
   "cell_type": "code",
   "execution_count": null,
   "metadata": {},
   "outputs": [],
   "source": [
    "wl.wleds"
   ]
  },
  {
   "cell_type": "code",
   "execution_count": null,
   "metadata": {},
   "outputs": [],
   "source": [
    "# wl1 = wleds[\"WLED-Dima-Office\"]\n",
    "wl1 = wl.wleds[\"WLED-Light-Bet-1\"]"
   ]
  },
  {
   "cell_type": "code",
   "execution_count": null,
   "metadata": {},
   "outputs": [],
   "source": [
    "wl1.dmx.start()"
   ]
  },
  {
   "cell_type": "code",
   "execution_count": null,
   "metadata": {},
   "outputs": [],
   "source": [
    "wl1.dmx.sender._sender_handler.socket.fps"
   ]
  },
  {
   "cell_type": "code",
   "execution_count": null,
   "metadata": {},
   "outputs": [],
   "source": [
    "n_a = 75\n",
    "data = [255, 0,0] * ( n_a )\n",
    "data += [0, 255,0] * (wl1.dmx.n_leds - n_a)\n",
    "wl1.dmx.set_data(data)"
   ]
  },
  {
   "cell_type": "code",
   "execution_count": null,
   "metadata": {},
   "outputs": [],
   "source": [
    "for i in range(5000):\n",
    "    wl1.dmx.set_data(data)\n",
    "    time.sleep(0.01)\n",
    "    for i in range(3):\n",
    "        data.insert(0, data.pop())"
   ]
  },
  {
   "cell_type": "code",
   "execution_count": null,
   "metadata": {},
   "outputs": [],
   "source": [
    "wl1.dmx.set_data(data)"
   ]
  },
  {
   "cell_type": "code",
   "execution_count": null,
   "metadata": {},
   "outputs": [],
   "source": [
    "wl1.dmx.stop()"
   ]
  },
  {
   "cell_type": "markdown",
   "metadata": {},
   "source": [
    "## DMX experiments"
   ]
  },
  {
   "cell_type": "code",
   "execution_count": null,
   "metadata": {},
   "outputs": [],
   "source": [
    "import sacn\n",
    "import time\n",
    "import math"
   ]
  },
  {
   "cell_type": "code",
   "execution_count": null,
   "metadata": {},
   "outputs": [],
   "source": [
    "# sender = sacn.sACNsender(bind_address=\"192.168.0.16\")  # provide an IP-Address to bind to if you are using Windows and want to use multicast\n",
    "sender = sacn.sACNsender()  # provide an IP-Address to bind to if you are using Windows and want to use multicast\n",
    "sender.start()  # start the sending thread"
   ]
  },
  {
   "cell_type": "code",
   "execution_count": null,
   "metadata": {},
   "outputs": [],
   "source": [
    "\n",
    "sender.activate_output(1)  # start sending out data in the 1st universe\n",
    "# sender.activate_output(2)  # start sending out data in the 1st universe\n",
    "sender[1].multicast = True  # set multicast to True\n",
    "sender[1].fps=10\n",
    "# sender[2].multicast = True  # set multicast to True\n",
    "# sender.destination = \"192.168.0.14\"  # or provide unicast information.\n",
    "# sender[1].destination = \"192.168.0.122\"  # or provide unicast information.\n",
    "# sender[2].destination = sender[1].destination  # or provide unicast information.\n",
    "# sender[1].fps = 60\n",
    "# Keep in mind that if multicast is on, unicast is not used\n",
    "\n"
   ]
  },
  {
   "cell_type": "code",
   "execution_count": null,
   "metadata": {},
   "outputs": [],
   "source": [
    "sender[1].dmx_data = tuple([0, 0, 0] * 100 + [255, 0, 0] * 70 )  # some test DMX data\n"
   ]
  },
  {
   "cell_type": "code",
   "execution_count": null,
   "metadata": {},
   "outputs": [],
   "source": [
    "sender[2].dmx_data = tuple([0, 0, 0]*10 + [255, 0, 0]*166)  # some test DMX data\n"
   ]
  },
  {
   "cell_type": "code",
   "execution_count": null,
   "metadata": {},
   "outputs": [],
   "source": [
    "sender.stop()  # do not forget to stop the sender"
   ]
  },
  {
   "cell_type": "markdown",
   "metadata": {},
   "source": [
    "## Tidying up presets"
   ]
  },
  {
   "cell_type": "code",
   "execution_count": null,
   "metadata": {},
   "outputs": [],
   "source": [
    "import json\n",
    "from ruamel.yaml import YAML\n",
    "yaml = YAML()"
   ]
  },
  {
   "cell_type": "code",
   "execution_count": null,
   "metadata": {},
   "outputs": [],
   "source": [
    "with open(\"config_dump/WLED-Dima-Office/presets.json\") as js:\n",
    "    p = yaml.load(js)"
   ]
  },
  {
   "cell_type": "code",
   "execution_count": null,
   "metadata": {},
   "outputs": [],
   "source": [
    "# yaml.compact_seq_seq = True\n",
    "# yaml.compact_seq_map = False\n",
    "yaml.width = 10**7\n",
    "yaml.top_level_colon_align = True\n"
   ]
  },
  {
   "cell_type": "code",
   "execution_count": null,
   "metadata": {},
   "outputs": [],
   "source": [
    "p.fa.set_block_style()\n",
    "for k in p.keys():\n",
    "    p[k].fa.set_block_style()"
   ]
  },
  {
   "cell_type": "code",
   "execution_count": null,
   "metadata": {},
   "outputs": [],
   "source": [
    "with open(\"default_presets.yaml\", \"w\") as y:\n",
    "    yaml.dump(p, y)\n"
   ]
  },
  {
   "cell_type": "markdown",
   "metadata": {},
   "source": [
    "# MIDI"
   ]
  },
  {
   "cell_type": "code",
   "execution_count": null,
   "metadata": {},
   "outputs": [],
   "source": [
    "import sys\n",
    "import os\n",
    "\n",
    "import pygame as pg\n",
    "import pygame.midi\n",
    "\n",
    "\n",
    "def print_device_info():\n",
    "    pygame.midi.init()\n",
    "    _print_device_info()\n",
    "    pygame.midi.quit()\n",
    "\n",
    "\n",
    "def _print_device_info():\n",
    "    for i in range(pygame.midi.get_count()):\n",
    "        r = pygame.midi.get_device_info(i)\n",
    "        (interf, name, input, output, opened) = r\n",
    "\n",
    "        in_out = \"\"\n",
    "        if input:\n",
    "            in_out = \"(input)\"\n",
    "        if output:\n",
    "            in_out = \"(output)\"\n",
    "\n",
    "        print(\n",
    "            \"%2i: interface :%s:, name :%s:, opened :%s:  %s\"\n",
    "            % (i, interf, name, opened, in_out)\n",
    "        )\n",
    "\n",
    "\n",
    "def input_main(device_id=None):\n",
    "    pg.init()\n",
    "    pg.fastevent.init()\n",
    "    event_get = pg.fastevent.get\n",
    "    event_post = pg.fastevent.post\n",
    "\n",
    "    pygame.midi.init()\n",
    "\n",
    "    _print_device_info()\n",
    "\n",
    "    if device_id is None:\n",
    "        input_id = pygame.midi.get_default_input_id()\n",
    "    else:\n",
    "        input_id = device_id\n",
    "\n",
    "    print(\"using input_id :%s:\" % input_id)\n",
    "    i = pygame.midi.Input(input_id)\n",
    "\n",
    "    pg.display.set_mode((1, 1))\n",
    "\n",
    "    going = True\n",
    "    while going:\n",
    "        events = event_get()\n",
    "        for e in events:\n",
    "            if e.type in [pg.QUIT]:\n",
    "                going = False\n",
    "            if e.type in [pg.KEYDOWN]:\n",
    "                going = False\n",
    "            if e.type in [pygame.midi.MIDIIN]:\n",
    "                print(e)\n",
    "\n",
    "        if i.poll():\n",
    "            midi_events = i.read(10)\n",
    "            # convert them into pygame events.\n",
    "            midi_evs = pygame.midi.midis2events(midi_events, i.device_id)\n",
    "\n",
    "            for m_e in midi_evs:\n",
    "                event_post(m_e)\n",
    "\n",
    "    del i\n",
    "    pygame.midi.quit()"
   ]
  },
  {
   "cell_type": "code",
   "execution_count": null,
   "metadata": {},
   "outputs": [],
   "source": [
    "input_main()"
   ]
  },
  {
   "cell_type": "markdown",
   "metadata": {},
   "source": [
    "# Pure python"
   ]
  },
  {
   "cell_type": "code",
   "execution_count": null,
   "metadata": {},
   "outputs": [],
   "source": [
    "s = {(\"a\", 3), (\"b\", 5)}"
   ]
  },
  {
   "cell_type": "code",
   "execution_count": null,
   "metadata": {},
   "outputs": [],
   "source": [
    "s.add((\"c\", 5))"
   ]
  },
  {
   "cell_type": "code",
   "execution_count": null,
   "metadata": {},
   "outputs": [],
   "source": [
    "s"
   ]
  },
  {
   "cell_type": "code",
   "execution_count": null,
   "metadata": {},
   "outputs": [],
   "source": [
    "(\"b\", 5) in s"
   ]
  },
  {
   "cell_type": "code",
   "execution_count": null,
   "metadata": {},
   "outputs": [],
   "source": [
    "import os, sys, platform\n",
    "python_version = '%s.%s' % (sys.version_info[0], sys.version_info[1])\n",
    "python_full_version = sys.version.split()[0]\n",
    "os.name = os.name\n",
    "sys.platform = sys.platform\n",
    "platform.version = platform.version()\n",
    "platform.machine = platform.machine()\n",
    "platform.python_implementation = platform.python_implementation()"
   ]
  },
  {
   "cell_type": "code",
   "execution_count": null,
   "metadata": {},
   "outputs": [],
   "source": [
    "import preset_manager, importlib\n",
    "importlib.reload(preset_manager)"
   ]
  },
  {
   "cell_type": "code",
   "execution_count": null,
   "metadata": {},
   "outputs": [],
   "source": [
    "preset_manager.get_udp_kwargs(17)"
   ]
  },
  {
   "cell_type": "code",
   "execution_count": null,
   "metadata": {},
   "outputs": [],
   "source": [
    "from enum import Enum\n",
    "class Some(Enum):\n",
    "    a = \"boo\""
   ]
  },
  {
   "cell_type": "code",
   "execution_count": null,
   "metadata": {},
   "outputs": [],
   "source": [
    "Some.a.value"
   ]
  },
  {
   "cell_type": "code",
   "execution_count": null,
   "metadata": {},
   "outputs": [],
   "source": [
    "a = list(range(5))\n",
    "c = iter(a)"
   ]
  },
  {
   "cell_type": "code",
   "execution_count": null,
   "metadata": {},
   "outputs": [],
   "source": [
    "next(c)"
   ]
  },
  {
   "cell_type": "code",
   "execution_count": null,
   "metadata": {},
   "outputs": [],
   "source": [
    "filter(lambda x: x is 4, a)"
   ]
  },
  {
   "cell_type": "code",
   "execution_count": null,
   "metadata": {},
   "outputs": [],
   "source": [
    "import random as rnd"
   ]
  },
  {
   "cell_type": "code",
   "execution_count": null,
   "metadata": {},
   "outputs": [],
   "source": [
    "rnd.sample(a, 2)"
   ]
  },
  {
   "cell_type": "code",
   "execution_count": null,
   "metadata": {},
   "outputs": [],
   "source": [
    "from threading import Timer\n",
    "t = Timer(1, lambda: True)\n",
    "t.start()"
   ]
  },
  {
   "cell_type": "code",
   "execution_count": null,
   "metadata": {},
   "outputs": [],
   "source": [
    "from sound_controller import Sound"
   ]
  },
  {
   "cell_type": "code",
   "execution_count": null,
   "metadata": {},
   "outputs": [],
   "source": [
    "Sound[\"red\"]"
   ]
  },
  {
   "cell_type": "code",
   "execution_count": null,
   "metadata": {},
   "outputs": [],
   "source": [
    "max([])"
   ]
  },
  {
   "cell_type": "markdown",
   "metadata": {},
   "source": [
    "# Newest tests"
   ]
  },
  {
   "cell_type": "code",
   "execution_count": 1,
   "metadata": {},
   "outputs": [
    {
     "data": {
      "text/html": [
       "<br><table><tr><th>WLED name</th><th>IP</th><th>ver</th><th>u</th></tr></table>"
      ]
     },
     "metadata": {},
     "output_type": "display_data"
    }
   ],
   "source": [
    "import logging\n",
    "logging.basicConfig(level=logging.DEBUG)\n",
    "import wled_common_client, importlib, datetime\n",
    "from omegaconf import DictConfig, OmegaConf, ListConfig\n",
    "importlib.reload(wled_common_client)\n",
    "from wled_common_client import Wled, Wleds\n",
    "from scripts.local_env import default_wled_ip\n",
    "from time import sleep\n",
    "import wled_listener as wl\n",
    "wll=wl.WledListener()\n",
    "default_wled = wl.wleds.get_by_ip(default_wled_ip())\n",
    "from utils import display_dicts\n",
    "from fx_manager import fxs\n",
    "from preset_manager import get_preset_id_by_name as ps\n",
    "\n",
    "display_dicts(wl.wleds, wl.wleds.get_json_info(), fields=[\"ver\", \"u\"], seg_fields=[])\n",
    "# display_dicts(wl.wleds, wl.wleds.get_json_state(), fields=[\"ps\", \"pl\", \"bri\", \"transition\"], seg_fields=[\"fx\", \"sx\", \"ix\"])\n"
   ]
  },
  {
   "cell_type": "code",
   "execution_count": null,
   "metadata": {},
   "outputs": [],
   "source": [
    "display_dicts(wl.wleds, wl.wleds.get_json_state(), fields=[\"ps\", \"pl\", \"bri\", \"transition\"], seg_fields=[\"fx\", \"sx\", \"ix\"])"
   ]
  },
  {
   "cell_type": "code",
   "execution_count": null,
   "metadata": {},
   "outputs": [],
   "source": [
    "display_dicts(wl.wleds, wl.wleds.get_json_info(), fields=[\"ver\", \"u\", \"ps\", \"seg.fx\"])"
   ]
  },
  {
   "cell_type": "code",
   "execution_count": 2,
   "metadata": {},
   "outputs": [
    {
     "name": "stdout",
     "output_type": "stream",
     "text": [
      "pygame 2.1.2 (SDL 2.0.9, Python 3.7.3)\n",
      "Hello from the pygame community. https://www.pygame.org/contribute.html\n"
     ]
    },
    {
     "name": "stderr",
     "output_type": "stream",
     "text": [
      "DEBUG:wled_listener:Got update from 192.168.11.71, Light-Bet-4\n",
      "DEBUG:urllib3.connectionpool:Starting new HTTP connection (1): 192.168.11.71:80\n",
      "DEBUG:urllib3.connectionpool:http://192.168.11.71:80 \"GET /edit?list HTTP/1.1\" 200 99\n",
      "DEBUG:urllib3.connectionpool:Starting new HTTP connection (1): 192.168.11.71:80\n",
      "DEBUG:urllib3.connectionpool:http://192.168.11.71:80 \"GET /edit?edit=/cfg.json HTTP/1.1\" 200 2044\n",
      "DEBUG:urllib3.connectionpool:Starting new HTTP connection (1): 192.168.11.71:80\n",
      "DEBUG:urllib3.connectionpool:http://192.168.11.71:80 \"GET /edit?edit=/presets.json HTTP/1.1\" 200 6881\n",
      "INFO:wled_listener:adding new wled: WLED 'Light-Bet-4' at 192.168.11.71\n",
      "DEBUG:wled_listener:new wleds: [WLED 'Light-Bet-4' at 192.168.11.71]\n"
     ]
    }
   ],
   "source": [
    "import importlib\n",
    "import shows, show_elements, utils\n",
    "importlib.reload(show_elements)\n",
    "importlib.reload(shows)\n",
    "from show_elements import *"
   ]
  },
  {
   "cell_type": "code",
   "execution_count": null,
   "metadata": {},
   "outputs": [],
   "source": [
    "shows.DMXRaceShow().run_once()"
   ]
  },
  {
   "cell_type": "code",
   "execution_count": null,
   "metadata": {},
   "outputs": [],
   "source": [
    "shows.FXOnFiltered(fxs.RAINBOW, 3, 255, 1).run()"
   ]
  },
  {
   "cell_type": "code",
   "execution_count": null,
   "metadata": {},
   "outputs": [],
   "source": [
    "wl.wleds.set_on_off(on=True)"
   ]
  },
  {
   "cell_type": "code",
   "execution_count": null,
   "metadata": {},
   "outputs": [],
   "source": [
    "shows.On(1)"
   ]
  },
  {
   "cell_type": "code",
   "execution_count": null,
   "metadata": {},
   "outputs": [],
   "source": [
    "shows.Off(1)"
   ]
  },
  {
   "cell_type": "code",
   "execution_count": null,
   "metadata": {},
   "outputs": [],
   "source": [
    "shows.FXOnFiltered(fxs.RAINBOW, 5, 255, 1).run()\n"
   ]
  },
  {
   "cell_type": "code",
   "execution_count": null,
   "metadata": {},
   "outputs": [],
   "source": [
    "wl.wleds.send_udp_sync(fx=1, brightness=0)"
   ]
  },
  {
   "cell_type": "code",
   "execution_count": null,
   "metadata": {},
   "outputs": [],
   "source": []
  },
  {
   "cell_type": "code",
   "execution_count": 4,
   "metadata": {},
   "outputs": [
    {
     "name": "stderr",
     "output_type": "stream",
     "text": [
      "INFO:shows:###### Running Show .\n",
      "INFO:shows:### launching On(pow 255, spd 20) for 1.0 s\n"
     ]
    },
    {
     "name": "stderr",
     "output_type": "stream",
     "text": [
      "DEBUG:urllib3.connectionpool:Starting new HTTP connection (1): 192.168.11.70:80\n",
      "DEBUG:urllib3.connectionpool:Starting new HTTP connection (1): 192.168.11.72:80\n",
      "DEBUG:urllib3.connectionpool:Starting new HTTP connection (1): 192.168.11.71:80\n",
      "DEBUG:urllib3.connectionpool:Starting new HTTP connection (1): 192.168.11.52:80\n",
      "DEBUG:urllib3.connectionpool:Starting new HTTP connection (1): 192.168.11.73:80\n",
      "DEBUG:urllib3.connectionpool:Starting new HTTP connection (1): 192.168.11.51:80\n",
      "DEBUG:urllib3.connectionpool:Starting new HTTP connection (1): 192.168.11.50:80\n",
      "DEBUG:urllib3.connectionpool:http://192.168.11.70:80 \"POST /json/state HTTP/1.1\" 200 16\n",
      "DEBUG:urllib3.connectionpool:http://192.168.11.52:80 \"POST /json/state HTTP/1.1\" 200 16\n",
      "DEBUG:urllib3.connectionpool:http://192.168.11.71:80 \"POST /json/state HTTP/1.1\" 200 16\n",
      "DEBUG:urllib3.connectionpool:http://192.168.11.72:80 \"POST /json/state HTTP/1.1\" 200 16\n",
      "DEBUG:urllib3.connectionpool:http://192.168.11.51:80 \"POST /json/state HTTP/1.1\" 200 16\n",
      "DEBUG:urllib3.connectionpool:http://192.168.11.50:80 \"POST /json/state HTTP/1.1\" 200 16\n",
      "DEBUG:urllib3.connectionpool:http://192.168.11.73:80 \"POST /json/state HTTP/1.1\" 200 16\n",
      "INFO:shows:### launching FXOnFiltered(pow 255, spd 1) for 3 s\n",
      "DEBUG:wled_listener:Got update from 192.168.11.50, WLED-new-string\n",
      "DEBUG:wled_listener:Got update from 192.168.11.51, WLED-Kitchen\n",
      "INFO:shows:### launching PresetOnFiltered(pow None, spd None) for 3 s\n",
      "INFO:shows:### launching PresetOnFiltered(pow None, spd None) for 3 s\n"
     ]
    }
   ],
   "source": [
    "shows.Show([\n",
    "        On(0.1),\n",
    "        FXOnFiltered(fxs.RAINBOW, 3, 255, 1), \n",
    "        PresetOnFiltered(ps(\"Rainbow Slow\"), 3),\n",
    "        PresetOnFiltered(ps(\"RandomWipe\"), 3),\n",
    "        PresetOnFiltered(ps(\"Rainbow Plasma\"), 3),\n",
    "        ]).run_once()"
   ]
  },
  {
   "cell_type": "code",
   "execution_count": null,
   "metadata": {},
   "outputs": [],
   "source": [
    "shows.YerevanBackgroundShows.main.run_once()"
   ]
  },
  {
   "cell_type": "code",
   "execution_count": null,
   "metadata": {},
   "outputs": [],
   "source": []
  },
  {
   "cell_type": "code",
   "execution_count": null,
   "metadata": {},
   "outputs": [],
   "source": [
    "show_elements.PresetOnFiltered(ps(\"Rainbow Slow\"), 3).run()\n",
    "show_elements.PresetOnFiltered(ps(\"RandomWipe\"), 3).run()"
   ]
  },
  {
   "cell_type": "code",
   "execution_count": null,
   "metadata": {},
   "outputs": [],
   "source": [
    "from main_runner import MainRunner\n",
    "m = MainRunner()\n"
   ]
  },
  {
   "cell_type": "code",
   "execution_count": null,
   "metadata": {},
   "outputs": [],
   "source": [
    "shows.Show([\n",
    "        FXOnFiltered(fxs.POLICE, 5 ,10, 1, col=[255, 92, 119], secondary_color=[0,0,0,0], tertiary_color=[0,0,0,0], filter_lambda=lambda w: \"Objects\" in w.name), # Police\n",
    "        FXOnFiltered(fxs.TRICOLOR_CHASE, 5, 255, 255, col=[0, 255, 119], secondary_color=[0,0,0,0], tertiary_color=[0,0,0,0], filter_lambda=lambda w: \"Objects\" in w.name), # Green Running\n",
    "        FXOnFiltered(fxs.TRICOLOR_CHASE, 5, 255, 255, col=[255, 0, 0], secondary_color=[0,0,0,0], tertiary_color=[0,0,0,0], filter_lambda=lambda w: \"Objects\" in w.name), # Red Running\n",
    "        RBPills(5, filter_lambda=lambda w: \"Objects\" in w.name), # Red Running, \n",
    "        PresetOnFiltered(ps(\"Rainbow\"), 5, 127, 64, filter_lambda=lambda w: \"Objects\" in w.name)\n",
    "        ]).run_once()"
   ]
  },
  {
   "cell_type": "code",
   "execution_count": null,
   "metadata": {},
   "outputs": [],
   "source": [
    "shows.SegmentOnDMX(3, colors=[[255, 50, 149], [255, 102, 0], [0, 0, 255]]).run()"
   ]
  },
  {
   "cell_type": "code",
   "execution_count": null,
   "metadata": {},
   "outputs": [],
   "source": [
    "shows.SilentShows.best_frames.run_once()"
   ]
  },
  {
   "cell_type": "code",
   "execution_count": null,
   "metadata": {},
   "outputs": [],
   "source": [
    "from enum import Enum"
   ]
  },
  {
   "cell_type": "code",
   "execution_count": null,
   "metadata": {},
   "outputs": [],
   "source": [
    "class Shows(Enum):\n",
    "    red = shows.red\n",
    "    blue = shows.blue"
   ]
  },
  {
   "cell_type": "code",
   "execution_count": null,
   "metadata": {},
   "outputs": [],
   "source": [
    "Shows.red.value"
   ]
  },
  {
   "cell_type": "code",
   "execution_count": null,
   "metadata": {},
   "outputs": [],
   "source": [
    "shows"
   ]
  },
  {
   "cell_type": "code",
   "execution_count": null,
   "metadata": {},
   "outputs": [],
   "source": [
    "from utils import dotdict\n",
    "from inspect import ismethod"
   ]
  },
  {
   "cell_type": "code",
   "execution_count": null,
   "metadata": {},
   "outputs": [],
   "source": [
    "class NamingEnum:\n",
    "    @classmethod\n",
    "    def __init_names__(cls):\n",
    "        for attr in cls.keys():\n",
    "            # getattr(cls, attr).name = attr\n",
    "            print(f\"{attr}: {type(getattr(cls, attr))}\")\n",
    "\n",
    "    @classmethod\n",
    "    def keys(cls):\n",
    "        return [a for a, v in cls.__dict__.items() if not a.startswith('__') and not ismethod(v)]\n",
    "    \n",
    "    @classmethod\n",
    "    def items(cls):\n",
    "        return [(a,v) for a, v in cls.__dict__.items() if not a.startswith('__') and not ismethod(v)]\n",
    "\n",
    "    @classmethod\n",
    "    def values(cls):\n",
    "        return [v for a, v in cls.__dict__.items() if not a.startswith('__') and not ismethod(v)]\n"
   ]
  },
  {
   "cell_type": "code",
   "execution_count": null,
   "metadata": {},
   "outputs": [],
   "source": [
    "class Boo(NamingEnum):\n",
    "    a = dotdict()\n",
    "    b = dotdict()\n",
    "\n",
    "Boo.__init_names__()"
   ]
  },
  {
   "cell_type": "code",
   "execution_count": null,
   "metadata": {},
   "outputs": [],
   "source": [
    "color_map = {\n",
    "    \"красный\": [255, 0, 0],\n",
    "    \"жёлтый\": [255, 176, 0], # #ffb000\n",
    "    \"зелёный\": [0, 255, 0],\n",
    "    \"синий\": [0, 0, 255],\n",
    "    \"розовый\": [255, 110, 149], # #ff6e95\n",
    "    \"голубой\": [120, 176, 255], # #78b0ff\n",
    "    \"оранжевый\": [255, 102, 0], # #ff6600\n",
    "    # \"\": [], # \n",
    "    # \"\": [], # \n",
    "    # \"\": [], # \n",
    "    # \"\": [], # \n",
    "    # \"\": [], # \n",
    "}"
   ]
  },
  {
   "cell_type": "code",
   "execution_count": null,
   "metadata": {},
   "outputs": [],
   "source": [
    "for cn, c in color_map.items():\n",
    "    print(cn)\n",
    "    wl.wleds['WLED-Coach'].send_udp_sync(fx=fxs.STATIC, col=c, fx_intensity = 255, fx_speed = 255) \n",
    "    time.sleep(4)"
   ]
  },
  {
   "cell_type": "markdown",
   "metadata": {},
   "source": [
    "# Race Sketch"
   ]
  },
  {
   "cell_type": "code",
   "execution_count": null,
   "metadata": {},
   "outputs": [],
   "source": [
    "from IPython.display import display_html, clear_output\n",
    "import time\n",
    "import math\n",
    "from random import randint\n",
    "\n",
    "def display_current_progress(current_progress, n_leds):\n",
    "    clear_output(wait=True)\n",
    "    scale = 4\n",
    "    r = \"<br><table><tr><th>Lines</th>\"\n",
    "    r+=\"</tr>\"\n",
    "    for p in current_progress:\n",
    "        r += f\"<tr><td width='{scale*n_leds}px'>\"\n",
    "        r += f\"<div style='background:green; height:20px; width:{scale*p}px'></div>\"\n",
    "        r += \"</td>\"\n",
    "        \n",
    "        r += \"</tr>\"\n",
    "    r += \"</table>\"\n",
    "    display_html(r, raw=True)\n",
    "\n"
   ]
  },
  {
   "cell_type": "code",
   "execution_count": null,
   "metadata": {},
   "outputs": [],
   "source": [
    "display_current_progress([20, 10, 30], 50)"
   ]
  },
  {
   "cell_type": "code",
   "execution_count": null,
   "metadata": {},
   "outputs": [],
   "source": [
    "current_progress = [0, 0, 0, 0]\n",
    "n_leds = 50\n",
    "duration = 10"
   ]
  },
  {
   "cell_type": "code",
   "execution_count": null,
   "metadata": {},
   "outputs": [],
   "source": [
    "def step_progress():\n",
    "    global last_step\n",
    "    global current_progress\n",
    "    step_every = duration/n_leds/len(current_progress)\n",
    "    need_steps = math.floor((time.time() - last_step)/step_every)\n",
    "    for i in range(need_steps):\n",
    "        current_progress[randint(0, len(current_progress) - 1)] += 1\n",
    "        last_step = time.time()"
   ]
  },
  {
   "cell_type": "code",
   "execution_count": null,
   "metadata": {},
   "outputs": [],
   "source": [
    "start_time = time.time()\n",
    "last_step = start_time\n",
    "champion_found = False\n",
    "while not champion_found:\n",
    "    step_progress()\n",
    "    display_current_progress(current_progress, n_leds)\n",
    "    for progress in current_progress:\n",
    "        if (progress >= n_leds):\n",
    "            champion_found = True\n",
    "    time.sleep(1/60)"
   ]
  },
  {
   "cell_type": "code",
   "execution_count": null,
   "metadata": {},
   "outputs": [],
   "source": [
    "!uptime"
   ]
  },
  {
   "cell_type": "code",
   "execution_count": null,
   "metadata": {},
   "outputs": [],
   "source": [
    "import random"
   ]
  },
  {
   "cell_type": "code",
   "execution_count": null,
   "metadata": {},
   "outputs": [],
   "source": [
    "random.randint(0, 4)"
   ]
  },
  {
   "cell_type": "code",
   "execution_count": null,
   "metadata": {},
   "outputs": [],
   "source": [
    "current_progress"
   ]
  },
  {
   "cell_type": "code",
   "execution_count": null,
   "metadata": {},
   "outputs": [],
   "source": []
  }
 ],
 "metadata": {
  "kernelspec": {
   "display_name": "Python 3.7.3 ('wled-env')",
   "language": "python",
   "name": "python3"
  },
  "language_info": {
   "codemirror_mode": {
    "name": "ipython",
    "version": 3
   },
   "file_extension": ".py",
   "mimetype": "text/x-python",
   "name": "python",
   "nbconvert_exporter": "python",
   "pygments_lexer": "ipython3",
   "version": "3.7.3"
  },
  "metadata": {
   "interpreter": {
    "hash": "a8d442f6dd62b609d6bd95fbce93bba865aab1059e13b46fe6c1425095fb225a"
   }
  },
  "orig_nbformat": 2,
  "vscode": {
   "interpreter": {
    "hash": "f7e97ffafb5242f14c351a365b6b009af7c415bf18fbd57b26cb07c31ed975d1"
   }
  }
 },
 "nbformat": 4,
 "nbformat_minor": 2
}
