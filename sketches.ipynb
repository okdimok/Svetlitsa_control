{
 "cells": [
  {
   "cell_type": "markdown",
   "metadata": {},
   "source": [
    "## Semi-manual updates"
   ]
  },
  {
   "cell_type": "code",
   "execution_count": 1,
   "metadata": {},
   "outputs": [
    {
     "data": {
      "text/html": [
       "<br><table><tr><th>WLED name</th><th>IP</th><th>ver</th><th>u</th></tr></table>"
      ]
     },
     "metadata": {},
     "output_type": "display_data"
    }
   ],
   "source": [
    "import wled_common_client, importlib, datetime\n",
    "from omegaconf import DictConfig, OmegaConf, ListConfig\n",
    "importlib.reload(wled_common_client)\n",
    "from wled_common_client import Wled, Wleds\n",
    "from scripts.local_env import default_wled_ip\n",
    "from time import sleep\n",
    "import wled_listener as wl\n",
    "wl.wleds = Wleds([])\n",
    "wll=wl.WledListener()\n",
    "default_wled = wl.wleds.get_by_ip(default_wled_ip())\n",
    "from utils import display_dicts\n",
    "from fx_manager import fxs\n",
    "from preset_manager import get_preset_id_by_name as ps\n",
    "\n",
    "display_dicts(wl.wleds, wl.wleds.get_json_info(), fields=[\"ver\", \"u\"], seg_fields=[])\n",
    "# display_dicts(wl.wleds, wl.wleds.get_json_state(), fields=[\"ps\", \"pl\", \"bri\", \"transition\"], seg_fields=[\"fx\", \"sx\", \"ix\"])\n"
   ]
  },
  {
   "cell_type": "code",
   "execution_count": 3,
   "metadata": {},
   "outputs": [
    {
     "ename": "AttributeError",
     "evalue": "'NoneType' object has no attribute 'dump_omegaconf'",
     "output_type": "error",
     "traceback": [
      "\u001b[0;31m---------------------------------------------------------------------------\u001b[0m",
      "\u001b[0;31mAttributeError\u001b[0m                            Traceback (most recent call last)",
      "\u001b[0;32m/tmp/ipykernel_1814/344029349.py\u001b[0m in \u001b[0;36m<module>\u001b[0;34m\u001b[0m\n\u001b[0;32m----> 1\u001b[0;31m \u001b[0mwl\u001b[0m\u001b[0;34m.\u001b[0m\u001b[0mwleds\u001b[0m\u001b[0;34m[\u001b[0m\u001b[0;34m'WLED-'\u001b[0m\u001b[0;34m]\u001b[0m\u001b[0;34m.\u001b[0m\u001b[0mdump_omegaconf\u001b[0m\u001b[0;34m(\u001b[0m\u001b[0;34m)\u001b[0m\u001b[0;34m\u001b[0m\u001b[0;34m\u001b[0m\u001b[0m\n\u001b[0m",
      "\u001b[0;31mAttributeError\u001b[0m: 'NoneType' object has no attribute 'dump_omegaconf'"
     ]
    }
   ],
   "source": [
    "wl.wleds['WLED-'].dump_omegaconf()"
   ]
  },
  {
   "cell_type": "code",
   "execution_count": 26,
   "metadata": {},
   "outputs": [],
   "source": [
    "default_wled.set_preset_udp(17)"
   ]
  },
  {
   "cell_type": "code",
   "execution_count": 10,
   "metadata": {},
   "outputs": [
    {
     "data": {
      "text/plain": [
       "WLED 'WLED-tube-1' at 192.168.0.113"
      ]
     },
     "execution_count": 10,
     "metadata": {},
     "output_type": "execute_result"
    }
   ],
   "source": [
    "Wled.reconfig_from_omegaconf(wl.wleds['WLED-tube-1'], keep_presets=False)"
   ]
  },
  {
   "cell_type": "code",
   "execution_count": 2,
   "metadata": {},
   "outputs": [
    {
     "ename": "AttributeError",
     "evalue": "'NoneType' object has no attribute 'get_json_state'",
     "output_type": "error",
     "traceback": [
      "\u001b[0;31m---------------------------------------------------------------------------\u001b[0m",
      "\u001b[0;31mAttributeError\u001b[0m                            Traceback (most recent call last)",
      "\u001b[0;32m/tmp/ipykernel_14501/1496376435.py\u001b[0m in \u001b[0;36m<module>\u001b[0;34m\u001b[0m\n\u001b[1;32m      2\u001b[0m \u001b[0;32mfor\u001b[0m \u001b[0mi\u001b[0m \u001b[0;32min\u001b[0m \u001b[0mrange\u001b[0m\u001b[0;34m(\u001b[0m\u001b[0;36m1000\u001b[0m\u001b[0;34m)\u001b[0m\u001b[0;34m:\u001b[0m\u001b[0;34m\u001b[0m\u001b[0;34m\u001b[0m\u001b[0m\n\u001b[1;32m      3\u001b[0m     \u001b[0mclear_output\u001b[0m\u001b[0;34m(\u001b[0m\u001b[0mwait\u001b[0m\u001b[0;34m=\u001b[0m\u001b[0;32mTrue\u001b[0m\u001b[0;34m)\u001b[0m\u001b[0;34m\u001b[0m\u001b[0;34m\u001b[0m\u001b[0m\n\u001b[0;32m----> 4\u001b[0;31m     \u001b[0mstate\u001b[0m \u001b[0;34m=\u001b[0m \u001b[0mwl\u001b[0m\u001b[0;34m.\u001b[0m\u001b[0mwleds\u001b[0m\u001b[0;34m[\u001b[0m\u001b[0;34m\"WLED-bed\"\u001b[0m\u001b[0;34m]\u001b[0m\u001b[0;34m.\u001b[0m\u001b[0mget_json_state\u001b[0m\u001b[0;34m(\u001b[0m\u001b[0;34m)\u001b[0m\u001b[0;34m\u001b[0m\u001b[0;34m\u001b[0m\u001b[0m\n\u001b[0m\u001b[1;32m      5\u001b[0m     \u001b[0mr\u001b[0m \u001b[0;34m=\u001b[0m \u001b[0;34mf\"{datetime.datetime.now()}<br>\"\u001b[0m\u001b[0;34m\u001b[0m\u001b[0;34m\u001b[0m\u001b[0m\n\u001b[1;32m      6\u001b[0m     \u001b[0mr\u001b[0m \u001b[0;34m+=\u001b[0m \u001b[0;34mf\"last sent: {state['last_sent_string']}<br>\"\u001b[0m\u001b[0;34m\u001b[0m\u001b[0;34m\u001b[0m\u001b[0m\n",
      "\u001b[0;31mAttributeError\u001b[0m: 'NoneType' object has no attribute 'get_json_state'"
     ]
    }
   ],
   "source": [
    "from IPython.display import display_html, clear_output\n",
    "for i in range(1000):\n",
    "    clear_output(wait=True)\n",
    "    state = wl.wleds[\"WLED-bed\"].get_json_state()\n",
    "    r = f\"{datetime.datetime.now()}<br>\"\n",
    "    r += f\"last sent: {state['last_sent_string']}<br>\"\n",
    "    r += f\"last next: {state['last_next_string']}<br>\"\n",
    "    for wled, state in zip(wl.wleds, wl.wleds.get_json_state()):\n",
    "        if \"random_seed\" in state.keys():\n",
    "            r += f\"<br>Seed {state['random_seed']} for {wled}\"\n",
    "        else:\n",
    "            r += f\"<br>NO SEED KNOWN for {wled}\"\n",
    "    display_html(r, raw=True)\n",
    "    sleep(1)"
   ]
  },
  {
   "cell_type": "code",
   "execution_count": 2,
   "metadata": {},
   "outputs": [
    {
     "data": {
      "text/html": [
       "<br><table><tr><th>WLED name</th><th>IP</th><th>ver</th><th>u</th><th>seg</th><th>fx</th></tr><tr><td>wl.wleds['WLED-Coach']</td><td>192.168.0.14</td><td>NO ver</td><td>NO u</td><td>[{'id': 0, 'start': 0, 'stop': 300, 'len': 300, 'grp': 1, 'spc': 0, 'of': 0, 'on': True, 'frz': False, 'bri': 255, 'cct': 127, 'col': [[0, 0, 255], [255, 0, 0], [8, 255, 0]], 'fx': 9, 'sx': 50, 'ix': 196, 'pal': 0, 'sel': True, 'rev': False, 'mi': False}]</td><td>9</td></tr></table>"
      ]
     },
     "metadata": {},
     "output_type": "display_data"
    }
   ],
   "source": [
    "display_dicts(wl.wleds, wl.wleds.get_json_state(), fields=[\"ver\", \"u\", \"seg\"])"
   ]
  },
  {
   "cell_type": "code",
   "execution_count": 5,
   "metadata": {},
   "outputs": [],
   "source": [
    "default_wled = wl.wleds.wleds[0]"
   ]
  },
  {
   "cell_type": "code",
   "execution_count": 6,
   "metadata": {},
   "outputs": [],
   "source": [
    "default_wled.set_on_off(on=True)"
   ]
  },
  {
   "cell_type": "code",
   "execution_count": 3,
   "metadata": {},
   "outputs": [
    {
     "data": {
      "text/plain": [
       "[WLED 'WLED-tube-1' at 192.168.0.113, WLED 'WLED-tube-2' at 192.168.0.102, WLED 'WLED-tube-3' at 192.168.0.110, WLED 'WLED-tube-4' at 192.168.0.176, WLED 'WLED-tube-5' at 192.168.0.181]"
      ]
     },
     "execution_count": 3,
     "metadata": {},
     "output_type": "execute_result"
    }
   ],
   "source": [
    "wl.wleds.filter(lambda w: \"tube\" in w.name).reconfig_from_omegaconf(keep_presets=False)"
   ]
  },
  {
   "cell_type": "code",
   "execution_count": 13,
   "metadata": {},
   "outputs": [
    {
     "data": {
      "text/plain": [
       "<wled_common_client.Wled at 0x190f865a390>"
      ]
     },
     "execution_count": 13,
     "metadata": {},
     "output_type": "execute_result"
    }
   ],
   "source": [
    "Wled.reconfig_from_omegaconf(default_wled, keep_presets=False)"
   ]
  },
  {
   "cell_type": "code",
   "execution_count": 17,
   "metadata": {},
   "outputs": [
    {
     "data": {
      "text/plain": [
       "{'cntdwn': {'goal': [20, 1, 1, 0, 0, 0], 'macro': 0},\n",
       " 'ins': [{'en': 0, 'hour': 9, 'min': 55, 'macro': 23, 'dow': 127},\n",
       "  {'en': 0, 'hour': 23, 'min': 0, 'macro': 12, 'dow': 127},\n",
       "  {'en': 0, 'hour': 19, 'min': 13, 'macro': 12, 'dow': 127},\n",
       "  {'en': 0, 'hour': 19, 'min': 15, 'macro': 23, 'dow': 127},\n",
       "  {'en': 0, 'hour': 255, 'min': 0, 'macro': 0, 'dow': 127},\n",
       "  {'en': 0, 'hour': 255, 'min': 0, 'macro': 0, 'dow': 127}]}"
      ]
     },
     "execution_count": 17,
     "metadata": {},
     "output_type": "execute_result"
    }
   ],
   "source": [
    "default_wled.cfg[\"timers\"]"
   ]
  },
  {
   "cell_type": "code",
   "execution_count": null,
   "metadata": {},
   "outputs": [
    {
     "name": "stdout",
     "output_type": "stream",
     "text": [
      "WLED 'WLED kitchen' at 192.168.0.121\n",
      "OK\n",
      "WLED 'WLED-Dima-Office' at 192.168.0.122\n",
      "OK\n",
      "WLED 'WLED-UV' at 192.168.0.10\n",
      "OK\n",
      "WLED 'WLED-frame-clock' at 192.168.0.15\n",
      "OK\n",
      "WLED 'WLED-table-lamp' at 192.168.0.113\n",
      "OK\n",
      "WLED 'WLED-tube-1' at 192.168.0.28\n",
      "OK\n"
     ]
    }
   ],
   "source": [
    "for wled in wl.wleds:\n",
    "    print (wled)\n",
    "    wled.set_effect(0)\n",
    "    wled.set_random_seed(42)\n",
    "    wled.update_time()\n",
    "    print(\"OK\")\n",
    "wl.wleds[\"WLED-Dima-Office\"].set_fake_NTP(130)\n",
    "wl.wleds[\"WLED-Dima-Office\"].set_preset(23)"
   ]
  },
  {
   "cell_type": "code",
   "execution_count": null,
   "metadata": {},
   "outputs": [
    {
     "name": "stdout",
     "output_type": "stream",
     "text": [
      "WLED 'WLED kitchen' at 192.168.0.121\n",
      "OK\n",
      "WLED 'WLED-Dima-Office' at 192.168.0.122\n",
      "OK\n",
      "WLED 'WLED-UV' at 192.168.0.10\n",
      "OK\n",
      "WLED 'WLED-frame-clock' at 192.168.0.15\n",
      "OK\n",
      "WLED 'WLED-table-lamp' at 192.168.0.113\n",
      "OK\n",
      "WLED 'WLED-tube-1' at 192.168.0.28\n",
      "OK\n"
     ]
    }
   ],
   "source": [
    "for wled in wl.wleds:\n",
    "    print (wled)\n",
    "    wled.set_effect(0)\n",
    "    wled.set_random_seed(42)\n",
    "    wled.update_time()\n",
    "    print(\"OK\")\n",
    "wl.wleds[\"WLED-Dima-Office\"].set_fake_NTP(130)\n",
    "wl.wleds[\"WLED-Dima-Office\"].set_preset(23)"
   ]
  },
  {
   "cell_type": "code",
   "execution_count": 13,
   "metadata": {},
   "outputs": [],
   "source": [
    "default_wled = wl.wleds['WLED-Coach']\n",
    "for i in range(255):\n",
    "    sleep(0.1)\n",
    "    default_wled.send_udp_sync(fx=fxs.PERCENT, fx_speed=255, fx_intensity=i, col=[255, 0,0,0], secondary_color=[0,0,0,0])"
   ]
  },
  {
   "cell_type": "code",
   "execution_count": 14,
   "metadata": {},
   "outputs": [
    {
     "ename": "NameError",
     "evalue": "name 'show_elements' is not defined",
     "output_type": "error",
     "traceback": [
      "\u001b[0;31m---------------------------------------------------------------------------\u001b[0m",
      "\u001b[0;31mNameError\u001b[0m                                 Traceback (most recent call last)",
      "\u001b[0;32m/tmp/ipykernel_17098/2274739070.py\u001b[0m in \u001b[0;36m<module>\u001b[0;34m\u001b[0m\n\u001b[0;32m----> 1\u001b[0;31m \u001b[0meff\u001b[0m \u001b[0;34m=\u001b[0m \u001b[0mshow_elements\u001b[0m\u001b[0;34m.\u001b[0m\u001b[0mDMXRace\u001b[0m\u001b[0;34m(\u001b[0m\u001b[0;34m)\u001b[0m\u001b[0;34m\u001b[0m\u001b[0;34m\u001b[0m\u001b[0m\n\u001b[0m",
      "\u001b[0;31mNameError\u001b[0m: name 'show_elements' is not defined"
     ]
    }
   ],
   "source": []
  },
  {
   "cell_type": "code",
   "execution_count": 145,
   "metadata": {},
   "outputs": [
    {
     "data": {
      "text/plain": [
       "<Response [200]>"
      ]
     },
     "execution_count": 145,
     "metadata": {},
     "output_type": "execute_result"
    }
   ],
   "source": [
    "# wleds[\"WLED-Dima-Office\"].update_firmware(\"../../Arduino/WLED/build_output/firmware/d1_mini.bin\")"
   ]
  },
  {
   "cell_type": "code",
   "execution_count": 163,
   "metadata": {},
   "outputs": [],
   "source": [
    "wl.wleds.wleds.remove(wleds[\"WLED-table-lamp\"])"
   ]
  },
  {
   "cell_type": "code",
   "execution_count": 5,
   "metadata": {},
   "outputs": [
    {
     "name": "stdout",
     "output_type": "stream",
     "text": [
      "FIRMWARE update of all the Wleds\n"
     ]
    },
    {
     "data": {
      "text/plain": [
       "<Response [200]>"
      ]
     },
     "execution_count": 5,
     "metadata": {},
     "output_type": "execute_result"
    }
   ],
   "source": [
    "print(\"FIRMWARE update of all the Wleds\")\n",
    "# wleds.update_firmware(\"../../Arduino/WLED/build_output/firmware/d1_mini.bin\")\n",
    "# default_wled.update_firmware(\"../../Arduino/WLED/build_output/firmware/d1_mini.bin\")\n"
   ]
  },
  {
   "cell_type": "code",
   "execution_count": 19,
   "metadata": {},
   "outputs": [
    {
     "data": {
      "text/plain": [
       "<wled_common_client.Wled at 0x190f8eb28d0>"
      ]
     },
     "execution_count": 19,
     "metadata": {},
     "output_type": "execute_result"
    }
   ],
   "source": [
    "Wled.reconfig_from_omegaconf(wleds[\"WLED-Xmas-tree\"])"
   ]
  },
  {
   "cell_type": "code",
   "execution_count": 5,
   "metadata": {},
   "outputs": [
    {
     "name": "stdout",
     "output_type": "stream",
     "text": [
      "WLED kitchen\n",
      "WLED-D-mini-3\n",
      "WLED-Dima-Office\n"
     ]
    },
    {
     "ename": "UnicodeDecodeError",
     "evalue": "'charmap' codec can't decode byte 0x98 in position 2554: character maps to <undefined>",
     "output_type": "error",
     "traceback": [
      "\u001b[1;31m---------------------------------------------------------------------------\u001b[0m",
      "\u001b[1;31mUnicodeDecodeError\u001b[0m                        Traceback (most recent call last)",
      "\u001b[1;32m~\\AppData\\Local\\Temp/ipykernel_40132/507720117.py\u001b[0m in \u001b[0;36m<module>\u001b[1;34m\u001b[0m\n\u001b[0;32m      1\u001b[0m \u001b[1;32mfor\u001b[0m \u001b[0mwled\u001b[0m \u001b[1;32min\u001b[0m \u001b[0mwleds\u001b[0m\u001b[1;33m:\u001b[0m\u001b[1;33m\u001b[0m\u001b[1;33m\u001b[0m\u001b[0m\n\u001b[0;32m      2\u001b[0m     \u001b[0mprint\u001b[0m\u001b[1;33m(\u001b[0m\u001b[0mwled\u001b[0m\u001b[1;33m.\u001b[0m\u001b[0mname\u001b[0m\u001b[1;33m)\u001b[0m\u001b[1;33m\u001b[0m\u001b[1;33m\u001b[0m\u001b[0m\n\u001b[1;32m----> 3\u001b[1;33m     \u001b[0mwled\u001b[0m\u001b[1;33m.\u001b[0m\u001b[0mdump_omegaconf\u001b[0m\u001b[1;33m(\u001b[0m\u001b[1;33m)\u001b[0m\u001b[1;33m\u001b[0m\u001b[1;33m\u001b[0m\u001b[0m\n\u001b[0m",
      "\u001b[1;32mc:\\Users\\okdim\\YandexDisk\\coding_leisure\\touch_designer\\Svetlitsa_control\\wled_common_client.py\u001b[0m in \u001b[0;36mdump_omegaconf\u001b[1;34m(self, omegaconf_dump_dir)\u001b[0m\n\u001b[0;32m    128\u001b[0m         \u001b[0mpresets_yaml\u001b[0m \u001b[1;33m=\u001b[0m \u001b[1;34mf\"{oc_dir}/presets.yaml\"\u001b[0m\u001b[1;33m\u001b[0m\u001b[1;33m\u001b[0m\u001b[0m\n\u001b[0;32m    129\u001b[0m         \u001b[0mOmegaConf\u001b[0m\u001b[1;33m.\u001b[0m\u001b[0msave\u001b[0m\u001b[1;33m(\u001b[0m\u001b[0mpresets\u001b[0m\u001b[1;33m,\u001b[0m \u001b[0mpresets_yaml\u001b[0m\u001b[1;33m)\u001b[0m\u001b[1;33m\u001b[0m\u001b[1;33m\u001b[0m\u001b[0m\n\u001b[1;32m--> 130\u001b[1;33m         \u001b[0mtidy_yaml\u001b[0m\u001b[1;33m(\u001b[0m\u001b[0mpresets_yaml\u001b[0m\u001b[1;33m)\u001b[0m\u001b[1;33m\u001b[0m\u001b[1;33m\u001b[0m\u001b[0m\n\u001b[0m\u001b[0;32m    131\u001b[0m \u001b[1;33m\u001b[0m\u001b[0m\n\u001b[0;32m    132\u001b[0m \u001b[1;33m\u001b[0m\u001b[0m\n",
      "\u001b[1;32mc:\\Users\\okdim\\YandexDisk\\coding_leisure\\touch_designer\\Svetlitsa_control\\wled_common_client.py\u001b[0m in \u001b[0;36mtidy_yaml\u001b[1;34m(f)\u001b[0m\n\u001b[0;32m    507\u001b[0m     \u001b[0myaml\u001b[0m \u001b[1;33m=\u001b[0m \u001b[0mYAML\u001b[0m\u001b[1;33m(\u001b[0m\u001b[1;33m)\u001b[0m\u001b[1;33m\u001b[0m\u001b[1;33m\u001b[0m\u001b[0m\n\u001b[0;32m    508\u001b[0m     \u001b[1;32mwith\u001b[0m \u001b[0mopen\u001b[0m\u001b[1;33m(\u001b[0m\u001b[0mf\u001b[0m\u001b[1;33m)\u001b[0m \u001b[1;32mas\u001b[0m \u001b[0mfr\u001b[0m\u001b[1;33m:\u001b[0m\u001b[1;33m\u001b[0m\u001b[1;33m\u001b[0m\u001b[0m\n\u001b[1;32m--> 509\u001b[1;33m         \u001b[0md\u001b[0m \u001b[1;33m=\u001b[0m \u001b[0myaml\u001b[0m\u001b[1;33m.\u001b[0m\u001b[0mload\u001b[0m\u001b[1;33m(\u001b[0m\u001b[0mfr\u001b[0m\u001b[1;33m)\u001b[0m\u001b[1;33m\u001b[0m\u001b[1;33m\u001b[0m\u001b[0m\n\u001b[0m\u001b[0;32m    510\u001b[0m     \u001b[0myaml\u001b[0m\u001b[1;33m.\u001b[0m\u001b[0mdefault_flow_style\u001b[0m \u001b[1;33m=\u001b[0m \u001b[1;32mTrue\u001b[0m\u001b[1;33m\u001b[0m\u001b[1;33m\u001b[0m\u001b[0m\n\u001b[0;32m    511\u001b[0m     \u001b[0md\u001b[0m\u001b[1;33m.\u001b[0m\u001b[0mfa\u001b[0m\u001b[1;33m.\u001b[0m\u001b[0mset_block_style\u001b[0m\u001b[1;33m(\u001b[0m\u001b[1;33m)\u001b[0m\u001b[1;33m\u001b[0m\u001b[1;33m\u001b[0m\u001b[0m\n",
      "\u001b[1;32m~\\AppData\\Roaming\\Python\\Python37\\site-packages\\ruamel\\yaml\\main.py\u001b[0m in \u001b[0;36mload\u001b[1;34m(self, stream)\u001b[0m\n\u001b[0;32m    430\u001b[0m             \u001b[1;32mwith\u001b[0m \u001b[0mstream\u001b[0m\u001b[1;33m.\u001b[0m\u001b[0mopen\u001b[0m\u001b[1;33m(\u001b[0m\u001b[1;34m'rb'\u001b[0m\u001b[1;33m)\u001b[0m \u001b[1;32mas\u001b[0m \u001b[0mfp\u001b[0m\u001b[1;33m:\u001b[0m\u001b[1;33m\u001b[0m\u001b[1;33m\u001b[0m\u001b[0m\n\u001b[0;32m    431\u001b[0m                 \u001b[1;32mreturn\u001b[0m \u001b[0mself\u001b[0m\u001b[1;33m.\u001b[0m\u001b[0mload\u001b[0m\u001b[1;33m(\u001b[0m\u001b[0mfp\u001b[0m\u001b[1;33m)\u001b[0m\u001b[1;33m\u001b[0m\u001b[1;33m\u001b[0m\u001b[0m\n\u001b[1;32m--> 432\u001b[1;33m         \u001b[0mconstructor\u001b[0m\u001b[1;33m,\u001b[0m \u001b[0mparser\u001b[0m \u001b[1;33m=\u001b[0m \u001b[0mself\u001b[0m\u001b[1;33m.\u001b[0m\u001b[0mget_constructor_parser\u001b[0m\u001b[1;33m(\u001b[0m\u001b[0mstream\u001b[0m\u001b[1;33m)\u001b[0m\u001b[1;33m\u001b[0m\u001b[1;33m\u001b[0m\u001b[0m\n\u001b[0m\u001b[0;32m    433\u001b[0m         \u001b[1;32mtry\u001b[0m\u001b[1;33m:\u001b[0m\u001b[1;33m\u001b[0m\u001b[1;33m\u001b[0m\u001b[0m\n\u001b[0;32m    434\u001b[0m             \u001b[1;32mreturn\u001b[0m \u001b[0mconstructor\u001b[0m\u001b[1;33m.\u001b[0m\u001b[0mget_single_data\u001b[0m\u001b[1;33m(\u001b[0m\u001b[1;33m)\u001b[0m\u001b[1;33m\u001b[0m\u001b[1;33m\u001b[0m\u001b[0m\n",
      "\u001b[1;32m~\\AppData\\Roaming\\Python\\Python37\\site-packages\\ruamel\\yaml\\main.py\u001b[0m in \u001b[0;36mget_constructor_parser\u001b[1;34m(self, stream)\u001b[0m\n\u001b[0;32m    481\u001b[0m             \u001b[1;32mif\u001b[0m \u001b[0mself\u001b[0m\u001b[1;33m.\u001b[0m\u001b[0mScanner\u001b[0m \u001b[1;32mis\u001b[0m \u001b[1;32mNone\u001b[0m\u001b[1;33m:\u001b[0m\u001b[1;33m\u001b[0m\u001b[1;33m\u001b[0m\u001b[0m\n\u001b[0;32m    482\u001b[0m                 \u001b[0mself\u001b[0m\u001b[1;33m.\u001b[0m\u001b[0mScanner\u001b[0m \u001b[1;33m=\u001b[0m \u001b[0mruamel\u001b[0m\u001b[1;33m.\u001b[0m\u001b[0myaml\u001b[0m\u001b[1;33m.\u001b[0m\u001b[0mscanner\u001b[0m\u001b[1;33m.\u001b[0m\u001b[0mScanner\u001b[0m\u001b[1;33m\u001b[0m\u001b[1;33m\u001b[0m\u001b[0m\n\u001b[1;32m--> 483\u001b[1;33m             \u001b[0mself\u001b[0m\u001b[1;33m.\u001b[0m\u001b[0mreader\u001b[0m\u001b[1;33m.\u001b[0m\u001b[0mstream\u001b[0m \u001b[1;33m=\u001b[0m \u001b[0mstream\u001b[0m\u001b[1;33m\u001b[0m\u001b[1;33m\u001b[0m\u001b[0m\n\u001b[0m\u001b[0;32m    484\u001b[0m         \u001b[1;32melse\u001b[0m\u001b[1;33m:\u001b[0m\u001b[1;33m\u001b[0m\u001b[1;33m\u001b[0m\u001b[0m\n\u001b[0;32m    485\u001b[0m             \u001b[1;32mif\u001b[0m \u001b[0mself\u001b[0m\u001b[1;33m.\u001b[0m\u001b[0mReader\u001b[0m \u001b[1;32mis\u001b[0m \u001b[1;32mnot\u001b[0m \u001b[1;32mNone\u001b[0m\u001b[1;33m:\u001b[0m\u001b[1;33m\u001b[0m\u001b[1;33m\u001b[0m\u001b[0m\n",
      "\u001b[1;32m~\\AppData\\Roaming\\Python\\Python37\\site-packages\\ruamel\\yaml\\reader.py\u001b[0m in \u001b[0;36mstream\u001b[1;34m(self, val)\u001b[0m\n\u001b[0;32m    131\u001b[0m             \u001b[0mself\u001b[0m\u001b[1;33m.\u001b[0m\u001b[0meof\u001b[0m \u001b[1;33m=\u001b[0m \u001b[1;32mFalse\u001b[0m\u001b[1;33m\u001b[0m\u001b[1;33m\u001b[0m\u001b[0m\n\u001b[0;32m    132\u001b[0m             \u001b[0mself\u001b[0m\u001b[1;33m.\u001b[0m\u001b[0mraw_buffer\u001b[0m \u001b[1;33m=\u001b[0m \u001b[1;32mNone\u001b[0m\u001b[1;33m\u001b[0m\u001b[1;33m\u001b[0m\u001b[0m\n\u001b[1;32m--> 133\u001b[1;33m             \u001b[0mself\u001b[0m\u001b[1;33m.\u001b[0m\u001b[0mdetermine_encoding\u001b[0m\u001b[1;33m(\u001b[0m\u001b[1;33m)\u001b[0m\u001b[1;33m\u001b[0m\u001b[1;33m\u001b[0m\u001b[0m\n\u001b[0m\u001b[0;32m    134\u001b[0m \u001b[1;33m\u001b[0m\u001b[0m\n\u001b[0;32m    135\u001b[0m     \u001b[1;32mdef\u001b[0m \u001b[0mpeek\u001b[0m\u001b[1;33m(\u001b[0m\u001b[0mself\u001b[0m\u001b[1;33m,\u001b[0m \u001b[0mindex\u001b[0m\u001b[1;33m=\u001b[0m\u001b[1;36m0\u001b[0m\u001b[1;33m)\u001b[0m\u001b[1;33m:\u001b[0m\u001b[1;33m\u001b[0m\u001b[1;33m\u001b[0m\u001b[0m\n",
      "\u001b[1;32m~\\AppData\\Roaming\\Python\\Python37\\site-packages\\ruamel\\yaml\\reader.py\u001b[0m in \u001b[0;36mdetermine_encoding\u001b[1;34m(self)\u001b[0m\n\u001b[0;32m    202\u001b[0m                 \u001b[0mself\u001b[0m\u001b[1;33m.\u001b[0m\u001b[0mraw_decode\u001b[0m \u001b[1;33m=\u001b[0m \u001b[0mcodecs\u001b[0m\u001b[1;33m.\u001b[0m\u001b[0mutf_8_decode\u001b[0m  \u001b[1;31m# type: ignore\u001b[0m\u001b[1;33m\u001b[0m\u001b[1;33m\u001b[0m\u001b[0m\n\u001b[0;32m    203\u001b[0m                 \u001b[0mself\u001b[0m\u001b[1;33m.\u001b[0m\u001b[0mencoding\u001b[0m \u001b[1;33m=\u001b[0m \u001b[1;34m'utf-8'\u001b[0m\u001b[1;33m\u001b[0m\u001b[1;33m\u001b[0m\u001b[0m\n\u001b[1;32m--> 204\u001b[1;33m         \u001b[0mself\u001b[0m\u001b[1;33m.\u001b[0m\u001b[0mupdate\u001b[0m\u001b[1;33m(\u001b[0m\u001b[1;36m1\u001b[0m\u001b[1;33m)\u001b[0m\u001b[1;33m\u001b[0m\u001b[1;33m\u001b[0m\u001b[0m\n\u001b[0m\u001b[0;32m    205\u001b[0m \u001b[1;33m\u001b[0m\u001b[0m\n\u001b[0;32m    206\u001b[0m     NON_PRINTABLE = RegExp(\n",
      "\u001b[1;32m~\\AppData\\Roaming\\Python\\Python37\\site-packages\\ruamel\\yaml\\reader.py\u001b[0m in \u001b[0;36mupdate\u001b[1;34m(self, length)\u001b[0m\n\u001b[0;32m    258\u001b[0m         \u001b[1;32mwhile\u001b[0m \u001b[0mlen\u001b[0m\u001b[1;33m(\u001b[0m\u001b[0mself\u001b[0m\u001b[1;33m.\u001b[0m\u001b[0mbuffer\u001b[0m\u001b[1;33m)\u001b[0m \u001b[1;33m<\u001b[0m \u001b[0mlength\u001b[0m\u001b[1;33m:\u001b[0m\u001b[1;33m\u001b[0m\u001b[1;33m\u001b[0m\u001b[0m\n\u001b[0;32m    259\u001b[0m             \u001b[1;32mif\u001b[0m \u001b[1;32mnot\u001b[0m \u001b[0mself\u001b[0m\u001b[1;33m.\u001b[0m\u001b[0meof\u001b[0m\u001b[1;33m:\u001b[0m\u001b[1;33m\u001b[0m\u001b[1;33m\u001b[0m\u001b[0m\n\u001b[1;32m--> 260\u001b[1;33m                 \u001b[0mself\u001b[0m\u001b[1;33m.\u001b[0m\u001b[0mupdate_raw\u001b[0m\u001b[1;33m(\u001b[0m\u001b[1;33m)\u001b[0m\u001b[1;33m\u001b[0m\u001b[1;33m\u001b[0m\u001b[0m\n\u001b[0m\u001b[0;32m    261\u001b[0m             \u001b[1;32mif\u001b[0m \u001b[0mself\u001b[0m\u001b[1;33m.\u001b[0m\u001b[0mraw_decode\u001b[0m \u001b[1;32mis\u001b[0m \u001b[1;32mnot\u001b[0m \u001b[1;32mNone\u001b[0m\u001b[1;33m:\u001b[0m\u001b[1;33m\u001b[0m\u001b[1;33m\u001b[0m\u001b[0m\n\u001b[0;32m    262\u001b[0m                 \u001b[1;32mtry\u001b[0m\u001b[1;33m:\u001b[0m\u001b[1;33m\u001b[0m\u001b[1;33m\u001b[0m\u001b[0m\n",
      "\u001b[1;32m~\\AppData\\Roaming\\Python\\Python37\\site-packages\\ruamel\\yaml\\reader.py\u001b[0m in \u001b[0;36mupdate_raw\u001b[1;34m(self, size)\u001b[0m\n\u001b[0;32m    286\u001b[0m         \u001b[1;32mif\u001b[0m \u001b[0msize\u001b[0m \u001b[1;32mis\u001b[0m \u001b[1;32mNone\u001b[0m\u001b[1;33m:\u001b[0m\u001b[1;33m\u001b[0m\u001b[1;33m\u001b[0m\u001b[0m\n\u001b[0;32m    287\u001b[0m             \u001b[0msize\u001b[0m \u001b[1;33m=\u001b[0m \u001b[1;36m4096\u001b[0m\u001b[1;33m\u001b[0m\u001b[1;33m\u001b[0m\u001b[0m\n\u001b[1;32m--> 288\u001b[1;33m         \u001b[0mdata\u001b[0m \u001b[1;33m=\u001b[0m \u001b[0mself\u001b[0m\u001b[1;33m.\u001b[0m\u001b[0mstream\u001b[0m\u001b[1;33m.\u001b[0m\u001b[0mread\u001b[0m\u001b[1;33m(\u001b[0m\u001b[0msize\u001b[0m\u001b[1;33m)\u001b[0m\u001b[1;33m\u001b[0m\u001b[1;33m\u001b[0m\u001b[0m\n\u001b[0m\u001b[0;32m    289\u001b[0m         \u001b[1;32mif\u001b[0m \u001b[0mself\u001b[0m\u001b[1;33m.\u001b[0m\u001b[0mraw_buffer\u001b[0m \u001b[1;32mis\u001b[0m \u001b[1;32mNone\u001b[0m\u001b[1;33m:\u001b[0m\u001b[1;33m\u001b[0m\u001b[1;33m\u001b[0m\u001b[0m\n\u001b[0;32m    290\u001b[0m             \u001b[0mself\u001b[0m\u001b[1;33m.\u001b[0m\u001b[0mraw_buffer\u001b[0m \u001b[1;33m=\u001b[0m \u001b[0mdata\u001b[0m\u001b[1;33m\u001b[0m\u001b[1;33m\u001b[0m\u001b[0m\n",
      "\u001b[1;32mC:\\Program Files\\Python37\\lib\\encodings\\cp1251.py\u001b[0m in \u001b[0;36mdecode\u001b[1;34m(self, input, final)\u001b[0m\n\u001b[0;32m     21\u001b[0m \u001b[1;32mclass\u001b[0m \u001b[0mIncrementalDecoder\u001b[0m\u001b[1;33m(\u001b[0m\u001b[0mcodecs\u001b[0m\u001b[1;33m.\u001b[0m\u001b[0mIncrementalDecoder\u001b[0m\u001b[1;33m)\u001b[0m\u001b[1;33m:\u001b[0m\u001b[1;33m\u001b[0m\u001b[1;33m\u001b[0m\u001b[0m\n\u001b[0;32m     22\u001b[0m     \u001b[1;32mdef\u001b[0m \u001b[0mdecode\u001b[0m\u001b[1;33m(\u001b[0m\u001b[0mself\u001b[0m\u001b[1;33m,\u001b[0m \u001b[0minput\u001b[0m\u001b[1;33m,\u001b[0m \u001b[0mfinal\u001b[0m\u001b[1;33m=\u001b[0m\u001b[1;32mFalse\u001b[0m\u001b[1;33m)\u001b[0m\u001b[1;33m:\u001b[0m\u001b[1;33m\u001b[0m\u001b[1;33m\u001b[0m\u001b[0m\n\u001b[1;32m---> 23\u001b[1;33m         \u001b[1;32mreturn\u001b[0m \u001b[0mcodecs\u001b[0m\u001b[1;33m.\u001b[0m\u001b[0mcharmap_decode\u001b[0m\u001b[1;33m(\u001b[0m\u001b[0minput\u001b[0m\u001b[1;33m,\u001b[0m\u001b[0mself\u001b[0m\u001b[1;33m.\u001b[0m\u001b[0merrors\u001b[0m\u001b[1;33m,\u001b[0m\u001b[0mdecoding_table\u001b[0m\u001b[1;33m)\u001b[0m\u001b[1;33m[\u001b[0m\u001b[1;36m0\u001b[0m\u001b[1;33m]\u001b[0m\u001b[1;33m\u001b[0m\u001b[1;33m\u001b[0m\u001b[0m\n\u001b[0m\u001b[0;32m     24\u001b[0m \u001b[1;33m\u001b[0m\u001b[0m\n\u001b[0;32m     25\u001b[0m \u001b[1;32mclass\u001b[0m \u001b[0mStreamWriter\u001b[0m\u001b[1;33m(\u001b[0m\u001b[0mCodec\u001b[0m\u001b[1;33m,\u001b[0m\u001b[0mcodecs\u001b[0m\u001b[1;33m.\u001b[0m\u001b[0mStreamWriter\u001b[0m\u001b[1;33m)\u001b[0m\u001b[1;33m:\u001b[0m\u001b[1;33m\u001b[0m\u001b[1;33m\u001b[0m\u001b[0m\n",
      "\u001b[1;31mUnicodeDecodeError\u001b[0m: 'charmap' codec can't decode byte 0x98 in position 2554: character maps to <undefined>"
     ]
    }
   ],
   "source": [
    "for wled in wleds:\n",
    "    print(wled.name)\n",
    "    wled.dump_omegaconf()"
   ]
  },
  {
   "cell_type": "code",
   "execution_count": 176,
   "metadata": {},
   "outputs": [
    {
     "data": {
      "text/plain": [
       "[200, 200, 200, 200, 200]"
      ]
     },
     "execution_count": 176,
     "metadata": {},
     "output_type": "execute_result"
    }
   ],
   "source": [
    "for wled in wleds:\n",
    "    wled.presets = OmegaConf.to_container(OmegaConf.load(\"default_presets.yaml\"))\n",
    "    wled.upload_presets()\n",
    "    wled.update_time()\n",
    "wleds.reset()\n"
   ]
  },
  {
   "cell_type": "code",
   "execution_count": 64,
   "metadata": {},
   "outputs": [
    {
     "name": "stdout",
     "output_type": "stream",
     "text": [
      "WLED 'WLED kitchen' at 192.168.0.121\n",
      "{'cntdwn': {'goal': [20, 1, 1, 0, 0, 0], 'macro': 0}, 'ins': []}\n",
      "WLED 'WLED-D-mini' at 192.168.0.32\n",
      "{'cntdwn': {'goal': [20, 1, 1, 0, 0, 0], 'macro': 0}, 'ins': [{'dow': 127, 'en': 0, 'hour': 10, 'macro': 6, 'min': 0}, {'dow': 127, 'en': 0, 'hour': 23, 'macro': 12, 'min': 40}]}\n",
      "WLED 'WLED-D-mini-2' at 192.168.0.34\n",
      "{'cntdwn': {'goal': [20, 1, 1, 0, 0, 0], 'macro': 0}, 'ins': [{'dow': 127, 'en': 0, 'hour': 10, 'macro': 6, 'min': 0}, {'dow': 127, 'en': 0, 'hour': 23, 'macro': 12, 'min': 40}]}\n",
      "WLED 'WLED-Dima-Office' at 192.168.0.122\n",
      "{'cntdwn': {'goal': [20, 1, 1, 0, 0, 0], 'macro': 0}, 'ins': [{'dow': 127, 'en': 0, 'hour': 10, 'macro': 6, 'min': 0}, {'dow': 127, 'en': 0, 'hour': 23, 'macro': 12, 'min': 40}]}\n",
      "WLED 'WLED-frame-clock' at 192.168.0.15\n",
      "{'cntdwn': {'goal': [20, 1, 1, 0, 0, 0], 'macro': 0}, 'ins': [{'dow': 127, 'en': 0, 'hour': 10, 'macro': 6, 'min': 0}, {'dow': 127, 'en': 0, 'hour': 23, 'macro': 12, 'min': 40}]}\n"
     ]
    }
   ],
   "source": [
    "for wled in wleds:\n",
    "    oc_dir = wled.get_fs_dump_dir(\"omegaconf_source/{name}\")\n",
    "    cfg_yaml = f\"{oc_dir}/cfg.yaml\"\n",
    "    ww = Wled.from_omegaconf(additional_confs=[cfg_yaml])\n",
    "    ww.ip = wled.ip\n",
    "    print(ww)\n",
    "    print(ww.cfg[\"timers\"])\n",
    "    # ww.upload_cfg()"
   ]
  },
  {
   "cell_type": "code",
   "execution_count": 35,
   "metadata": {},
   "outputs": [
    {
     "name": "stdout",
     "output_type": "stream",
     "text": [
      "WLED 'WLED kitchen' at 192.168.0.121\n",
      "{'cntdwn': {'goal': [20, 1, 1, 0, 0, 0], 'macro': 0}, 'ins': []}\n",
      "WLED 'WLED-D-mini' at 192.168.0.32\n",
      "{'cntdwn': {'goal': [20, 1, 1, 0, 0, 0], 'macro': 0}, 'ins': []}\n",
      "WLED 'WLED-D-mini-2' at 192.168.0.34\n",
      "{'cntdwn': {'goal': [20, 1, 1, 0, 0, 0], 'macro': 0}, 'ins': []}\n",
      "WLED 'WLED-Dima-Office' at 192.168.0.122\n",
      "{'cntdwn': {'goal': [20, 1, 1, 0, 0, 0], 'macro': 0}, 'ins': []}\n",
      "WLED 'WLED-frame-clock' at 192.168.0.15\n",
      "{'cntdwn': {'goal': [20, 1, 1, 0, 0, 0], 'macro': 0}, 'ins': []}\n"
     ]
    }
   ],
   "source": [
    "for wled in wleds:\n",
    "    print(wled)\n",
    "    print(wled.cfg[\"timers\"])"
   ]
  },
  {
   "cell_type": "code",
   "execution_count": 22,
   "metadata": {},
   "outputs": [],
   "source": [
    "d_mini = wleds[\"WLED-Dima-Office\"]"
   ]
  },
  {
   "cell_type": "code",
   "execution_count": 23,
   "metadata": {},
   "outputs": [],
   "source": [
    "d_mini.cache_fs()"
   ]
  },
  {
   "cell_type": "code",
   "execution_count": 24,
   "metadata": {},
   "outputs": [
    {
     "data": {
      "text/plain": [
       "{'rev': [1, 0],\n",
       " 'vid': 2107100,\n",
       " 'id': {'mdns': 'wled-dima-office',\n",
       "  'name': 'WLED-Dima-Office',\n",
       "  'inv': 'Light'},\n",
       " 'nw': {'ins': [{'ssid': 'Vadkovsky_TV',\n",
       "    'pskl': 15,\n",
       "    'ip': [192, 168, 0, 121],\n",
       "    'gw': [0, 0, 0, 0],\n",
       "    'sn': [255, 255, 255, 0]}]},\n",
       " 'ap': {'ssid': 'WLED-AP',\n",
       "  'pskl': 8,\n",
       "  'chan': 1,\n",
       "  'hide': 0,\n",
       "  'behav': 0,\n",
       "  'ip': [4, 3, 2, 1]},\n",
       " 'wifi': {'sleep': False},\n",
       " 'hw': {'led': {'total': 200,\n",
       "   'maxpwr': 6000,\n",
       "   'ledma': 55,\n",
       "   'rgbwm': 3,\n",
       "   'ins': [{'start': 0,\n",
       "     'len': 200,\n",
       "     'pin': [4],\n",
       "     'order': 0,\n",
       "     'rev': False,\n",
       "     'skip': 0,\n",
       "     'type': 22}]},\n",
       "  'btn': {'max': 2,\n",
       "   'ins': [{'type': 2, 'pin': [0], 'macros': [0, 0, 0]},\n",
       "    {'type': 0, 'pin': [-1], 'macros': [0, 0, 0]}],\n",
       "   'tt': 32,\n",
       "   'mqtt': False},\n",
       "  'ir': {'pin': -1, 'type': 0},\n",
       "  'relay': {'pin': 12, 'rev': False}},\n",
       " 'light': {'scale-bri': 100,\n",
       "  'pal-mode': 0,\n",
       "  'gc': {'bri': 1, 'col': 2.8},\n",
       "  'tr': {'mode': True, 'dur': 7, 'pal': 0},\n",
       "  'nl': {'mode': 1, 'dur': 60, 'tbri': 0, 'macro': 0}},\n",
       " 'def': {'ps': 0, 'on': True, 'bri': 255},\n",
       " 'if': {'sync': {'port0': 21324,\n",
       "   'port1': 65506,\n",
       "   'recv': {'bri': False, 'col': False, 'fx': False},\n",
       "   'send': {'dir': True,\n",
       "    'btn': False,\n",
       "    'va': False,\n",
       "    'hue': False,\n",
       "    'macro': False,\n",
       "    'twice': True}},\n",
       "  'nodes': {'list': True, 'bcast': True},\n",
       "  'live': {'en': True,\n",
       "   'port': 5568,\n",
       "   'mc': False,\n",
       "   'dmx': {'uni': 1, 'seqskip': False, 'addr': 1, 'mode': 4},\n",
       "   'timeout': 25,\n",
       "   'maxbri': False,\n",
       "   'no-gc': True,\n",
       "   'offset': 0},\n",
       "  'va': {'alexa': False, 'macros': [0, 0]},\n",
       "  'mqtt': {'en': False,\n",
       "   'broker': '',\n",
       "   'port': 1883,\n",
       "   'user': '',\n",
       "   'pskl': 0,\n",
       "   'cid': 'WLED-ae971c',\n",
       "   'topics': {'device': '???', 'group': 'wled/all'}},\n",
       "  'ntp': {'en': False,\n",
       "   'host': '0.wled.pool.ntp.org',\n",
       "   'tz': 0,\n",
       "   'offset': 10800,\n",
       "   'ampm': False,\n",
       "   'ln': 0,\n",
       "   'lt': 0}},\n",
       " 'ol': {'clock': 0,\n",
       "  'cntdwn': False,\n",
       "  'min': 0,\n",
       "  'max': 29,\n",
       "  'o12pix': 0,\n",
       "  'o5m': False,\n",
       "  'osec': False},\n",
       " 'timers': {'cntdwn': {'goal': [20, 1, 1, 0, 0, 0], 'macro': 0},\n",
       "  'ins': [{'en': 1, 'hour': 10, 'min': 11, 'macro': 2, 'dow': 127},\n",
       "   {'en': 0, 'hour': 255, 'min': 0, 'macro': 0, 'dow': 127},\n",
       "   {'en': 0, 'hour': 255, 'min': 0, 'macro': 0, 'dow': 127}]},\n",
       " 'ota': {'lock': False, 'lock-wifi': False, 'pskl': 7, 'aota': True},\n",
       " 'um': {}}"
      ]
     },
     "execution_count": 24,
     "metadata": {},
     "output_type": "execute_result"
    }
   ],
   "source": [
    "d_mini.cfg"
   ]
  },
  {
   "cell_type": "code",
   "execution_count": 16,
   "metadata": {},
   "outputs": [],
   "source": [
    "for wled in wleds:\n",
    "    wled.reset()"
   ]
  },
  {
   "cell_type": "code",
   "execution_count": 9,
   "metadata": {},
   "outputs": [],
   "source": [
    "for wled in wleds:\n",
    "    wled.update_time()"
   ]
  },
  {
   "cell_type": "code",
   "execution_count": 15,
   "metadata": {},
   "outputs": [
    {
     "data": {
      "text/plain": [
       "{'cntdwn': {'goal': [20, 1, 1, 0, 0, 0], 'macro': 0}, 'ins': []}"
      ]
     },
     "execution_count": 15,
     "metadata": {},
     "output_type": "execute_result"
    }
   ],
   "source": [
    "ww.cfg[\"timers\"]"
   ]
  },
  {
   "cell_type": "code",
   "execution_count": null,
   "metadata": {},
   "outputs": [],
   "source": [
    "for wled in wleds:\n",
    "    oc_dir = wled.get_fs_dump_dir(wled_common_client.OMEGACONF_DUMP_DIR)\n",
    "    cfg_yaml = f\"{oc_dir}/cfg.yaml\"\n",
    "    presets_yaml = f\"{oc_dir}/presets.yaml\"\n",
    "    wled.presets = OmegaConf.load(presets_yaml)\n",
    "    wled.cfg = OmegaConf.load(presets_yaml)"
   ]
  },
  {
   "cell_type": "code",
   "execution_count": null,
   "metadata": {},
   "outputs": [],
   "source": [
    "yaml.load()"
   ]
  },
  {
   "cell_type": "code",
   "execution_count": 28,
   "metadata": {},
   "outputs": [
    {
     "data": {
      "text/plain": [
       "6"
      ]
     },
     "execution_count": 28,
     "metadata": {},
     "output_type": "execute_result"
    }
   ],
   "source": [
    "math.ceil(1000/ (512//3))"
   ]
  },
  {
   "cell_type": "markdown",
   "metadata": {},
   "source": [
    "## DMX interface"
   ]
  },
  {
   "cell_type": "code",
   "execution_count": 20,
   "metadata": {},
   "outputs": [
    {
     "name": "stdout",
     "output_type": "stream",
     "text": [
      "WLED 'WLED kitchen' at 192.168.0.121\n",
      "WLED 'WLED-Dima-Office' at 192.168.0.122\n",
      "WLED 'WLED-UV' at 192.168.0.14\n",
      "WLED 'WLED-Xmas-tree' at 192.168.0.7\n",
      "WLED 'WLED-frame-L1' at 192.168.0.19\n",
      "WLED 'WLED-frame-L2' at 192.168.0.11\n",
      "WLED 'WLED-frame-L3' at 192.168.0.13\n",
      "WLED 'WLED-frame-clock' at 192.168.0.15\n",
      "WLED 'WLED-tube-1' at 192.168.0.12\n"
     ]
    }
   ],
   "source": [
    "import wled_common_client, importlib, datetime, time\n",
    "from omegaconf import DictConfig, OmegaConf, ListConfig\n",
    "importlib.reload(wled_common_client)\n",
    "from wled_common_client import Wled, Wleds\n",
    "from scripts.local_env import default_wled_ip\n",
    "from time import sleep\n",
    "wleds = Wleds.from_one_ip(default_wled_ip(), )\n",
    "wleds.print()\n",
    "default_wled = wleds.get_by_ip(default_wled_ip())"
   ]
  },
  {
   "cell_type": "code",
   "execution_count": 4,
   "metadata": {},
   "outputs": [
    {
     "data": {
      "text/plain": [
       "'2022-02-17 22:25:02.898940'"
      ]
     },
     "execution_count": 4,
     "metadata": {},
     "output_type": "execute_result"
    }
   ],
   "source": [
    "f\"{datetime.datetime.now()}\""
   ]
  },
  {
   "cell_type": "code",
   "execution_count": 13,
   "metadata": {},
   "outputs": [
    {
     "data": {
      "text/plain": [
       "200"
      ]
     },
     "execution_count": 13,
     "metadata": {},
     "output_type": "execute_result"
    }
   ],
   "source": [
    "wl1.reset()"
   ]
  },
  {
   "cell_type": "code",
   "execution_count": 21,
   "metadata": {},
   "outputs": [],
   "source": [
    "# wl1 = wleds[\"WLED-Dima-Office\"]\n",
    "wl1 = wleds[\"WLED-tube-1\"]"
   ]
  },
  {
   "cell_type": "code",
   "execution_count": 32,
   "metadata": {},
   "outputs": [],
   "source": [
    "wl1.dmx.start()"
   ]
  },
  {
   "cell_type": "code",
   "execution_count": 33,
   "metadata": {},
   "outputs": [
    {
     "data": {
      "text/plain": [
       "30"
      ]
     },
     "execution_count": 33,
     "metadata": {},
     "output_type": "execute_result"
    }
   ],
   "source": [
    "wl1.dmx.sender._sender_handler.socket.fps"
   ]
  },
  {
   "cell_type": "code",
   "execution_count": 23,
   "metadata": {},
   "outputs": [],
   "source": [
    "data = [255, 255,0] * (wl1.dmx.n_leds//2 )\n",
    "data += [0, 255,0] * (len(data) - wl1.dmx.n_leds)"
   ]
  },
  {
   "cell_type": "code",
   "execution_count": 24,
   "metadata": {},
   "outputs": [],
   "source": [
    "for i in range(1000):\n",
    "    wl1.dmx.set_data(data)\n",
    "    time.sleep(0.01)\n",
    "    for i in range(3):\n",
    "        data.insert(0, data.pop())"
   ]
  },
  {
   "cell_type": "code",
   "execution_count": 10,
   "metadata": {},
   "outputs": [],
   "source": [
    "wl1.dmx.set_data(data)"
   ]
  },
  {
   "cell_type": "code",
   "execution_count": 31,
   "metadata": {},
   "outputs": [],
   "source": [
    "wl1.dmx.stop()"
   ]
  },
  {
   "cell_type": "markdown",
   "metadata": {},
   "source": [
    "## DMX experiments"
   ]
  },
  {
   "cell_type": "code",
   "execution_count": 30,
   "metadata": {},
   "outputs": [],
   "source": [
    "import sacn\n",
    "import time\n",
    "import math"
   ]
  },
  {
   "cell_type": "code",
   "execution_count": 36,
   "metadata": {},
   "outputs": [],
   "source": [
    "# sender = sacn.sACNsender(bind_address=\"192.168.0.16\")  # provide an IP-Address to bind to if you are using Windows and want to use multicast\n",
    "sender = sacn.sACNsender()  # provide an IP-Address to bind to if you are using Windows and want to use multicast\n",
    "sender.start()  # start the sending thread"
   ]
  },
  {
   "cell_type": "code",
   "execution_count": 42,
   "metadata": {},
   "outputs": [],
   "source": [
    "\n",
    "sender.activate_output(1)  # start sending out data in the 1st universe\n",
    "# sender.activate_output(2)  # start sending out data in the 1st universe\n",
    "sender[1].multicast = True  # set multicast to True\n",
    "sender[1].fps=10\n",
    "# sender[2].multicast = True  # set multicast to True\n",
    "# sender.destination = \"192.168.0.14\"  # or provide unicast information.\n",
    "# sender[1].destination = \"192.168.0.122\"  # or provide unicast information.\n",
    "# sender[2].destination = sender[1].destination  # or provide unicast information.\n",
    "# sender[1].fps = 60\n",
    "# Keep in mind that if multicast is on, unicast is not used\n",
    "\n"
   ]
  },
  {
   "cell_type": "code",
   "execution_count": 41,
   "metadata": {},
   "outputs": [],
   "source": [
    "sender[1].dmx_data = tuple([0, 0, 0] * 100 + [255, 0, 0] * 70 )  # some test DMX data\n"
   ]
  },
  {
   "cell_type": "code",
   "execution_count": 40,
   "metadata": {},
   "outputs": [
    {
     "ename": "AttributeError",
     "evalue": "'NoneType' object has no attribute 'dmx_data'",
     "output_type": "error",
     "traceback": [
      "\u001b[0;31m---------------------------------------------------------------------------\u001b[0m",
      "\u001b[0;31mAttributeError\u001b[0m                            Traceback (most recent call last)",
      "\u001b[0;32m/tmp/ipykernel_1657/2433745147.py\u001b[0m in \u001b[0;36m<module>\u001b[0;34m\u001b[0m\n\u001b[0;32m----> 1\u001b[0;31m \u001b[0msender\u001b[0m\u001b[0;34m[\u001b[0m\u001b[0;36m2\u001b[0m\u001b[0;34m]\u001b[0m\u001b[0;34m.\u001b[0m\u001b[0mdmx_data\u001b[0m \u001b[0;34m=\u001b[0m \u001b[0mtuple\u001b[0m\u001b[0;34m(\u001b[0m\u001b[0;34m[\u001b[0m\u001b[0;36m0\u001b[0m\u001b[0;34m,\u001b[0m \u001b[0;36m0\u001b[0m\u001b[0;34m,\u001b[0m \u001b[0;36m0\u001b[0m\u001b[0;34m]\u001b[0m\u001b[0;34m*\u001b[0m\u001b[0;36m10\u001b[0m \u001b[0;34m+\u001b[0m \u001b[0;34m[\u001b[0m\u001b[0;36m255\u001b[0m\u001b[0;34m,\u001b[0m \u001b[0;36m0\u001b[0m\u001b[0;34m,\u001b[0m \u001b[0;36m0\u001b[0m\u001b[0;34m]\u001b[0m\u001b[0;34m*\u001b[0m\u001b[0;36m166\u001b[0m\u001b[0;34m)\u001b[0m  \u001b[0;31m# some test DMX data\u001b[0m\u001b[0;34m\u001b[0m\u001b[0;34m\u001b[0m\u001b[0m\n\u001b[0m",
      "\u001b[0;31mAttributeError\u001b[0m: 'NoneType' object has no attribute 'dmx_data'"
     ]
    }
   ],
   "source": [
    "sender[2].dmx_data = tuple([0, 0, 0]*10 + [255, 0, 0]*166)  # some test DMX data\n"
   ]
  },
  {
   "cell_type": "code",
   "execution_count": 35,
   "metadata": {},
   "outputs": [],
   "source": [
    "sender.stop()  # do not forget to stop the sender"
   ]
  },
  {
   "cell_type": "markdown",
   "metadata": {},
   "source": [
    "## Tidying up presets"
   ]
  },
  {
   "cell_type": "code",
   "execution_count": 158,
   "metadata": {},
   "outputs": [],
   "source": [
    "import json\n",
    "from ruamel.yaml import YAML\n",
    "yaml = YAML()"
   ]
  },
  {
   "cell_type": "code",
   "execution_count": 119,
   "metadata": {},
   "outputs": [],
   "source": [
    "with open(\"config_dump/WLED-Dima-Office/presets.json\") as js:\n",
    "    p = yaml.load(js)"
   ]
  },
  {
   "cell_type": "code",
   "execution_count": 120,
   "metadata": {},
   "outputs": [],
   "source": [
    "# yaml.compact_seq_seq = True\n",
    "# yaml.compact_seq_map = False\n",
    "yaml.width = 10**7\n",
    "yaml.top_level_colon_align = True\n"
   ]
  },
  {
   "cell_type": "code",
   "execution_count": 121,
   "metadata": {},
   "outputs": [],
   "source": [
    "p.fa.set_block_style()\n",
    "for k in p.keys():\n",
    "    p[k].fa.set_block_style()"
   ]
  },
  {
   "cell_type": "code",
   "execution_count": 122,
   "metadata": {},
   "outputs": [],
   "source": [
    "with open(\"default_presets.yaml\", \"w\") as y:\n",
    "    yaml.dump(p, y)\n"
   ]
  },
  {
   "cell_type": "markdown",
   "metadata": {},
   "source": [
    "# MIDI"
   ]
  },
  {
   "cell_type": "code",
   "execution_count": 1,
   "metadata": {},
   "outputs": [
    {
     "name": "stdout",
     "output_type": "stream",
     "text": [
      "pygame 2.0.1 (SDL 2.0.14, Python 3.9.1)\n",
      "Hello from the pygame community. https://www.pygame.org/contribute.html\n"
     ]
    }
   ],
   "source": [
    "import sys\n",
    "import os\n",
    "\n",
    "import pygame as pg\n",
    "import pygame.midi\n",
    "\n",
    "\n",
    "def print_device_info():\n",
    "    pygame.midi.init()\n",
    "    _print_device_info()\n",
    "    pygame.midi.quit()\n",
    "\n",
    "\n",
    "def _print_device_info():\n",
    "    for i in range(pygame.midi.get_count()):\n",
    "        r = pygame.midi.get_device_info(i)\n",
    "        (interf, name, input, output, opened) = r\n",
    "\n",
    "        in_out = \"\"\n",
    "        if input:\n",
    "            in_out = \"(input)\"\n",
    "        if output:\n",
    "            in_out = \"(output)\"\n",
    "\n",
    "        print(\n",
    "            \"%2i: interface :%s:, name :%s:, opened :%s:  %s\"\n",
    "            % (i, interf, name, opened, in_out)\n",
    "        )\n",
    "\n",
    "\n",
    "def input_main(device_id=None):\n",
    "    pg.init()\n",
    "    pg.fastevent.init()\n",
    "    event_get = pg.fastevent.get\n",
    "    event_post = pg.fastevent.post\n",
    "\n",
    "    pygame.midi.init()\n",
    "\n",
    "    _print_device_info()\n",
    "\n",
    "    if device_id is None:\n",
    "        input_id = pygame.midi.get_default_input_id()\n",
    "    else:\n",
    "        input_id = device_id\n",
    "\n",
    "    print(\"using input_id :%s:\" % input_id)\n",
    "    i = pygame.midi.Input(input_id)\n",
    "\n",
    "    pg.display.set_mode((1, 1))\n",
    "\n",
    "    going = True\n",
    "    while going:\n",
    "        events = event_get()\n",
    "        for e in events:\n",
    "            if e.type in [pg.QUIT]:\n",
    "                going = False\n",
    "            if e.type in [pg.KEYDOWN]:\n",
    "                going = False\n",
    "            if e.type in [pygame.midi.MIDIIN]:\n",
    "                print(e)\n",
    "\n",
    "        if i.poll():\n",
    "            midi_events = i.read(10)\n",
    "            # convert them into pygame events.\n",
    "            midi_evs = pygame.midi.midis2events(midi_events, i.device_id)\n",
    "\n",
    "            for m_e in midi_evs:\n",
    "                event_post(m_e)\n",
    "\n",
    "    del i\n",
    "    pygame.midi.quit()"
   ]
  },
  {
   "cell_type": "code",
   "execution_count": null,
   "metadata": {},
   "outputs": [],
   "source": [
    "input_main()"
   ]
  },
  {
   "cell_type": "markdown",
   "metadata": {},
   "source": [
    "# Pure python"
   ]
  },
  {
   "cell_type": "code",
   "execution_count": 11,
   "metadata": {},
   "outputs": [],
   "source": [
    "s = {(\"a\", 3), (\"b\", 5)}"
   ]
  },
  {
   "cell_type": "code",
   "execution_count": 4,
   "metadata": {},
   "outputs": [],
   "source": [
    "s.add((\"c\", 5))"
   ]
  },
  {
   "cell_type": "code",
   "execution_count": 5,
   "metadata": {},
   "outputs": [
    {
     "data": {
      "text/plain": [
       "{('a', 3), ('b', 5), ('c', 5)}"
      ]
     },
     "execution_count": 5,
     "metadata": {},
     "output_type": "execute_result"
    }
   ],
   "source": [
    "s"
   ]
  },
  {
   "cell_type": "code",
   "execution_count": 6,
   "metadata": {},
   "outputs": [
    {
     "data": {
      "text/plain": [
       "True"
      ]
     },
     "execution_count": 6,
     "metadata": {},
     "output_type": "execute_result"
    }
   ],
   "source": [
    "(\"b\", 5) in s"
   ]
  },
  {
   "cell_type": "code",
   "execution_count": 14,
   "metadata": {},
   "outputs": [],
   "source": [
    "import os, sys, platform\n",
    "python_version = '%s.%s' % (sys.version_info[0], sys.version_info[1])\n",
    "python_full_version = sys.version.split()[0]\n",
    "os.name = os.name\n",
    "sys.platform = sys.platform\n",
    "platform.version = platform.version()\n",
    "platform.machine = platform.machine()\n",
    "platform.python_implementation = platform.python_implementation()"
   ]
  },
  {
   "cell_type": "code",
   "execution_count": 12,
   "metadata": {},
   "outputs": [
    {
     "data": {
      "text/plain": [
       "<module 'preset_manager' from '/home/pi/Svetlitsa_control/scripts/../preset_manager.py'>"
      ]
     },
     "execution_count": 12,
     "metadata": {},
     "output_type": "execute_result"
    }
   ],
   "source": [
    "import preset_manager, importlib\n",
    "importlib.reload(preset_manager)"
   ]
  },
  {
   "cell_type": "code",
   "execution_count": 14,
   "metadata": {},
   "outputs": [
    {
     "data": {
      "text/plain": [
       "{'col': [0, 255, 0],\n",
       " 'secondary_color': [0, 255, 200],\n",
       " 'tertiary_color': [8, 255, 0],\n",
       " 'fx': 0,\n",
       " 'fx_speed': 173,\n",
       " 'fx_intensity': 86,\n",
       " 'palette': 0,\n",
       " 'sync_groups': [1]}"
      ]
     },
     "execution_count": 14,
     "metadata": {},
     "output_type": "execute_result"
    }
   ],
   "source": [
    "preset_manager.get_udp_kwargs(17)"
   ]
  },
  {
   "cell_type": "code",
   "execution_count": 1,
   "metadata": {},
   "outputs": [],
   "source": [
    "from enum import Enum\n",
    "class Some(Enum):\n",
    "    a = \"boo\""
   ]
  },
  {
   "cell_type": "code",
   "execution_count": 3,
   "metadata": {},
   "outputs": [
    {
     "data": {
      "text/plain": [
       "'boo'"
      ]
     },
     "execution_count": 3,
     "metadata": {},
     "output_type": "execute_result"
    }
   ],
   "source": [
    "Some.a.value"
   ]
  },
  {
   "cell_type": "code",
   "execution_count": 36,
   "metadata": {},
   "outputs": [],
   "source": [
    "a = list(range(5))"
   ]
  },
  {
   "cell_type": "code",
   "execution_count": 39,
   "metadata": {},
   "outputs": [
    {
     "data": {
      "text/plain": [
       "[]"
      ]
     },
     "execution_count": 39,
     "metadata": {},
     "output_type": "execute_result"
    }
   ],
   "source": [
    "a * -1"
   ]
  },
  {
   "cell_type": "code",
   "execution_count": 2,
   "metadata": {},
   "outputs": [
    {
     "data": {
      "text/plain": [
       "<filter at 0xae43d2d0>"
      ]
     },
     "execution_count": 2,
     "metadata": {},
     "output_type": "execute_result"
    }
   ],
   "source": [
    "filter(lambda x: x is 4, a)"
   ]
  },
  {
   "cell_type": "markdown",
   "metadata": {},
   "source": [
    "# Newest tests"
   ]
  },
  {
   "cell_type": "code",
   "execution_count": 5,
   "metadata": {},
   "outputs": [
    {
     "data": {
      "text/html": [
       "<br><table><tr><th>WLED name</th><th>IP</th><th>ver</th><th>u</th></tr></table>"
      ]
     },
     "metadata": {},
     "output_type": "display_data"
    }
   ],
   "source": [
    "import wled_common_client, importlib, datetime\n",
    "from omegaconf import DictConfig, OmegaConf, ListConfig\n",
    "importlib.reload(wled_common_client)\n",
    "from wled_common_client import Wled, Wleds\n",
    "from scripts.local_env import default_wled_ip\n",
    "from time import sleep\n",
    "import wled_listener as wl\n",
    "wll=wl.WledListener()\n",
    "default_wled = wl.wleds.get_by_ip(default_wled_ip())\n",
    "from utils import display_dicts\n",
    "from fx_manager import fxs\n",
    "from preset_manager import get_preset_id_by_name as ps\n",
    "\n",
    "display_dicts(wl.wleds, wl.wleds.get_json_info(), fields=[\"ver\", \"u\"], seg_fields=[])\n",
    "# display_dicts(wl.wleds, wl.wleds.get_json_state(), fields=[\"ps\", \"pl\", \"bri\", \"transition\"], seg_fields=[\"fx\", \"sx\", \"ix\"])\n"
   ]
  },
  {
   "cell_type": "code",
   "execution_count": 13,
   "metadata": {},
   "outputs": [
    {
     "data": {
      "text/html": [
       "<br><table><tr><th>WLED name</th><th>IP</th><th>ps</th><th>pl</th><th>bri</th><th>transition</th><th>fx</th><th>sx</th><th>ix</th></tr><tr><td>wl.wleds['WLED-D-mini-3']</td><td>192.168.0.169</td><td>-1</td><td>-1</td><td>255</td><td>7</td><td>0</td><td>10</td><td>255</td></tr><tr><td>wl.wleds['WLED-frame-Cubes']</td><td>192.168.0.23</td><td>-1</td><td>-1</td><td>255</td><td>7</td><td>0</td><td>10</td><td>255</td></tr><tr><td>wl.wleds['WLED-frame-Muller-Lyer']</td><td>192.168.0.119</td><td>-1</td><td>-1</td><td>255</td><td>7</td><td>0</td><td>10</td><td>255</td></tr><tr><td>wl.wleds['WLED-frame-Objects']</td><td>192.168.0.132</td><td>-1</td><td>-1</td><td>255</td><td>7</td><td>9</td><td>64</td><td>127</td></tr><tr><td>wl.wleds['WLED-frame-Paste']</td><td>192.168.0.149</td><td>-1</td><td>-1</td><td>255</td><td>7</td><td>0</td><td>10</td><td>255</td></tr><tr><td>wl.wleds['WLED-frame-Stroop']</td><td>192.168.0.173</td><td>-1</td><td>-1</td><td>255</td><td>7</td><td>0</td><td>10</td><td>255</td></tr><tr><td>wl.wleds['WLED-frame-Three-Colors']</td><td>192.168.0.160</td><td>-1</td><td>-1</td><td>255</td><td>7</td><td>0</td><td>10</td><td>255</td></tr><tr><td>wl.wleds['WLED-mirror']</td><td>192.168.0.197</td><td>-1</td><td>-1</td><td>255</td><td>7</td><td>8</td><td>40</td><td>255</td></tr></table>"
      ]
     },
     "metadata": {},
     "output_type": "display_data"
    }
   ],
   "source": [
    "display_dicts(wl.wleds, wl.wleds.get_json_state(), fields=[\"ps\", \"pl\", \"bri\", \"transition\"], seg_fields=[\"fx\", \"sx\", \"ix\"])"
   ]
  },
  {
   "cell_type": "code",
   "execution_count": 17,
   "metadata": {},
   "outputs": [
    {
     "data": {
      "text/html": [
       "<br><table><tr><th>WLED name</th><th>IP</th><th>ver</th><th>u</th><th>ps</th><th>seg.fx</th><th>fx</th></tr><tr><td>wl.wleds['WLED-Coach']</td><td>192.168.0.8</td><td>0.13.3</td><td>NO u</td><td>NO ps</td><td>NO seg.fx</td><td>NO fx</td></tr><tr><td>wl.wleds['WLED-Dara']</td><td>192.168.0.7</td><td>0.13.3</td><td>NO u</td><td>NO ps</td><td>NO seg.fx</td><td>NO fx</td></tr></table>"
      ]
     },
     "metadata": {},
     "output_type": "display_data"
    }
   ],
   "source": [
    "display_dicts(wl.wleds, wl.wleds.get_json_info(), fields=[\"ver\", \"u\", \"ps\", \"seg.fx\"])"
   ]
  },
  {
   "cell_type": "code",
   "execution_count": 3,
   "metadata": {},
   "outputs": [],
   "source": [
    "import importlib\n",
    "import shows, show_elements, utils\n",
    "importlib.reload(show_elements)\n",
    "importlib.reload(shows)\n",
    "from show_elements import *"
   ]
  },
  {
   "cell_type": "code",
   "execution_count": 5,
   "metadata": {},
   "outputs": [
    {
     "data": {
      "text/plain": [
       "False"
      ]
     },
     "execution_count": 5,
     "metadata": {},
     "output_type": "execute_result"
    }
   ],
   "source": [
    "shows.Show([\n",
    "        FXOnFiltered(fxs.POLICE, 5 ,10, 1, col=[255, 92, 119], secondary_color=[0,0,0,0], tertiary_color=[0,0,0,0], filter_lambda=lambda w: \"Objects\" in w.name), # Police\n",
    "        FXOnFiltered(fxs.TRICOLOR_CHASE, 5, 255, 255, col=[0, 255, 119], secondary_color=[0,0,0,0], tertiary_color=[0,0,0,0], filter_lambda=lambda w: \"Objects\" in w.name), # Green Running\n",
    "        FXOnFiltered(fxs.TRICOLOR_CHASE, 5, 255, 255, col=[255, 0, 0], secondary_color=[0,0,0,0], tertiary_color=[0,0,0,0], filter_lambda=lambda w: \"Objects\" in w.name), # Red Running\n",
    "        RBPills(5, filter_lambda=lambda w: \"Objects\" in w.name), # Red Running, \n",
    "        PresetOnFiltered(ps(\"Rainbow\"), 5, 127, 64, filter_lambda=lambda w: \"Objects\" in w.name)\n",
    "        ]).run_once()"
   ]
  },
  {
   "cell_type": "code",
   "execution_count": 18,
   "metadata": {},
   "outputs": [
    {
     "name": "stdout",
     "output_type": "stream",
     "text": [
      "WLED-Coach won!\n"
     ]
    },
    {
     "data": {
      "text/plain": [
       "False"
      ]
     },
     "execution_count": 18,
     "metadata": {},
     "output_type": "execute_result"
    }
   ],
   "source": [
    "shows.Show([\n",
    "        DMXRace(5, lambda w: \"Dara\" not in w.name)\n",
    "        ]).run_once()"
   ]
  },
  {
   "cell_type": "code",
   "execution_count": 8,
   "metadata": {},
   "outputs": [
    {
     "data": {
      "text/plain": [
       "False"
      ]
     },
     "execution_count": 8,
     "metadata": {},
     "output_type": "execute_result"
    }
   ],
   "source": [
    "shows.SilentShows.best_frames.run_once()"
   ]
  },
  {
   "cell_type": "code",
   "execution_count": 22,
   "metadata": {},
   "outputs": [],
   "source": [
    "from enum import Enum"
   ]
  },
  {
   "cell_type": "code",
   "execution_count": 23,
   "metadata": {},
   "outputs": [],
   "source": [
    "class Shows(Enum):\n",
    "    red = shows.red\n",
    "    blue = shows.blue"
   ]
  },
  {
   "cell_type": "code",
   "execution_count": 26,
   "metadata": {},
   "outputs": [
    {
     "data": {
      "text/plain": [
       "Show red\n",
       "Total 1 effects for 10 s\n",
       "RedImmediate(pow 255, spd 20) for 10 s"
      ]
     },
     "execution_count": 26,
     "metadata": {},
     "output_type": "execute_result"
    }
   ],
   "source": [
    "Shows.red.value"
   ]
  },
  {
   "cell_type": "code",
   "execution_count": null,
   "metadata": {},
   "outputs": [],
   "source": [
    "shows"
   ]
  },
  {
   "cell_type": "code",
   "execution_count": 63,
   "metadata": {},
   "outputs": [],
   "source": [
    "from utils import dotdict\n",
    "from inspect import ismethod"
   ]
  },
  {
   "cell_type": "code",
   "execution_count": 67,
   "metadata": {},
   "outputs": [],
   "source": [
    "class NamingEnum:\n",
    "    @classmethod\n",
    "    def __init_names__(cls):\n",
    "        for attr in cls.keys():\n",
    "            # getattr(cls, attr).name = attr\n",
    "            print(f\"{attr}: {type(getattr(cls, attr))}\")\n",
    "\n",
    "    @classmethod\n",
    "    def keys(cls):\n",
    "        return [a for a, v in cls.__dict__.items() if not a.startswith('__') and not ismethod(v)]\n",
    "    \n",
    "    @classmethod\n",
    "    def items(cls):\n",
    "        return [(a,v) for a, v in cls.__dict__.items() if not a.startswith('__') and not ismethod(v)]\n",
    "\n",
    "    @classmethod\n",
    "    def values(cls):\n",
    "        return [v for a, v in cls.__dict__.items() if not a.startswith('__') and not ismethod(v)]\n"
   ]
  },
  {
   "cell_type": "code",
   "execution_count": 66,
   "metadata": {},
   "outputs": [
    {
     "name": "stdout",
     "output_type": "stream",
     "text": [
      "a: <class 'utils.dotdict'>\n",
      "b: <class 'utils.dotdict'>\n"
     ]
    }
   ],
   "source": [
    "class Boo(NamingEnum):\n",
    "    a = dotdict()\n",
    "    b = dotdict()\n",
    "\n",
    "Boo.__init_names__()"
   ]
  },
  {
   "cell_type": "markdown",
   "metadata": {},
   "source": [
    "# Race Sketch"
   ]
  },
  {
   "cell_type": "code",
   "execution_count": 16,
   "metadata": {},
   "outputs": [],
   "source": [
    "from IPython.display import display_html, clear_output\n",
    "import time\n",
    "import math\n",
    "from random import randint\n",
    "\n",
    "def display_current_progress(current_progress, n_leds):\n",
    "    clear_output(wait=True)\n",
    "    scale = 4\n",
    "    r = \"<br><table><tr><th>Lines</th>\"\n",
    "    r+=\"</tr>\"\n",
    "    for p in current_progress:\n",
    "        r += f\"<tr><td width='{scale*n_leds}px'>\"\n",
    "        r += f\"<div style='background:green; height:20px; width:{scale*p}px'></div>\"\n",
    "        r += \"</td>\"\n",
    "        \n",
    "        r += \"</tr>\"\n",
    "    r += \"</table>\"\n",
    "    display_html(r, raw=True)\n",
    "\n"
   ]
  },
  {
   "cell_type": "code",
   "execution_count": 17,
   "metadata": {},
   "outputs": [
    {
     "data": {
      "text/html": [
       "<br><table><tr><th>Lines</th></tr><tr><td width='200px'><div style='background:green; height:20px; width:80px'></div></td></tr><tr><td width='200px'><div style='background:green; height:20px; width:40px'></div></td></tr><tr><td width='200px'><div style='background:green; height:20px; width:120px'></div></td></tr></table>"
      ]
     },
     "metadata": {},
     "output_type": "display_data"
    }
   ],
   "source": [
    "display_current_progress([20, 10, 30], 50)"
   ]
  },
  {
   "cell_type": "code",
   "execution_count": 48,
   "metadata": {},
   "outputs": [],
   "source": [
    "current_progress = [0, 0, 0, 0]\n",
    "n_leds = 50\n",
    "duration = 10"
   ]
  },
  {
   "cell_type": "code",
   "execution_count": 49,
   "metadata": {},
   "outputs": [],
   "source": [
    "def step_progress():\n",
    "    global last_step\n",
    "    global current_progress\n",
    "    step_every = duration/n_leds/len(current_progress)\n",
    "    need_steps = math.floor((time.time() - last_step)/step_every)\n",
    "    for i in range(need_steps):\n",
    "        current_progress[randint(0, len(current_progress) - 1)] += 1\n",
    "        last_step = time.time()"
   ]
  },
  {
   "cell_type": "code",
   "execution_count": 50,
   "metadata": {},
   "outputs": [
    {
     "data": {
      "text/html": [
       "<br><table><tr><th>Lines</th></tr><tr><td width='200px'><div style='background:green; height:20px; width:192px'></div></td></tr><tr><td width='200px'><div style='background:green; height:20px; width:200px'></div></td></tr><tr><td width='200px'><div style='background:green; height:20px; width:124px'></div></td></tr><tr><td width='200px'><div style='background:green; height:20px; width:128px'></div></td></tr></table>"
      ]
     },
     "metadata": {},
     "output_type": "display_data"
    }
   ],
   "source": [
    "start_time = time.time()\n",
    "last_step = start_time\n",
    "champion_found = False\n",
    "while not champion_found:\n",
    "    step_progress()\n",
    "    display_current_progress(current_progress, n_leds)\n",
    "    for progress in current_progress:\n",
    "        if (progress >= n_leds):\n",
    "            champion_found = True\n",
    "    time.sleep(1/60)"
   ]
  },
  {
   "cell_type": "code",
   "execution_count": 51,
   "metadata": {},
   "outputs": [
    {
     "name": "stdout",
     "output_type": "stream",
     "text": [
      " 01:19:46 up 6 days, 23:55,  4 users,  load average: 0.69, 0.91, 0.95\n"
     ]
    }
   ],
   "source": [
    "!uptime"
   ]
  },
  {
   "cell_type": "code",
   "execution_count": 13,
   "metadata": {},
   "outputs": [],
   "source": [
    "import random"
   ]
  },
  {
   "cell_type": "code",
   "execution_count": 15,
   "metadata": {},
   "outputs": [
    {
     "data": {
      "text/plain": [
       "0"
      ]
     },
     "execution_count": 15,
     "metadata": {},
     "output_type": "execute_result"
    }
   ],
   "source": [
    "random.randint(0, 4)"
   ]
  },
  {
   "cell_type": "code",
   "execution_count": 31,
   "metadata": {},
   "outputs": [
    {
     "data": {
      "text/plain": [
       "[0, 0, 0, 0]"
      ]
     },
     "execution_count": 31,
     "metadata": {},
     "output_type": "execute_result"
    }
   ],
   "source": [
    "current_progress"
   ]
  },
  {
   "cell_type": "code",
   "execution_count": null,
   "metadata": {},
   "outputs": [],
   "source": []
  }
 ],
 "metadata": {
  "kernelspec": {
   "display_name": "Python 3.7.3 ('wled-env')",
   "language": "python",
   "name": "python3"
  },
  "language_info": {
   "codemirror_mode": {
    "name": "ipython",
    "version": 3
   },
   "file_extension": ".py",
   "mimetype": "text/x-python",
   "name": "python",
   "nbconvert_exporter": "python",
   "pygments_lexer": "ipython3",
   "version": "3.7.3"
  },
  "metadata": {
   "interpreter": {
    "hash": "a8d442f6dd62b609d6bd95fbce93bba865aab1059e13b46fe6c1425095fb225a"
   }
  },
  "orig_nbformat": 2,
  "vscode": {
   "interpreter": {
    "hash": "f7e97ffafb5242f14c351a365b6b009af7c415bf18fbd57b26cb07c31ed975d1"
   }
  }
 },
 "nbformat": 4,
 "nbformat_minor": 2
}
