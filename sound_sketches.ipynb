{
 "cells": [
  {
   "cell_type": "code",
   "execution_count": 7,
   "metadata": {},
   "outputs": [],
   "source": [
    "import pygame\n",
    "pygame.mixer.init()  # Initialize the mixer module.\n",
    "sound1 = pygame.mixer.Sound('sounds/Ambient_Blues_1.mp3')  # Load a sound.\n",
    "sound2 = pygame.mixer.Sound('sounds/mixkit-tropical-bird-squeak-27.wav')  # Load a sound."
   ]
  },
  {
   "cell_type": "code",
   "execution_count": 12,
   "metadata": {},
   "outputs": [],
   "source": [
    "channel1 = sound1.play()"
   ]
  },
  {
   "cell_type": "code",
   "execution_count": 13,
   "metadata": {},
   "outputs": [],
   "source": [
    "channel1.fadeout(1000)"
   ]
  },
  {
   "cell_type": "code",
   "execution_count": 6,
   "metadata": {},
   "outputs": [
    {
     "name": "stdout",
     "output_type": "stream",
     "text": [
      "None\n"
     ]
    }
   ],
   "source": [
    "s = channel1.get_sound()\n",
    "print (s)"
   ]
  },
  {
   "cell_type": "code",
   "execution_count": 10,
   "metadata": {},
   "outputs": [],
   "source": [
    "channel2 = sound2.play()"
   ]
  },
  {
   "cell_type": "markdown",
   "metadata": {},
   "source": [
    "## Downloads"
   ]
  },
  {
   "cell_type": "code",
   "execution_count": 4,
   "metadata": {},
   "outputs": [
    {
     "name": "stdout",
     "output_type": "stream",
     "text": [
      "/home/pi/Svetlitsa_control\n",
      "--2022-01-26 00:28:30--  https://files.freemusicarchive.org/storage-freemusicarchive-org/tracks/alWnaNUQ88usIRFQVpEMozEvSvFr49dXdex3vHwV.mp3?download=1&name=Lobo%20Loco%20-%20Ambient%20Blues%20Joe%20%28ID%20773%29%20-%20Remastered.mp3\n",
      "Resolving files.freemusicarchive.org (files.freemusicarchive.org)... 172.67.73.168, 104.26.11.182, 104.26.10.182, ...\n",
      "Connecting to files.freemusicarchive.org (files.freemusicarchive.org)|172.67.73.168|:443... connected.\n",
      "HTTP request sent, awaiting response... 200 OK\n",
      "Length: 61943748 (59M) [audio/mpeg]\n",
      "Saving to: ‘Ambient_Blues_1.mp3’\n",
      "\n",
      "Ambient_Blues_1.mp3 100%[===================>]  59.07M  10.5MB/s    in 5.8s    \n",
      "\n",
      "2022-01-26 00:28:36 (10.2 MB/s) - ‘Ambient_Blues_1.mp3’ saved [61943748/61943748]\n",
      "\n"
     ]
    }
   ],
   "source": [
    "!pwd\n",
    "!mkdir -p sounds\n",
    "!cd sounds && wget -nc \"https://files.freemusicarchive.org/storage-freemusicarchive-org/tracks/alWnaNUQ88usIRFQVpEMozEvSvFr49dXdex3vHwV.mp3?download=1&name=Lobo%20Loco%20-%20Ambient%20Blues%20Joe%20%28ID%20773%29%20-%20Remastered.mp3\" -O Ambient_Blues_1.mp3"
   ]
  },
  {
   "cell_type": "code",
   "execution_count": null,
   "metadata": {},
   "outputs": [],
   "source": []
  }
 ],
 "metadata": {
  "interpreter": {
   "hash": "eb5fa0c3666e44bdec72e82ef1d189280fa6e13b25c2a50cba9a6f6e7cd54400"
  },
  "kernelspec": {
   "display_name": "Python 3.7.3 32-bit ('wled-env': venv)",
   "language": "python",
   "name": "python3"
  },
  "language_info": {
   "codemirror_mode": {
    "name": "ipython",
    "version": 3
   },
   "file_extension": ".py",
   "mimetype": "text/x-python",
   "name": "python",
   "nbconvert_exporter": "python",
   "pygments_lexer": "ipython3",
   "version": "3.7.3"
  },
  "orig_nbformat": 4
 },
 "nbformat": 4,
 "nbformat_minor": 2
}
