{
 "cells": [
  {
   "cell_type": "markdown",
   "metadata": {},
   "source": [
    "See [Mir github](https://github.com/mir-lab/touchdesigner-summit-2019-external-python) and [Mir youtube](https://www.youtube.com/playlist?list=PLBjvv2l4Z43gfg65BUGGQDz2ue10eTgjK) for the details"
   ]
  },
  {
   "cell_type": "markdown",
   "metadata": {},
   "source": [
    "# Latest approach for env setup — use venv --copies"
   ]
  },
  {
   "cell_type": "code",
   "execution_count": 24,
   "metadata": {},
   "outputs": [
    {
     "name": "stdout",
     "output_type": "stream",
     "text": [
      "Microsoft Windows [Version 10.0.19041.1288]\n",
      "(c) ��௮��� �������� (Microsoft Corporation). �� �ࠢ� ���饭�.\n",
      "\n",
      "c:\\Users\\okdim\\YandexDisk\\coding_leisure\\touch_designer\\Svetlitsa_control>mkdir \"C:/Program Files/Derivative/TouchDesigner/bin/DLLs\"\n",
      "\n",
      "c:\\Users\\okdim\\YandexDisk\\coding_leisure\\touch_designer\\Svetlitsa_control>type NUL > \"C:/Program Files/Derivative/TouchDesigner/bin/pythonw.exe\"\n",
      "\n",
      "c:\\Users\\okdim\\YandexDisk\\coding_leisure\\touch_designer\\Svetlitsa_control>py -3.7 -m virtualenv -p=\"C:/Program Files/Derivative/TouchDesigner/bin/python.exe\" -v svetlitsa_virtualenv \n",
      "find interpreter for spec PythonSpec(path=C:/Program Files/Derivative/TouchDesigner/bin/python.exe)\n",
      "proposed PythonInfo(spec=CPython3.7.2.final.0-64, exe=C:\\Program Files\\Derivative\\TouchDesigner\\bin\\python.exe, platform=win32, version='3.7.2 (heads/3.7-Derivative:052feb9e72, Mar  7 2019, 16:29:45) [MSC v.1900 64 bit (AMD64)]', encoding_fs_io=utf-8-utf-8)\n",
      "create virtual environment via CPython3Windows(dest=C:\\Users\\okdim\\YandexDisk\\coding_leisure\\touch_designer\\Svetlitsa_control\\svetlitsa_virtualenv, clear=False, no_vcs_ignore=False, global=False)\n",
      "add seed packages via FromAppData(download=False, pip=bundle, setuptools=bundle, wheel=bundle, via=copy, app_data_dir=C:\\Users\\okdim\\AppData\\Local\\pypa\\virtualenv)\n",
      "add activators for Bash, Batch, Fish, Nushell, PowerShell, Python\n",
      "created virtual environment CPython3.7.2.final.0-64 in 7577ms\n",
      "  creator CPython3Windows(dest=C:\\Users\\okdim\\YandexDisk\\coding_leisure\\touch_designer\\Svetlitsa_control\\svetlitsa_virtualenv, clear=False, no_vcs_ignore=False, global=False)\n",
      "  seeder FromAppData(download=False, pip=bundle, setuptools=bundle, wheel=bundle, via=copy, app_data_dir=C:\\Users\\okdim\\AppData\\Local\\pypa\\virtualenv)\n",
      "    added seed packages: pip==21.3.1, setuptools==58.3.0, wheel==0.37.0\n",
      "  activators BashActivator,BatchActivator,FishActivator,NushellActivator,PowerShellActivator,PythonActivator\n",
      "\n",
      "c:\\Users\\okdim\\YandexDisk\\coding_leisure\\touch_designer\\Svetlitsa_control>"
     ]
    },
    {
     "name": "stderr",
     "output_type": "stream",
     "text": [
      "�������� ��� 䠩� C:/Program Files/Derivative/TouchDesigner/bin/DLLs 㦥 �������.\n",
      "�⪠���� � ����㯥.\n"
     ]
    }
   ],
   "source": [
    "%%cmd\n",
    "mkdir \"C:/Program Files/Derivative/TouchDesigner/bin/DLLs\"\n",
    "type NUL > \"C:/Program Files/Derivative/TouchDesigner/bin/pythonw.exe\"\n",
    "py -3.7 -m virtualenv -p=\"C:/Program Files/Derivative/TouchDesigner/bin/python.exe\" -v svetlitsa_virtualenv \n"
   ]
  },
  {
   "cell_type": "code",
   "execution_count": null,
   "metadata": {},
   "outputs": [],
   "source": [
    "%%powershell\n",
    "mkdir \"C:/Program Files/Derivative/TouchDesigner/bin/DLLs\"\n",
    "New-Item \"C:/Program Files/Derivative/TouchDesigner/bin/pythonw.exe\"\n",
    "py -3.7 -m virtualenv -p=\"C:/Program Files/Derivative/TouchDesigner/bin/python.exe\" -vv svetlitsa_virtualenv "
   ]
  },
  {
   "cell_type": "code",
   "execution_count": 25,
   "metadata": {},
   "outputs": [
    {
     "name": "stdout",
     "output_type": "stream",
     "text": [
      "Microsoft Windows [Version 10.0.19041.1288]\n",
      "(c) ��௮��� �������� (Microsoft Corporation). �� �ࠢ� ���饭�.\n",
      "\n",
      "c:\\Users\\okdim\\YandexDisk\\coding_leisure\\touch_designer\\Svetlitsa_control>svetlitsa_virtualenv/Scripts/activate.bat\n",
      "\n",
      "c:\\Users\\okdim\\YandexDisk\\coding_leisure\\touch_designer\\Svetlitsa_control>pip install -r requirements.txt\n",
      "Defaulting to user installation because normal site-packages is not writeable\n",
      "Requirement already satisfied: sacn in c:\\users\\okdim\\appdata\\roaming\\python\\python37\\site-packages (from -r requirements.txt (line 1)) (1.8.1)\n",
      "Requirement already satisfied: ruamel.yaml in c:\\users\\okdim\\appdata\\roaming\\python\\python37\\site-packages (from -r requirements.txt (line 2)) (0.17.16)\n",
      "Requirement already satisfied: pygame in c:\\users\\okdim\\appdata\\roaming\\python\\python37\\site-packages (from -r requirements.txt (line 3)) (2.0.2)\n",
      "Requirement already satisfied: hydra-core in c:\\users\\okdim\\appdata\\roaming\\python\\python37\\site-packages (from -r requirements.txt (line 4)) (1.1.1)\n",
      "Requirement already satisfied: dictdiffer in c:\\users\\okdim\\appdata\\roaming\\python\\python37\\site-packages (from -r requirements.txt (line 5)) (0.9.0)\n",
      "Requirement already satisfied: requests in c:\\users\\okdim\\appdata\\roaming\\python\\python37\\site-packages (from -r requirements.txt (line 6)) (2.26.0)\n",
      "Requirement already satisfied: ruamel.yaml.clib>=0.1.2 in c:\\users\\okdim\\appdata\\roaming\\python\\python37\\site-packages (from ruamel.yaml->-r requirements.txt (line 2)) (0.2.6)\n",
      "Requirement already satisfied: omegaconf==2.1.* in c:\\users\\okdim\\appdata\\roaming\\python\\python37\\site-packages (from hydra-core->-r requirements.txt (line 4)) (2.1.1)\n",
      "Requirement already satisfied: importlib-resources in c:\\users\\okdim\\appdata\\roaming\\python\\python37\\site-packages (from hydra-core->-r requirements.txt (line 4)) (5.3.0)\n",
      "Requirement already satisfied: antlr4-python3-runtime==4.8 in c:\\users\\okdim\\appdata\\roaming\\python\\python37\\site-packages (from hydra-core->-r requirements.txt (line 4)) (4.8)\n",
      "Requirement already satisfied: PyYAML>=5.1.0 in c:\\users\\okdim\\appdata\\roaming\\python\\python37\\site-packages (from omegaconf==2.1.*->hydra-core->-r requirements.txt (line 4)) (6.0)\n",
      "Requirement already satisfied: charset-normalizer~=2.0.0 in c:\\users\\okdim\\appdata\\roaming\\python\\python37\\site-packages (from requests->-r requirements.txt (line 6)) (2.0.7)\n",
      "Requirement already satisfied: idna<4,>=2.5 in c:\\users\\okdim\\appdata\\roaming\\python\\python37\\site-packages (from requests->-r requirements.txt (line 6)) (3.3)\n",
      "Requirement already satisfied: certifi>=2017.4.17 in c:\\users\\okdim\\appdata\\roaming\\python\\python37\\site-packages (from requests->-r requirements.txt (line 6)) (2021.10.8)\n",
      "Requirement already satisfied: urllib3<1.27,>=1.21.1 in c:\\users\\okdim\\appdata\\roaming\\python\\python37\\site-packages (from requests->-r requirements.txt (line 6)) (1.26.7)\n",
      "Requirement already satisfied: zipp>=3.1.0 in c:\\users\\okdim\\appdata\\roaming\\python\\python37\\site-packages (from importlib-resources->hydra-core->-r requirements.txt (line 4)) (3.5.0)\n",
      "\n",
      "c:\\Users\\okdim\\YandexDisk\\coding_leisure\\touch_designer\\Svetlitsa_control>"
     ]
    },
    {
     "name": "stderr",
     "output_type": "stream",
     "text": [
      "\"svetlitsa_virtualenv\" �� ���� ����७��� ��� ���譥�\n",
      "��������, �ᯮ��塞�� �ணࠬ��� ��� ������ 䠩���.\n",
      "WARNING: pip is being invoked by an old script wrapper. This will fail in a future version of pip.\n",
      "Please see https://github.com/pypa/pip/issues/5599 for advice on fixing the underlying issue.\n",
      "To avoid this problem you can invoke Python with '-m pip' instead of running pip directly.\n",
      "WARNING: You are using pip version 21.2.4; however, version 21.3.1 is available.\n",
      "You should consider upgrading via the 'c:\\program files\\python37\\python.exe -m pip install --upgrade pip' command.\n"
     ]
    }
   ],
   "source": [
    "%%cmd\n",
    "svetlitsa_virtualenv/Scripts/activate.bat\n",
    "pip install -r requirements.txt"
   ]
  },
  {
   "cell_type": "code",
   "execution_count": null,
   "metadata": {},
   "outputs": [],
   "source": [
    "%%powershell\n",
    "Set-ExecutionPolicy Unrestricted -Scope Process\n",
    ".\\svetlitsa_virtualenv\\Scripts\\activate.ps1\n",
    "pip install -r requirements.txt"
   ]
  },
  {
   "cell_type": "markdown",
   "metadata": {},
   "source": [
    "# Previous stuff"
   ]
  },
  {
   "cell_type": "code",
   "execution_count": 7,
   "metadata": {},
   "outputs": [
    {
     "name": "stdout",
     "output_type": "stream",
     "text": [
      "Microsoft Windows [Version 10.0.19041.1165]\n",
      "(c) ��௮��� �������� (Microsoft Corporation). �� �ࠢ� ���饭�.\n",
      "\n",
      "c:\\Users\\okdim\\YandexDisk\\coding_leisure\\touch_designer\\Svetlitsa_control>py -m pip install --upgrade --user pip\n",
      "Requirement already satisfied: pip in c:\\users\\okdim\\appdata\\roaming\\python\\python37\\site-packages (21.2.4)\n",
      "\n",
      "c:\\Users\\okdim\\YandexDisk\\coding_leisure\\touch_designer\\Svetlitsa_control>"
     ]
    }
   ],
   "source": [
    "%%cmd\n",
    "py -m pip install --upgrade --user pip"
   ]
  },
  {
   "cell_type": "code",
   "execution_count": 11,
   "metadata": {},
   "outputs": [
    {
     "name": "stderr",
     "output_type": "stream",
     "text": [
      "\"pwd\" �� ���� ����७��� ��� ���譥�\n",
      "��������, �ᯮ��塞�� �ணࠬ��� ��� ������ 䠩���.\n"
     ]
    }
   ],
   "source": [
    "!pwd"
   ]
  },
  {
   "cell_type": "code",
   "execution_count": 10,
   "metadata": {},
   "outputs": [
    {
     "name": "stdout",
     "output_type": "stream",
     "text": [
      "Microsoft Windows [Version 10.0.19041.1165]\n",
      "(c) ��௮��� �������� (Microsoft Corporation). �� �ࠢ� ���饭�.\n",
      "\n",
      "c:\\Users\\okdim\\YandexDisk\\coding_leisure\\touch_designer\\Svetlitsa_control>py -m pip install -r requirements.txt --target=\"./dep/python\"\n",
      "Collecting sacn\n",
      "  Using cached sacn-1.8.1-py3-none-any.whl (47 kB)\n",
      "Collecting ruamel.yaml\n",
      "  Using cached ruamel.yaml-0.17.16-py3-none-any.whl (109 kB)\n",
      "Collecting pygame\n",
      "  Using cached pygame-2.0.1-cp37-cp37m-win_amd64.whl (5.2 MB)\n",
      "Collecting hydra-core\n",
      "  Downloading hydra_core-1.1.1-py3-none-any.whl (145 kB)\n",
      "Collecting dictdiffer\n",
      "  Downloading dictdiffer-0.9.0-py2.py3-none-any.whl (16 kB)\n",
      "Collecting requests\n",
      "  Using cached requests-2.26.0-py2.py3-none-any.whl (62 kB)\n",
      "Collecting ruamel.yaml.clib>=0.1.2\n",
      "  Using cached ruamel.yaml.clib-0.2.6-cp37-cp37m-win_amd64.whl (115 kB)\n",
      "Collecting importlib-resources\n",
      "  Downloading importlib_resources-5.2.2-py3-none-any.whl (27 kB)\n",
      "Collecting antlr4-python3-runtime==4.8\n",
      "  Downloading antlr4-python3-runtime-4.8.tar.gz (112 kB)\n",
      "Collecting omegaconf==2.1.*\n",
      "  Downloading omegaconf-2.1.1-py3-none-any.whl (74 kB)\n",
      "Collecting PyYAML>=5.1.0\n",
      "  Downloading PyYAML-5.4.1-cp37-cp37m-win_amd64.whl (210 kB)\n",
      "Collecting urllib3<1.27,>=1.21.1\n",
      "  Using cached urllib3-1.26.6-py2.py3-none-any.whl (138 kB)\n",
      "Collecting certifi>=2017.4.17\n",
      "  Using cached certifi-2021.5.30-py2.py3-none-any.whl (145 kB)\n",
      "Collecting idna<4,>=2.5\n",
      "  Using cached idna-3.2-py3-none-any.whl (59 kB)\n",
      "Collecting charset-normalizer~=2.0.0\n",
      "  Using cached charset_normalizer-2.0.4-py3-none-any.whl (36 kB)\n",
      "Collecting zipp>=3.1.0\n",
      "  Using cached zipp-3.5.0-py3-none-any.whl (5.7 kB)\n",
      "Using legacy 'setup.py install' for antlr4-python3-runtime, since package 'wheel' is not installed.\n",
      "Installing collected packages: zipp, PyYAML, antlr4-python3-runtime, urllib3, ruamel.yaml.clib, omegaconf, importlib-resources, idna, charset-normalizer, certifi, sacn, ruamel.yaml, requests, pygame, hydra-core, dictdiffer\n",
      "    Running setup.py install for antlr4-python3-runtime: started\n",
      "    Running setup.py install for antlr4-python3-runtime: finished with status 'done'\n",
      "Successfully installed PyYAML-5.4.1 antlr4-python3-runtime-4.8 certifi-2021.5.30 charset-normalizer-2.0.4 dictdiffer-0.9.0 hydra-core-1.1.1 idna-3.2 importlib-resources-5.2.2 omegaconf-2.1.1 pygame-2.0.1 requests-2.26.0 ruamel.yaml-0.17.16 ruamel.yaml.clib-0.2.6 sacn-1.8.1 urllib3-1.26.6 zipp-3.5.0\n",
      "\n",
      "c:\\Users\\okdim\\YandexDisk\\coding_leisure\\touch_designer\\Svetlitsa_control>"
     ]
    },
    {
     "name": "stderr",
     "output_type": "stream",
     "text": [
      "WARNING: Target directory c:\\Users\\okdim\\YandexDisk\\coding_leisure\\touch_designer\\Svetlitsa_control\\dep\\python\\pygame already exists. Specify --upgrade to force replacement.\n",
      "WARNING: Target directory c:\\Users\\okdim\\YandexDisk\\coding_leisure\\touch_designer\\Svetlitsa_control\\dep\\python\\pygame-2.0.1.dist-info already exists. Specify --upgrade to force replacement.\n",
      "WARNING: Target directory c:\\Users\\okdim\\YandexDisk\\coding_leisure\\touch_designer\\Svetlitsa_control\\dep\\python\\ruamel already exists. Specify --upgrade to force replacement.\n",
      "WARNING: Target directory c:\\Users\\okdim\\YandexDisk\\coding_leisure\\touch_designer\\Svetlitsa_control\\dep\\python\\ruamel.yaml-0.17.16-py3.9-nspkg.pth already exists. Specify --upgrade to force replacement.\n",
      "WARNING: Target directory c:\\Users\\okdim\\YandexDisk\\coding_leisure\\touch_designer\\Svetlitsa_control\\dep\\python\\ruamel.yaml-0.17.16.dist-info already exists. Specify --upgrade to force replacement.\n",
      "WARNING: Target directory c:\\Users\\okdim\\YandexDisk\\coding_leisure\\touch_designer\\Svetlitsa_control\\dep\\python\\ruamel.yaml.clib-0.2.6.dist-info already exists. Specify --upgrade to force replacement.\n",
      "WARNING: Target directory c:\\Users\\okdim\\YandexDisk\\coding_leisure\\touch_designer\\Svetlitsa_control\\dep\\python\\sacn already exists. Specify --upgrade to force replacement.\n",
      "WARNING: Target directory c:\\Users\\okdim\\YandexDisk\\coding_leisure\\touch_designer\\Svetlitsa_control\\dep\\python\\sacn-1.8.1.dist-info already exists. Specify --upgrade to force replacement.\n",
      "WARNING: Target directory c:\\Users\\okdim\\YandexDisk\\coding_leisure\\touch_designer\\Svetlitsa_control\\dep\\python\\_ruamel_yaml.cp37-win_amd64.pyd already exists. Specify --upgrade to force replacement.\n",
      "WARNING: Target directory c:\\Users\\okdim\\YandexDisk\\coding_leisure\\touch_designer\\Svetlitsa_control\\dep\\python\\include already exists. Specify --upgrade to force replacement.\n"
     ]
    }
   ],
   "source": [
    "%%cmd\n",
    "py -m pip install -r requirements.txt --target=\"./dep/python\""
   ]
  },
  {
   "cell_type": "code",
   "execution_count": 1,
   "metadata": {},
   "outputs": [
    {
     "data": {
      "text/plain": [
       "'c:\\\\Users\\\\okdim\\\\.vscode\\\\extensions\\\\ms-toolsai.jupyter-2021.8.2041215044\\\\pythonFiles;c:\\\\Users\\\\okdim\\\\.vscode\\\\extensions\\\\ms-toolsai.jupyter-2021.8.2041215044\\\\pythonFiles\\\\lib\\\\python'"
      ]
     },
     "execution_count": 1,
     "metadata": {},
     "output_type": "execute_result"
    }
   ],
   "source": [
    "os.environ[\"PYTHONPATH\"]"
   ]
  },
  {
   "cell_type": "code",
   "execution_count": 1,
   "metadata": {},
   "outputs": [
    {
     "name": "stdout",
     "output_type": "stream",
     "text": [
      "\\t\n"
     ]
    }
   ],
   "source": [
    "print(r\"\"\"\\t\"\"\")"
   ]
  },
  {
   "cell_type": "code",
   "execution_count": 1,
   "metadata": {},
   "outputs": [
    {
     "data": {
      "text/plain": [
       "['c:/Users/okdim/YandexDisk/coding_leisure/touch_designer/Svetlitsa_control/dep/python/',\n",
       " 'c:\\\\Users\\\\okdim\\\\YandexDisk\\\\coding_leisure\\\\touch_designer\\\\Svetlitsa_control',\n",
       " 'c:\\\\Users\\\\okdim\\\\.vscode\\\\extensions\\\\ms-toolsai.jupyter-2021.8.2041215044\\\\pythonFiles\\\\vscode_datascience_helpers',\n",
       " 'c:\\\\Users\\\\okdim\\\\.vscode\\\\extensions\\\\ms-toolsai.jupyter-2021.8.2041215044\\\\pythonFiles',\n",
       " 'c:\\\\Users\\\\okdim\\\\.vscode\\\\extensions\\\\ms-toolsai.jupyter-2021.8.2041215044\\\\pythonFiles\\\\lib\\\\python',\n",
       " 'C:\\\\Program Files\\\\Python37\\\\python37.zip',\n",
       " 'C:\\\\Program Files\\\\Python37\\\\DLLs',\n",
       " 'C:\\\\Program Files\\\\Python37\\\\lib',\n",
       " 'C:\\\\Program Files\\\\Python37',\n",
       " '',\n",
       " 'C:\\\\Users\\\\okdim\\\\AppData\\\\Roaming\\\\Python\\\\Python37\\\\site-packages',\n",
       " 'C:\\\\Users\\\\okdim\\\\AppData\\\\Roaming\\\\Python\\\\Python37\\\\site-packages\\\\win32',\n",
       " 'C:\\\\Users\\\\okdim\\\\AppData\\\\Roaming\\\\Python\\\\Python37\\\\site-packages\\\\win32\\\\lib',\n",
       " 'C:\\\\Users\\\\okdim\\\\AppData\\\\Roaming\\\\Python\\\\Python37\\\\site-packages\\\\Pythonwin',\n",
       " 'C:\\\\Program Files\\\\Python37\\\\lib\\\\site-packages',\n",
       " 'C:\\\\Users\\\\okdim\\\\AppData\\\\Roaming\\\\Python\\\\Python37\\\\site-packages\\\\IPython\\\\extensions',\n",
       " 'C:\\\\Users\\\\okdim\\\\.ipython']"
      ]
     },
     "execution_count": 1,
     "metadata": {},
     "output_type": "execute_result"
    }
   ],
   "source": [
    "sys.path"
   ]
  },
  {
   "cell_type": "markdown",
   "metadata": {},
   "source": [
    "One has to add to his settings.json for VSCode"
   ]
  },
  {
   "cell_type": "raw",
   "metadata": {},
   "source": [
    "\"jupyter.runStartupCommands\": [\n",
    "    \"import os\",\n",
    "    \"print('activation OK')\",\n",
    "    \"workspace=r\\\"\\\"\\\"${workspaceFolder}\\\"\\\"\\\"\",\n",
    "    \"workspace=workspace.replace('\\\\\\\\', '/')\",\n",
    "    \"with open('c:/Users/okdim/YandexDisk/coding_leisure/touch_designer/Svetlitsa_control/vscode_init_debug', 'w') as f:\",\n",
    "    \"  f.write(workspace)\"\n",
    "],"
   ]
  },
  {
   "cell_type": "markdown",
   "metadata": {},
   "source": []
  },
  {
   "cell_type": "raw",
   "metadata": {},
   "source": []
  }
 ],
 "metadata": {
  "interpreter": {
   "hash": "0600588c3b5f4418cbe7b5ebc6825b479f3bc010269d8b60d75058cdd010adfe"
  },
  "kernelspec": {
   "display_name": "Python 3.7.2 64-bit",
   "name": "python3"
  },
  "language_info": {
   "codemirror_mode": {
    "name": "ipython",
    "version": 3
   },
   "file_extension": ".py",
   "mimetype": "text/x-python",
   "name": "python",
   "nbconvert_exporter": "python",
   "pygments_lexer": "ipython3",
   "version": "3.7.2"
  },
  "orig_nbformat": 4
 },
 "nbformat": 4,
 "nbformat_minor": 2
}
