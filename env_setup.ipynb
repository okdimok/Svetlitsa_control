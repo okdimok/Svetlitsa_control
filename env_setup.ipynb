{
 "cells": [
  {
   "cell_type": "markdown",
   "source": [
    "See [Mir github](https://github.com/mir-lab/touchdesigner-summit-2019-external-python) and [Mir youtube](https://www.youtube.com/playlist?list=PLBjvv2l4Z43gfg65BUGGQDz2ue10eTgjK) for the details"
   ],
   "metadata": {}
  },
  {
   "cell_type": "code",
   "execution_count": 7,
   "source": [
    "%%cmd\n",
    "py -m pip install --upgrade --user pip"
   ],
   "outputs": [
    {
     "output_type": "stream",
     "name": "stdout",
     "text": [
      "Microsoft Windows [Version 10.0.19041.1165]\n",
      "(c) ��௮��� �������� (Microsoft Corporation). �� �ࠢ� ���饭�.\n",
      "\n",
      "c:\\Users\\okdim\\YandexDisk\\coding_leisure\\touch_designer\\Svetlitsa_control>py -m pip install --upgrade --user pip\n",
      "Requirement already satisfied: pip in c:\\users\\okdim\\appdata\\roaming\\python\\python37\\site-packages (21.2.4)\n",
      "\n",
      "c:\\Users\\okdim\\YandexDisk\\coding_leisure\\touch_designer\\Svetlitsa_control>"
     ]
    }
   ],
   "metadata": {}
  },
  {
   "cell_type": "code",
   "execution_count": 11,
   "source": [
    "!pwd"
   ],
   "outputs": [
    {
     "output_type": "stream",
     "name": "stderr",
     "text": [
      "\"pwd\" �� ���� ����७��� ��� ���譥�\n",
      "��������, �ᯮ��塞�� �ணࠬ��� ��� ������ 䠩���.\n"
     ]
    }
   ],
   "metadata": {}
  },
  {
   "cell_type": "code",
   "execution_count": 10,
   "source": [
    "%%cmd\n",
    "py -m pip install -r requirements.txt --target=\"./dep/python\""
   ],
   "outputs": [
    {
     "output_type": "stream",
     "name": "stdout",
     "text": [
      "Microsoft Windows [Version 10.0.19041.1165]\n",
      "(c) ��௮��� �������� (Microsoft Corporation). �� �ࠢ� ���饭�.\n",
      "\n",
      "c:\\Users\\okdim\\YandexDisk\\coding_leisure\\touch_designer\\Svetlitsa_control>py -m pip install -r requirements.txt --target=\"./dep/python\"\n",
      "Collecting sacn\n",
      "  Using cached sacn-1.8.1-py3-none-any.whl (47 kB)\n",
      "Collecting ruamel.yaml\n",
      "  Using cached ruamel.yaml-0.17.16-py3-none-any.whl (109 kB)\n",
      "Collecting pygame\n",
      "  Using cached pygame-2.0.1-cp37-cp37m-win_amd64.whl (5.2 MB)\n",
      "Collecting hydra-core\n",
      "  Downloading hydra_core-1.1.1-py3-none-any.whl (145 kB)\n",
      "Collecting dictdiffer\n",
      "  Downloading dictdiffer-0.9.0-py2.py3-none-any.whl (16 kB)\n",
      "Collecting requests\n",
      "  Using cached requests-2.26.0-py2.py3-none-any.whl (62 kB)\n",
      "Collecting ruamel.yaml.clib>=0.1.2\n",
      "  Using cached ruamel.yaml.clib-0.2.6-cp37-cp37m-win_amd64.whl (115 kB)\n",
      "Collecting importlib-resources\n",
      "  Downloading importlib_resources-5.2.2-py3-none-any.whl (27 kB)\n",
      "Collecting antlr4-python3-runtime==4.8\n",
      "  Downloading antlr4-python3-runtime-4.8.tar.gz (112 kB)\n",
      "Collecting omegaconf==2.1.*\n",
      "  Downloading omegaconf-2.1.1-py3-none-any.whl (74 kB)\n",
      "Collecting PyYAML>=5.1.0\n",
      "  Downloading PyYAML-5.4.1-cp37-cp37m-win_amd64.whl (210 kB)\n",
      "Collecting urllib3<1.27,>=1.21.1\n",
      "  Using cached urllib3-1.26.6-py2.py3-none-any.whl (138 kB)\n",
      "Collecting certifi>=2017.4.17\n",
      "  Using cached certifi-2021.5.30-py2.py3-none-any.whl (145 kB)\n",
      "Collecting idna<4,>=2.5\n",
      "  Using cached idna-3.2-py3-none-any.whl (59 kB)\n",
      "Collecting charset-normalizer~=2.0.0\n",
      "  Using cached charset_normalizer-2.0.4-py3-none-any.whl (36 kB)\n",
      "Collecting zipp>=3.1.0\n",
      "  Using cached zipp-3.5.0-py3-none-any.whl (5.7 kB)\n",
      "Using legacy 'setup.py install' for antlr4-python3-runtime, since package 'wheel' is not installed.\n",
      "Installing collected packages: zipp, PyYAML, antlr4-python3-runtime, urllib3, ruamel.yaml.clib, omegaconf, importlib-resources, idna, charset-normalizer, certifi, sacn, ruamel.yaml, requests, pygame, hydra-core, dictdiffer\n",
      "    Running setup.py install for antlr4-python3-runtime: started\n",
      "    Running setup.py install for antlr4-python3-runtime: finished with status 'done'\n",
      "Successfully installed PyYAML-5.4.1 antlr4-python3-runtime-4.8 certifi-2021.5.30 charset-normalizer-2.0.4 dictdiffer-0.9.0 hydra-core-1.1.1 idna-3.2 importlib-resources-5.2.2 omegaconf-2.1.1 pygame-2.0.1 requests-2.26.0 ruamel.yaml-0.17.16 ruamel.yaml.clib-0.2.6 sacn-1.8.1 urllib3-1.26.6 zipp-3.5.0\n",
      "\n",
      "c:\\Users\\okdim\\YandexDisk\\coding_leisure\\touch_designer\\Svetlitsa_control>"
     ]
    },
    {
     "output_type": "stream",
     "name": "stderr",
     "text": [
      "WARNING: Target directory c:\\Users\\okdim\\YandexDisk\\coding_leisure\\touch_designer\\Svetlitsa_control\\dep\\python\\pygame already exists. Specify --upgrade to force replacement.\n",
      "WARNING: Target directory c:\\Users\\okdim\\YandexDisk\\coding_leisure\\touch_designer\\Svetlitsa_control\\dep\\python\\pygame-2.0.1.dist-info already exists. Specify --upgrade to force replacement.\n",
      "WARNING: Target directory c:\\Users\\okdim\\YandexDisk\\coding_leisure\\touch_designer\\Svetlitsa_control\\dep\\python\\ruamel already exists. Specify --upgrade to force replacement.\n",
      "WARNING: Target directory c:\\Users\\okdim\\YandexDisk\\coding_leisure\\touch_designer\\Svetlitsa_control\\dep\\python\\ruamel.yaml-0.17.16-py3.9-nspkg.pth already exists. Specify --upgrade to force replacement.\n",
      "WARNING: Target directory c:\\Users\\okdim\\YandexDisk\\coding_leisure\\touch_designer\\Svetlitsa_control\\dep\\python\\ruamel.yaml-0.17.16.dist-info already exists. Specify --upgrade to force replacement.\n",
      "WARNING: Target directory c:\\Users\\okdim\\YandexDisk\\coding_leisure\\touch_designer\\Svetlitsa_control\\dep\\python\\ruamel.yaml.clib-0.2.6.dist-info already exists. Specify --upgrade to force replacement.\n",
      "WARNING: Target directory c:\\Users\\okdim\\YandexDisk\\coding_leisure\\touch_designer\\Svetlitsa_control\\dep\\python\\sacn already exists. Specify --upgrade to force replacement.\n",
      "WARNING: Target directory c:\\Users\\okdim\\YandexDisk\\coding_leisure\\touch_designer\\Svetlitsa_control\\dep\\python\\sacn-1.8.1.dist-info already exists. Specify --upgrade to force replacement.\n",
      "WARNING: Target directory c:\\Users\\okdim\\YandexDisk\\coding_leisure\\touch_designer\\Svetlitsa_control\\dep\\python\\_ruamel_yaml.cp37-win_amd64.pyd already exists. Specify --upgrade to force replacement.\n",
      "WARNING: Target directory c:\\Users\\okdim\\YandexDisk\\coding_leisure\\touch_designer\\Svetlitsa_control\\dep\\python\\include already exists. Specify --upgrade to force replacement.\n"
     ]
    }
   ],
   "metadata": {}
  },
  {
   "cell_type": "code",
   "execution_count": 1,
   "source": [
    "os.environ[\"PYTHONPATH\"]"
   ],
   "outputs": [
    {
     "output_type": "execute_result",
     "data": {
      "text/plain": [
       "'c:\\\\Users\\\\okdim\\\\.vscode\\\\extensions\\\\ms-toolsai.jupyter-2021.8.2041215044\\\\pythonFiles;c:\\\\Users\\\\okdim\\\\.vscode\\\\extensions\\\\ms-toolsai.jupyter-2021.8.2041215044\\\\pythonFiles\\\\lib\\\\python'"
      ]
     },
     "metadata": {},
     "execution_count": 1
    }
   ],
   "metadata": {}
  },
  {
   "cell_type": "code",
   "execution_count": 1,
   "source": [
    "print(r\"\"\"\\t\"\"\")"
   ],
   "outputs": [
    {
     "output_type": "stream",
     "name": "stdout",
     "text": [
      "\\t\n"
     ]
    }
   ],
   "metadata": {}
  },
  {
   "cell_type": "code",
   "execution_count": 1,
   "source": [
    "sys.path"
   ],
   "outputs": [
    {
     "output_type": "execute_result",
     "data": {
      "text/plain": [
       "['c:/Users/okdim/YandexDisk/coding_leisure/touch_designer/Svetlitsa_control/dep/python/',\n",
       " 'c:\\\\Users\\\\okdim\\\\YandexDisk\\\\coding_leisure\\\\touch_designer\\\\Svetlitsa_control',\n",
       " 'c:\\\\Users\\\\okdim\\\\.vscode\\\\extensions\\\\ms-toolsai.jupyter-2021.8.2041215044\\\\pythonFiles\\\\vscode_datascience_helpers',\n",
       " 'c:\\\\Users\\\\okdim\\\\.vscode\\\\extensions\\\\ms-toolsai.jupyter-2021.8.2041215044\\\\pythonFiles',\n",
       " 'c:\\\\Users\\\\okdim\\\\.vscode\\\\extensions\\\\ms-toolsai.jupyter-2021.8.2041215044\\\\pythonFiles\\\\lib\\\\python',\n",
       " 'C:\\\\Program Files\\\\Python37\\\\python37.zip',\n",
       " 'C:\\\\Program Files\\\\Python37\\\\DLLs',\n",
       " 'C:\\\\Program Files\\\\Python37\\\\lib',\n",
       " 'C:\\\\Program Files\\\\Python37',\n",
       " '',\n",
       " 'C:\\\\Users\\\\okdim\\\\AppData\\\\Roaming\\\\Python\\\\Python37\\\\site-packages',\n",
       " 'C:\\\\Users\\\\okdim\\\\AppData\\\\Roaming\\\\Python\\\\Python37\\\\site-packages\\\\win32',\n",
       " 'C:\\\\Users\\\\okdim\\\\AppData\\\\Roaming\\\\Python\\\\Python37\\\\site-packages\\\\win32\\\\lib',\n",
       " 'C:\\\\Users\\\\okdim\\\\AppData\\\\Roaming\\\\Python\\\\Python37\\\\site-packages\\\\Pythonwin',\n",
       " 'C:\\\\Program Files\\\\Python37\\\\lib\\\\site-packages',\n",
       " 'C:\\\\Users\\\\okdim\\\\AppData\\\\Roaming\\\\Python\\\\Python37\\\\site-packages\\\\IPython\\\\extensions',\n",
       " 'C:\\\\Users\\\\okdim\\\\.ipython']"
      ]
     },
     "metadata": {},
     "execution_count": 1
    }
   ],
   "metadata": {}
  },
  {
   "cell_type": "markdown",
   "source": [
    "One has to add to his settings.json for VSCode"
   ],
   "metadata": {}
  },
  {
   "cell_type": "raw",
   "source": [
    "\"jupyter.runStartupCommands\": [\n",
    "    \"import os\",\n",
    "    \"print('activation OK')\",\n",
    "    \"workspace=r\\\"\\\"\\\"${workspaceFolder}\\\"\\\"\\\"\",\n",
    "    \"workspace=workspace.replace('\\\\\\\\', '/')\",\n",
    "    \"with open('c:/Users/okdim/YandexDisk/coding_leisure/touch_designer/Svetlitsa_control/vscode_init_debug', 'w') as f:\",\n",
    "    \"  f.write(workspace)\"\n",
    "],"
   ],
   "metadata": {}
  }
 ],
 "metadata": {
  "orig_nbformat": 4,
  "language_info": {
   "name": "python",
   "version": "3.7.2",
   "mimetype": "text/x-python",
   "codemirror_mode": {
    "name": "ipython",
    "version": 3
   },
   "pygments_lexer": "ipython3",
   "nbconvert_exporter": "python",
   "file_extension": ".py"
  },
  "kernelspec": {
   "name": "python3",
   "display_name": "Python 3.7.2 64-bit"
  },
  "interpreter": {
   "hash": "0600588c3b5f4418cbe7b5ebc6825b479f3bc010269d8b60d75058cdd010adfe"
  }
 },
 "nbformat": 4,
 "nbformat_minor": 2
}