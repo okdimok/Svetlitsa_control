{
 "cells": [
  {
   "cell_type": "code",
   "execution_count": 21,
   "metadata": {},
   "outputs": [],
   "source": [
    "from threading import Timer\n",
    "from timeit import repeat\n",
    "from time import sleep"
   ]
  },
  {
   "cell_type": "code",
   "execution_count": 11,
   "metadata": {},
   "outputs": [],
   "source": [
    "def f():\n",
    "    t = Timer(5., lambda: True)\n",
    "    t.start()\n",
    "    t.join()\n",
    "    print(\"boo\")\n"
   ]
  },
  {
   "cell_type": "code",
   "execution_count": 14,
   "metadata": {},
   "outputs": [
    {
     "name": "stdout",
     "output_type": "stream",
     "text": [
      "boo\n",
      "boo\n",
      "boo\n",
      "boo\n"
     ]
    },
    {
     "data": {
      "text/plain": [
       "[5.002262990004965, 5.002327894006157, 5.003140616012388, 5.001129020994995]"
      ]
     },
     "execution_count": 14,
     "metadata": {},
     "output_type": "execute_result"
    }
   ],
   "source": [
    "repeat(f, number=1, repeat=4)"
   ]
  },
  {
   "cell_type": "code",
   "execution_count": 19,
   "metadata": {},
   "outputs": [],
   "source": [
    "def g():\n",
    "    t = Timer(5., lambda: True)\n",
    "    j = Timer(3., lambda: t.cancel())\n",
    "    t.start()\n",
    "    j.start()\n",
    "    print(\"Timers started\")\n",
    "    t.join()\n",
    "    print(\"t joined\")\n",
    "    j.join()\n"
   ]
  },
  {
   "cell_type": "code",
   "execution_count": 20,
   "metadata": {},
   "outputs": [
    {
     "name": "stdout",
     "output_type": "stream",
     "text": [
      "Timers started\n",
      "t joined\n",
      "Timers started\n",
      "t joined\n"
     ]
    },
    {
     "data": {
      "text/plain": [
       "[3.0042082549916813, 3.002613728007418]"
      ]
     },
     "execution_count": 20,
     "metadata": {},
     "output_type": "execute_result"
    }
   ],
   "source": [
    "repeat(g, number=1, repeat=2)"
   ]
  },
  {
   "cell_type": "code",
   "execution_count": 23,
   "metadata": {},
   "outputs": [
    {
     "name": "stdout",
     "output_type": "stream",
     "text": [
      "boo\n"
     ]
    }
   ],
   "source": [
    "t = Timer(5., lambda: True)\n",
    "t.start()\n",
    "sleep(1)\n",
    "t.cancel()\n",
    "t.cancel()\n",
    "\n",
    "t.join()\n",
    "print(\"boo\")"
   ]
  },
  {
   "cell_type": "code",
   "execution_count": null,
   "metadata": {},
   "outputs": [],
   "source": []
  }
 ],
 "metadata": {
  "interpreter": {
   "hash": "eb5fa0c3666e44bdec72e82ef1d189280fa6e13b25c2a50cba9a6f6e7cd54400"
  },
  "kernelspec": {
   "display_name": "Python 3.7.3 32-bit ('wled-env': venv)",
   "language": "python",
   "name": "python3"
  },
  "language_info": {
   "codemirror_mode": {
    "name": "ipython",
    "version": 3
   },
   "file_extension": ".py",
   "mimetype": "text/x-python",
   "name": "python",
   "nbconvert_exporter": "python",
   "pygments_lexer": "ipython3",
   "version": "3.7.3"
  },
  "orig_nbformat": 4
 },
 "nbformat": 4,
 "nbformat_minor": 2
}
